{
 "cells": [
  {
   "cell_type": "markdown",
   "id": "e019b5cf",
   "metadata": {},
   "source": [
    "# 1. Create a NumPy array 'arr' of integers from 0 to 5 and print its data type."
   ]
  },
  {
   "cell_type": "code",
   "execution_count": 2,
   "id": "d10f307d",
   "metadata": {},
   "outputs": [
    {
     "name": "stdout",
     "output_type": "stream",
     "text": [
      "<class 'numpy.ndarray'>\n",
      "int32\n"
     ]
    }
   ],
   "source": [
    "import numpy as np\n",
    "arr=np.array([0,2,3,4,5])\n",
    "print(type(arr))\n",
    "print(arr.dtype)"
   ]
  },
  {
   "cell_type": "markdown",
   "id": "ba381a22",
   "metadata": {},
   "source": [
    "# 2. Given a NumPy array 'arr', check if its data type is float64. \n"
   ]
  },
  {
   "cell_type": "code",
   "execution_count": 3,
   "id": "f46e58dc",
   "metadata": {},
   "outputs": [
    {
     "name": "stdout",
     "output_type": "stream",
     "text": [
      "float64\n"
     ]
    }
   ],
   "source": [
    "arr = np.array([1.5, 2.6, 3.7])\n",
    "print(arr.dtype)"
   ]
  },
  {
   "cell_type": "markdown",
   "id": "481e01bb",
   "metadata": {},
   "source": [
    "#  3. Create a NumPy array 'arr' with a data type of complex128 containing three complex numbers."
   ]
  },
  {
   "cell_type": "code",
   "execution_count": 4,
   "id": "dfddec63",
   "metadata": {},
   "outputs": [
    {
     "name": "stdout",
     "output_type": "stream",
     "text": [
      "complex128\n"
     ]
    }
   ],
   "source": [
    "arr=np.array([1+3.j,2+4.j,5+6.j])\n",
    "print(arr.dtype)"
   ]
  },
  {
   "cell_type": "markdown",
   "id": "a45870c9",
   "metadata": {},
   "source": [
    "# 4.  Convert an existing NumPy array 'arr' of integers to float32 data type"
   ]
  },
  {
   "cell_type": "code",
   "execution_count": 8,
   "id": "8398c7a6",
   "metadata": {},
   "outputs": [
    {
     "data": {
      "text/plain": [
       "array([1., 2., 3.], dtype=float32)"
      ]
     },
     "execution_count": 8,
     "metadata": {},
     "output_type": "execute_result"
    }
   ],
   "source": [
    "arr = np.array([1, 2, 3])\n",
    "arr_f=arr.astype(np.float32)\n",
    "arr_f"
   ]
  },
  {
   "cell_type": "markdown",
   "id": "eecffe14",
   "metadata": {},
   "source": [
    "#  5. Given a NumPy array 'arr' with float64 data type, convert it to float32 to reduce decimal precision"
   ]
  },
  {
   "cell_type": "code",
   "execution_count": 4,
   "id": "6e57f5e1",
   "metadata": {},
   "outputs": [
    {
     "name": "stdout",
     "output_type": "stream",
     "text": [
      "float64\n",
      "float32\n"
     ]
    }
   ],
   "source": [
    "import numpy as np\n",
    "arr=np.array([1.5,2.6,3.7])\n",
    "print(arr.dtype)\n",
    "\n",
    "arr_f=arr.astype(np.float32)\n",
    "print(arr_f.dtype)"
   ]
  },
  {
   "cell_type": "markdown",
   "id": "ef7897ad",
   "metadata": {},
   "source": [
    "# 6. Write a function array_attributes that takes a NumPy array as input and returns its shape, size, and data type."
   ]
  },
  {
   "cell_type": "code",
   "execution_count": 9,
   "id": "0172f763",
   "metadata": {},
   "outputs": [
    {
     "name": "stdout",
     "output_type": "stream",
     "text": [
      "((3,), 3, dtype('int32'))\n"
     ]
    }
   ],
   "source": [
    "def array_attribtes(arr):\n",
    "    shape=arr.shape\n",
    "    size=arr.size\n",
    "    datype=arr.dtype\n",
    "    return shape,size,datype\n",
    "\n",
    "arr=np.array([1,2,3])\n",
    "print(array_attribtes(arr))\n",
    "    "
   ]
  },
  {
   "cell_type": "markdown",
   "id": "41c8f2dc",
   "metadata": {},
   "source": [
    "# 7. Create a function array_dimension that takes a NumPy array as input and returns its dimensionality"
   ]
  },
  {
   "cell_type": "code",
   "execution_count": 5,
   "id": "db9e1feb",
   "metadata": {},
   "outputs": [
    {
     "name": "stdout",
     "output_type": "stream",
     "text": [
      "(2, 3)\n"
     ]
    }
   ],
   "source": [
    "import numpy as np\n",
    "def array_dim(arr):\n",
    "    dim=arr.shape\n",
    "    return dim\n",
    "arr=np.array([[1,2,3],[1,2,3]])\n",
    "print(array_dim(arr))"
   ]
  },
  {
   "cell_type": "markdown",
   "id": "a77b43af",
   "metadata": {},
   "source": [
    "# 8. design a function item_size_info that takes a NumPy array as input and returns the item size and the total size in bytes."
   ]
  },
  {
   "cell_type": "code",
   "execution_count": 3,
   "id": "e31460e7",
   "metadata": {},
   "outputs": [
    {
     "name": "stdout",
     "output_type": "stream",
     "text": [
      "(4, 12)\n"
     ]
    }
   ],
   "source": [
    "def item_size_info(arr):\n",
    "    item_size=arr.itemsize\n",
    "    total_size=arr.nbytes\n",
    "    return item_size,total_size\n",
    "\n",
    "arr=np.array([1,2,3])\n",
    "print(item_size_info(arr))"
   ]
  },
  {
   "cell_type": "markdown",
   "id": "e77a5b60",
   "metadata": {},
   "source": [
    " # 9. Create a function array_strides that takes a NumPy array as input and returns the strides of the array."
   ]
  },
  {
   "cell_type": "code",
   "execution_count": 7,
   "id": "3bd06b56",
   "metadata": {},
   "outputs": [
    {
     "name": "stdout",
     "output_type": "stream",
     "text": [
      "(4,)\n"
     ]
    }
   ],
   "source": [
    "import numpy as np\n",
    "def strides_info(arr):\n",
    "    stride_info=arr.strides\n",
    "    return stride_info\n",
    "arr=np.array([1,5,4])\n",
    "print(strides_info(arr))"
   ]
  },
  {
   "cell_type": "markdown",
   "id": "2fb7d3b3",
   "metadata": {},
   "source": [
    "# 10. Design a function shape_stride_relationship that takes a NumPy array as input and returns the shape and strides of the array"
   ]
  },
  {
   "cell_type": "code",
   "execution_count": 8,
   "id": "c288436a",
   "metadata": {},
   "outputs": [
    {
     "name": "stdout",
     "output_type": "stream",
     "text": [
      "((4,), (3,))\n"
     ]
    }
   ],
   "source": [
    "def shape_stride_relationship(arr):\n",
    "    arr_strides=arr.strides\n",
    "    arr_shape=arr.shape\n",
    "    return arr_strides,arr_shape\n",
    "arr=np.array([1,2,3],[4,5,6])\n",
    "print(shape_stride_relationship(arr))"
   ]
  },
  {
   "cell_type": "markdown",
   "id": "f551732b",
   "metadata": {},
   "source": [
    "# 11. Create a function `create_zeros_array` that takes an integer `n` as input and returns a NumPy array of zeros with `n` elements."
   ]
  },
  {
   "cell_type": "code",
   "execution_count": 10,
   "id": "8cb5846e",
   "metadata": {},
   "outputs": [
    {
     "name": "stdout",
     "output_type": "stream",
     "text": [
      "enter the num : 5\n",
      "array = [0. 0. 0. 0. 0.]\n"
     ]
    }
   ],
   "source": [
    "def create_zeros_array(n):\n",
    "    zeros_array=np.zeros(n)\n",
    "    return zeros_array\n",
    "n=int(input(\"enter the num : \"))\n",
    "print(\"array =\",create_zeros_array(n))   "
   ]
  },
  {
   "cell_type": "markdown",
   "id": "1cf52de9",
   "metadata": {},
   "source": [
    "#  12. Write a function `create_ones_matrix` that takes integers `rows` and `cols` as inputs and generates a 2D  NumPy array filled with ones of size `rows x cols`."
   ]
  },
  {
   "cell_type": "code",
   "execution_count": 15,
   "id": "4a60f3ea",
   "metadata": {},
   "outputs": [
    {
     "name": "stdout",
     "output_type": "stream",
     "text": [
      "enter the rows5\n",
      "enter the col5\n",
      "array =  [[1. 1. 1. 1. 1.]\n",
      " [1. 1. 1. 1. 1.]]\n"
     ]
    }
   ],
   "source": [
    "def create_ones_matrix(rows,cols):\n",
    "    ones_array=np.array([np.ones(shape=rows),np.ones(shape=cols)])\n",
    "    return ones_array\n",
    "rows=int(input(\"enter the rows\"))\n",
    "cols=int(input(\"enter the col\"))\n",
    "print(\"array = \",create_ones_matrix(rows,cols))"
   ]
  },
  {
   "cell_type": "markdown",
   "id": "2931031d",
   "metadata": {},
   "source": [
    "# 13. Write a function `generate_range_array` that takes three integers start, stop, and step as arguments and  creates a NumPy array with a range starting from `start`, ending at stop (exclusive), and with the specified `step`"
   ]
  },
  {
   "cell_type": "code",
   "execution_count": 19,
   "id": "aebd0aaa",
   "metadata": {},
   "outputs": [
    {
     "name": "stdout",
     "output_type": "stream",
     "text": [
      "[1 3 5 7 9]\n"
     ]
    }
   ],
   "source": [
    "def generate_range_array(start, stop, step):\n",
    "    return np.arange(start, stop, step)\n",
    "\n",
    "arr = generate_range_array(1, 10, 2)\n",
    "print(arr)"
   ]
  },
  {
   "cell_type": "markdown",
   "id": "1cd4b308",
   "metadata": {},
   "source": [
    "# 14. Design a function `generate_linear_space` that takes two floats `start`, `stop`, and an integer `num` as  arguments and generates a NumPy array with num equally spaced values between `start` and `stop`  (inclusive)."
   ]
  },
  {
   "cell_type": "code",
   "execution_count": 21,
   "id": "1c95ddb8",
   "metadata": {},
   "outputs": [
    {
     "name": "stdout",
     "output_type": "stream",
     "text": [
      "[ 1.    3.25  5.5   7.75 10.  ]\n"
     ]
    }
   ],
   "source": [
    "def generate_linear_space(start,stop,num): # two floats start, stop, and an integer num\n",
    "    return np.linspace(start,stop,num)\n",
    "\n",
    "arr=generate_linear_space(1.0,10.0,5)\n",
    "print(arr)\n",
    "    "
   ]
  },
  {
   "cell_type": "markdown",
   "id": "a958ac66",
   "metadata": {},
   "source": [
    "# 15. Create a function `create_identity_matrix` that takes an integer `n` as input and generates a square  identity matrix of size `n x n` using `numpy.eye`."
   ]
  },
  {
   "cell_type": "code",
   "execution_count": 22,
   "id": "1ce50bcd",
   "metadata": {},
   "outputs": [
    {
     "data": {
      "text/plain": [
       "array([[1., 0., 0., 0.],\n",
       "       [0., 1., 0., 0.],\n",
       "       [0., 0., 1., 0.],\n",
       "       [0., 0., 0., 1.]])"
      ]
     },
     "execution_count": 22,
     "metadata": {},
     "output_type": "execute_result"
    }
   ],
   "source": [
    "def create_identity_matrix(n):\n",
    "    return np.eye(n)\n",
    "arr=create_identity_matrix(4)\n",
    "arr"
   ]
  },
  {
   "cell_type": "markdown",
   "id": "fbc78f09",
   "metadata": {},
   "source": [
    "# 16. Write a function that takes a Python list and converts it into a NumPy array"
   ]
  },
  {
   "cell_type": "code",
   "execution_count": 23,
   "id": "94696584",
   "metadata": {},
   "outputs": [
    {
     "data": {
      "text/plain": [
       "array([1, 2, 2, 4])"
      ]
     },
     "execution_count": 23,
     "metadata": {},
     "output_type": "execute_result"
    }
   ],
   "source": [
    "def create_array(l1):\n",
    "    return np.array(l1)\n",
    "l1=[1,2,2,4]\n",
    "arr=create_array(l1)\n",
    "arr\n"
   ]
  },
  {
   "cell_type": "markdown",
   "id": "6d916a54",
   "metadata": {},
   "source": [
    "# 17. Create a NumPy array and demonstrate the use of `numpy.view` to create a new array object with the same data.\n"
   ]
  },
  {
   "cell_type": "code",
   "execution_count": 24,
   "id": "1547a1bd",
   "metadata": {},
   "outputs": [
    {
     "name": "stdout",
     "output_type": "stream",
     "text": [
      "[1 2 6]\n",
      "[1 2 6]\n"
     ]
    }
   ],
   "source": [
    "arr=np.array([1,2,6])\n",
    "print(arr)\n",
    "arr_view=arr.view()\n",
    "print(arr_view)"
   ]
  },
  {
   "cell_type": "markdown",
   "id": "2f4c4396",
   "metadata": {},
   "source": [
    "# 18. Write a function that takes two NumPy arrays and concatenates them along a specified axis."
   ]
  },
  {
   "cell_type": "code",
   "execution_count": 26,
   "id": "942856af",
   "metadata": {},
   "outputs": [
    {
     "data": {
      "text/plain": [
       "array([[1, 2, 3],\n",
       "       [4, 5, 6],\n",
       "       [4, 5, 6],\n",
       "       [7, 8, 9]])"
      ]
     },
     "execution_count": 26,
     "metadata": {},
     "output_type": "execute_result"
    }
   ],
   "source": [
    "def concatenates_array(arrr1,arr2):\n",
    "    conc_array=np.concatenate((arr1,arr2),axis=0)\n",
    "    return conc_array \n",
    "arr1=np.array([[1,2,3],[4,5,6]])\n",
    "arr2=np.array([[4,5,6],[7,8,9]])\n",
    "concatenates_array(arr1,arr2)\n"
   ]
  },
  {
   "cell_type": "markdown",
   "id": "09d35c5f",
   "metadata": {},
   "source": [
    "#  19.  Create two NumPy arrays with different shapes and concatenate them horizontally using `numpy. concatenate`."
   ]
  },
  {
   "cell_type": "code",
   "execution_count": 30,
   "id": "afc5eedd",
   "metadata": {},
   "outputs": [
    {
     "data": {
      "text/plain": [
       "array([[1, 2, 3, 4, 5, 6],\n",
       "       [4, 5, 6, 7, 8, 9]])"
      ]
     },
     "execution_count": 30,
     "metadata": {},
     "output_type": "execute_result"
    }
   ],
   "source": [
    "def concatenates_array(arrr1,arr2):\n",
    "    conc_array=np.concatenate((arr1,arr2),axis=1)\n",
    "    return conc_array \n",
    "arr1=np.array([[1,2,3],[4,5,6]])\n",
    "arr2=np.array([[4,5,6],[7,8,9]])\n",
    "concatenates_array(arr1,arr2)\n"
   ]
  },
  {
   "cell_type": "markdown",
   "id": "bca852f3",
   "metadata": {},
   "source": [
    "#  20. Write a function that vertically stacks multiple NumPy arrays given as a list."
   ]
  },
  {
   "cell_type": "code",
   "execution_count": 31,
   "id": "af70a2fa",
   "metadata": {},
   "outputs": [
    {
     "name": "stdout",
     "output_type": "stream",
     "text": [
      "Vertically Stacked Array:\n",
      " [[ 1  2]\n",
      " [ 3  4]\n",
      " [ 5  6]\n",
      " [ 7  8]\n",
      " [ 9 10]\n",
      " [11 12]]\n"
     ]
    }
   ],
   "source": [
    "def vertical_stack_arrays(arr_list):\n",
    "    return np.vstack(arr_list)\n",
    "\n",
    "arr1 = np.array([[1, 2], [3, 4]])\n",
    "arr2 = np.array([[5, 6], [7, 8]])\n",
    "arr3 = np.array([[9, 10], [11, 12]])\n",
    "\n",
    "result = vertical_stack_arrays([arr1, arr2, arr3])\n",
    "print(\"Vertically Stacked Array:\\n\", result)"
   ]
  },
  {
   "cell_type": "markdown",
   "id": "cfd39a13",
   "metadata": {},
   "source": [
    "# 21. Write a Python function using NumPy to create an array of integers within a specified range (inclusive)  with a given step size."
   ]
  },
  {
   "cell_type": "code",
   "execution_count": 1,
   "id": "32107844",
   "metadata": {},
   "outputs": [
    {
     "name": "stdout",
     "output_type": "stream",
     "text": [
      "[1 3 5 7 9]\n"
     ]
    }
   ],
   "source": [
    "import numpy as np\n",
    "\n",
    "def create_range_array(start, stop, step):\n",
    "    return np.arange(start, stop + 1, step)  # Adding 1 to stop to make it inclusive\n",
    "\n",
    "arr = create_range_array(1, 10, 2)\n",
    "print(arr)  # Output: [ 1  3  5  7  9]\n"
   ]
  },
  {
   "cell_type": "markdown",
   "id": "008472ba",
   "metadata": {},
   "source": [
    "#  22. Write a Python function using NumPy to generate an array of 10 equally spaced values between 0 and 1 (inclusive)."
   ]
  },
  {
   "cell_type": "code",
   "execution_count": 2,
   "id": "8d308796",
   "metadata": {},
   "outputs": [
    {
     "data": {
      "text/plain": [
       "array([0. , 0.5, 1. , 1.5, 2. ])"
      ]
     },
     "execution_count": 2,
     "metadata": {},
     "output_type": "execute_result"
    }
   ],
   "source": [
    "def create_range_array(start,stop,step):\n",
    "    return np.linspace(start,stop+1,step)\n",
    "arr=create_range_array(0,1,5)\n",
    "arr"
   ]
  },
  {
   "cell_type": "markdown",
   "id": "ebb0f647",
   "metadata": {},
   "source": [
    "# 23. Write a Python function using NumPy to create an array of 5 logarithmically spaced values between 1 and  1000 (inclusive)."
   ]
  },
  {
   "cell_type": "code",
   "execution_count": 4,
   "id": "ebe6234b",
   "metadata": {},
   "outputs": [
    {
     "data": {
      "text/plain": [
       "array([1.00000000e+000, 1.77827941e+025, 3.16227766e+050, 5.62341325e+075,\n",
       "       1.00000000e+101])"
      ]
     },
     "execution_count": 4,
     "metadata": {},
     "output_type": "execute_result"
    }
   ],
   "source": [
    "def create_range_array(start,stop,step):\n",
    "    return np.logspace(start,stop+1,step)\n",
    "arr=create_range_array(0,100,5)\n",
    "arr"
   ]
  },
  {
   "cell_type": "markdown",
   "id": "f3793dc7",
   "metadata": {},
   "source": [
    "# 24. Create a Pandas DataFrame using a NumPy array that contains 5 rows and 3 columns, where the values  are random integers between 1 and 100."
   ]
  },
  {
   "cell_type": "code",
   "execution_count": 39,
   "id": "023530d5",
   "metadata": {},
   "outputs": [
    {
     "data": {
      "text/html": [
       "<div>\n",
       "<style scoped>\n",
       "    .dataframe tbody tr th:only-of-type {\n",
       "        vertical-align: middle;\n",
       "    }\n",
       "\n",
       "    .dataframe tbody tr th {\n",
       "        vertical-align: top;\n",
       "    }\n",
       "\n",
       "    .dataframe thead th {\n",
       "        text-align: right;\n",
       "    }\n",
       "</style>\n",
       "<table border=\"1\" class=\"dataframe\">\n",
       "  <thead>\n",
       "    <tr style=\"text-align: right;\">\n",
       "      <th></th>\n",
       "      <th>A</th>\n",
       "      <th>B</th>\n",
       "      <th>C</th>\n",
       "    </tr>\n",
       "  </thead>\n",
       "  <tbody>\n",
       "    <tr>\n",
       "      <th>0</th>\n",
       "      <td>90</td>\n",
       "      <td>75</td>\n",
       "      <td>22</td>\n",
       "    </tr>\n",
       "    <tr>\n",
       "      <th>1</th>\n",
       "      <td>81</td>\n",
       "      <td>33</td>\n",
       "      <td>53</td>\n",
       "    </tr>\n",
       "    <tr>\n",
       "      <th>2</th>\n",
       "      <td>41</td>\n",
       "      <td>51</td>\n",
       "      <td>22</td>\n",
       "    </tr>\n",
       "    <tr>\n",
       "      <th>3</th>\n",
       "      <td>1</td>\n",
       "      <td>11</td>\n",
       "      <td>93</td>\n",
       "    </tr>\n",
       "    <tr>\n",
       "      <th>4</th>\n",
       "      <td>59</td>\n",
       "      <td>36</td>\n",
       "      <td>73</td>\n",
       "    </tr>\n",
       "  </tbody>\n",
       "</table>\n",
       "</div>"
      ],
      "text/plain": [
       "    A   B   C\n",
       "0  90  75  22\n",
       "1  81  33  53\n",
       "2  41  51  22\n",
       "3   1  11  93\n",
       "4  59  36  73"
      ]
     },
     "execution_count": 39,
     "metadata": {},
     "output_type": "execute_result"
    }
   ],
   "source": [
    "import pandas as pd\n",
    "arr1=np.random.randint(1,100,size=(5,3),dtype='int')\n",
    "df=pd.DataFrame(arr1,columns=[\"A\",'B','C'])\n",
    "df"
   ]
  },
  {
   "cell_type": "markdown",
   "id": "a1d552fa",
   "metadata": {},
   "source": [
    "# 25. Write a function that takes a Pandas DataFrame and replaces all negative values in a specific column  with zeros. Use NumPy operations within the Pandas DataFrame."
   ]
  },
  {
   "cell_type": "code",
   "execution_count": 11,
   "id": "66b95312",
   "metadata": {},
   "outputs": [
    {
     "name": "stdout",
     "output_type": "stream",
     "text": [
      "oroginal data: \n",
      "     A   B\n",
      "0   1   4\n",
      "1   2 -40\n",
      "2  70   5\n",
      "3  -5 -45\n",
      "4   5   0\n",
      "5  -8  -8\n",
      "modified data:\n",
      "     A   B\n",
      "0   1   4\n",
      "1   2 -40\n",
      "2  70   5\n",
      "3   0 -45\n",
      "4   5   0\n",
      "5   0  -8\n"
     ]
    }
   ],
   "source": [
    "import pandas as pd\n",
    "import numpy as np\n",
    "\n",
    "def replaces_all_negative(df,col_name):\n",
    "    df[col_name]=np.where(df[col_name]<0,0,df[col_name])\n",
    "    return df\n",
    "data={'A':[1,2,70,-5,5,-8],'B':[4,-40,5,-45,0,-8]}\n",
    "df=pd.DataFrame(data)\n",
    "print(\"oroginal data: \\n\",df)\n",
    "print(\"modified data:\\n\",replaces_all_negative(df,'A'))"
   ]
  },
  {
   "cell_type": "markdown",
   "id": "a37aa281",
   "metadata": {},
   "source": [
    "# 26. Access the 3rd element from the given NumPy array."
   ]
  },
  {
   "cell_type": "code",
   "execution_count": 12,
   "id": "6d902345",
   "metadata": {},
   "outputs": [
    {
     "data": {
      "text/plain": [
       "30"
      ]
     },
     "execution_count": 12,
     "metadata": {},
     "output_type": "execute_result"
    }
   ],
   "source": [
    "arr = np.array([10, 20, 30, 40, 50])\n",
    "arr[2]"
   ]
  },
  {
   "cell_type": "markdown",
   "id": "99e17af2",
   "metadata": {},
   "source": [
    "#  27. Retrieve the element at index (1, 2) from the 2D NumPy array."
   ]
  },
  {
   "cell_type": "code",
   "execution_count": 15,
   "id": "24e43464",
   "metadata": {},
   "outputs": [
    {
     "data": {
      "text/plain": [
       "6"
      ]
     },
     "execution_count": 15,
     "metadata": {},
     "output_type": "execute_result"
    }
   ],
   "source": [
    "arr_2d = np.array([[1, 2, 3],\n",
    " [4, 5, 6],\n",
    " [7, 8, 9]])\n",
    "\n",
    "arr_2d[1][2]"
   ]
  },
  {
   "cell_type": "markdown",
   "id": "3a125a8c",
   "metadata": {},
   "source": [
    "#  28. Using boolean indexing, extract elements greater than 5 from the given NumPy array."
   ]
  },
  {
   "cell_type": "code",
   "execution_count": 16,
   "id": "9b136458",
   "metadata": {},
   "outputs": [
    {
     "name": "stdout",
     "output_type": "stream",
     "text": [
      "[ 8 10  7]\n"
     ]
    }
   ],
   "source": [
    " arr = np.array([3, 8, 2, 10, 5, 7])\n",
    "\n",
    "filtered_arr = arr[arr > 5]\n",
    "\n",
    "print(filtered_arr)  \n"
   ]
  },
  {
   "cell_type": "markdown",
   "id": "8e4eea29",
   "metadata": {},
   "source": [
    "# 29. Perform basic slicing to extract elements from index 2 to 5 (inclusive) from the given NumPy array."
   ]
  },
  {
   "cell_type": "code",
   "execution_count": 17,
   "id": "0a2ba931",
   "metadata": {},
   "outputs": [
    {
     "data": {
      "text/plain": [
       "array([3, 4, 5, 6])"
      ]
     },
     "execution_count": 17,
     "metadata": {},
     "output_type": "execute_result"
    }
   ],
   "source": [
    " arr = np.array([1, 2, 3, 4, 5, 6, 7, 8, 9])\n",
    "arr[2:6]"
   ]
  },
  {
   "cell_type": "markdown",
   "id": "99f3228d",
   "metadata": {},
   "source": [
    " # 30. Slice the 2D NumPy array to extract the sub-array `[[2, 3], [5, 6]]` from the given array."
   ]
  },
  {
   "cell_type": "code",
   "execution_count": 24,
   "id": "9df7c4c5",
   "metadata": {},
   "outputs": [
    {
     "data": {
      "text/plain": [
       "array([[2, 3],\n",
       "       [5, 6]])"
      ]
     },
     "execution_count": 24,
     "metadata": {},
     "output_type": "execute_result"
    }
   ],
   "source": [
    "arr_2d = np.array([[1, 2, 3],\n",
    " [4, 5, 6],\n",
    " [7, 8, 9]])\n",
    "arr_2d[0:2,1:3]"
   ]
  },
  {
   "cell_type": "code",
   "execution_count": null,
   "id": "33002beb",
   "metadata": {},
   "outputs": [],
   "source": []
  }
 ],
 "metadata": {
  "kernelspec": {
   "display_name": "Python 3 (ipykernel)",
   "language": "python",
   "name": "python3"
  },
  "language_info": {
   "codemirror_mode": {
    "name": "ipython",
    "version": 3
   },
   "file_extension": ".py",
   "mimetype": "text/x-python",
   "name": "python",
   "nbconvert_exporter": "python",
   "pygments_lexer": "ipython3",
   "version": "3.12.0"
  },
  "widgets": {
   "application/vnd.jupyter.widget-state+json": {
    "state": {},
    "version_major": 2,
    "version_minor": 0
   }
  }
 },
 "nbformat": 4,
 "nbformat_minor": 5
}
