{
 "cells": [
  {
   "cell_type": "markdown",
   "id": "e019b5cf",
   "metadata": {},
   "source": [
    "# 1. Create a NumPy array 'arr' of integers from 0 to 5 and print its data type."
   ]
  },
  {
   "cell_type": "code",
   "execution_count": 2,
   "id": "d10f307d",
   "metadata": {},
   "outputs": [
    {
     "name": "stdout",
     "output_type": "stream",
     "text": [
      "<class 'numpy.ndarray'>\n",
      "int32\n"
     ]
    }
   ],
   "source": [
    "import numpy as np\n",
    "arr=np.array([0,2,3,4,5])\n",
    "print(type(arr))\n",
    "print(arr.dtype)"
   ]
  },
  {
   "cell_type": "markdown",
   "id": "ba381a22",
   "metadata": {},
   "source": [
    "# 2. Given a NumPy array 'arr', check if its data type is float64. \n"
   ]
  },
  {
   "cell_type": "code",
   "execution_count": 3,
   "id": "f46e58dc",
   "metadata": {},
   "outputs": [
    {
     "name": "stdout",
     "output_type": "stream",
     "text": [
      "float64\n"
     ]
    }
   ],
   "source": [
    "arr = np.array([1.5, 2.6, 3.7])\n",
    "print(arr.dtype)"
   ]
  },
  {
   "cell_type": "markdown",
   "id": "481e01bb",
   "metadata": {},
   "source": [
    "#  3. Create a NumPy array 'arr' with a data type of complex128 containing three complex numbers."
   ]
  },
  {
   "cell_type": "code",
   "execution_count": 4,
   "id": "dfddec63",
   "metadata": {},
   "outputs": [
    {
     "name": "stdout",
     "output_type": "stream",
     "text": [
      "complex128\n"
     ]
    }
   ],
   "source": [
    "arr=np.array([1+3.j,2+4.j,5+6.j])\n",
    "print(arr.dtype)"
   ]
  },
  {
   "cell_type": "markdown",
   "id": "a45870c9",
   "metadata": {},
   "source": [
    "# 4.  Convert an existing NumPy array 'arr' of integers to float32 data type"
   ]
  },
  {
   "cell_type": "code",
   "execution_count": 8,
   "id": "8398c7a6",
   "metadata": {},
   "outputs": [
    {
     "data": {
      "text/plain": [
       "array([1., 2., 3.], dtype=float32)"
      ]
     },
     "execution_count": 8,
     "metadata": {},
     "output_type": "execute_result"
    }
   ],
   "source": [
    "arr = np.array([1, 2, 3])\n",
    "arr_f=arr.astype(np.float32)\n",
    "arr_f"
   ]
  },
  {
   "cell_type": "markdown",
   "id": "eecffe14",
   "metadata": {},
   "source": [
    "#  5. Given a NumPy array 'arr' with float64 data type, convert it to float32 to reduce decimal precision"
   ]
  },
  {
   "cell_type": "code",
   "execution_count": 4,
   "id": "6e57f5e1",
   "metadata": {},
   "outputs": [
    {
     "name": "stdout",
     "output_type": "stream",
     "text": [
      "float64\n",
      "float32\n"
     ]
    }
   ],
   "source": [
    "import numpy as np\n",
    "arr=np.array([1.5,2.6,3.7])\n",
    "print(arr.dtype)\n",
    "\n",
    "arr_f=arr.astype(np.float32)\n",
    "print(arr_f.dtype)"
   ]
  },
  {
   "cell_type": "markdown",
   "id": "ef7897ad",
   "metadata": {},
   "source": [
    "# 6. Write a function array_attributes that takes a NumPy array as input and returns its shape, size, and data type."
   ]
  },
  {
   "cell_type": "code",
   "execution_count": 9,
   "id": "0172f763",
   "metadata": {},
   "outputs": [
    {
     "name": "stdout",
     "output_type": "stream",
     "text": [
      "((3,), 3, dtype('int32'))\n"
     ]
    }
   ],
   "source": [
    "def array_attribtes(arr):\n",
    "    shape=arr.shape\n",
    "    size=arr.size\n",
    "    datype=arr.dtype\n",
    "    return shape,size,datype\n",
    "\n",
    "arr=np.array([1,2,3])\n",
    "print(array_attribtes(arr))\n",
    "    "
   ]
  },
  {
   "cell_type": "markdown",
   "id": "41c8f2dc",
   "metadata": {},
   "source": [
    "# 7. Create a function array_dimension that takes a NumPy array as input and returns its dimensionality"
   ]
  },
  {
   "cell_type": "code",
   "execution_count": 5,
   "id": "db9e1feb",
   "metadata": {},
   "outputs": [
    {
     "name": "stdout",
     "output_type": "stream",
     "text": [
      "(2, 3)\n"
     ]
    }
   ],
   "source": [
    "import numpy as np\n",
    "def array_dim(arr):\n",
    "    dim=arr.shape\n",
    "    return dim\n",
    "arr=np.array([[1,2,3],[1,2,3]])\n",
    "print(array_dim(arr))"
   ]
  },
  {
   "cell_type": "markdown",
   "id": "a77b43af",
   "metadata": {},
   "source": [
    "# 8. design a function item_size_info that takes a NumPy array as input and returns the item size and the total size in bytes."
   ]
  },
  {
   "cell_type": "code",
   "execution_count": 3,
   "id": "e31460e7",
   "metadata": {},
   "outputs": [
    {
     "name": "stdout",
     "output_type": "stream",
     "text": [
      "(4, 12)\n"
     ]
    }
   ],
   "source": [
    "def item_size_info(arr):\n",
    "    item_size=arr.itemsize\n",
    "    total_size=arr.nbytes\n",
    "    return item_size,total_size\n",
    "\n",
    "arr=np.array([1,2,3])\n",
    "print(item_size_info(arr))"
   ]
  },
  {
   "cell_type": "markdown",
   "id": "e77a5b60",
   "metadata": {},
   "source": [
    " # 9. Create a function array_strides that takes a NumPy array as input and returns the strides of the array."
   ]
  },
  {
   "cell_type": "code",
   "execution_count": 7,
   "id": "3bd06b56",
   "metadata": {},
   "outputs": [
    {
     "name": "stdout",
     "output_type": "stream",
     "text": [
      "(4,)\n"
     ]
    }
   ],
   "source": [
    "import numpy as np\n",
    "def strides_info(arr):\n",
    "    stride_info=arr.strides\n",
    "    return stride_info\n",
    "arr=np.array([1,5,4])\n",
    "print(strides_info(arr))"
   ]
  },
  {
   "cell_type": "markdown",
   "id": "2fb7d3b3",
   "metadata": {},
   "source": [
    "# 10. Design a function shape_stride_relationship that takes a NumPy array as input and returns the shape and strides of the array"
   ]
  },
  {
   "cell_type": "code",
   "execution_count": 8,
   "id": "c288436a",
   "metadata": {},
   "outputs": [
    {
     "name": "stdout",
     "output_type": "stream",
     "text": [
      "((4,), (3,))\n"
     ]
    }
   ],
   "source": [
    "def shape_stride_relationship(arr):\n",
    "    arr_strides=arr.strides\n",
    "    arr_shape=arr.shape\n",
    "    return arr_strides,arr_shape\n",
    "arr=np.array([1,2,3],[4,5,6])\n",
    "print(shape_stride_relationship(arr))"
   ]
  },
  {
   "cell_type": "markdown",
   "id": "f551732b",
   "metadata": {},
   "source": [
    "# 11. Create a function `create_zeros_array` that takes an integer `n` as input and returns a NumPy array of zeros with `n` elements."
   ]
  },
  {
   "cell_type": "code",
   "execution_count": 10,
   "id": "8cb5846e",
   "metadata": {},
   "outputs": [
    {
     "name": "stdout",
     "output_type": "stream",
     "text": [
      "enter the num : 5\n",
      "array = [0. 0. 0. 0. 0.]\n"
     ]
    }
   ],
   "source": [
    "def create_zeros_array(n):\n",
    "    zeros_array=np.zeros(n)\n",
    "    return zeros_array\n",
    "n=int(input(\"enter the num : \"))\n",
    "print(\"array =\",create_zeros_array(n))   "
   ]
  },
  {
   "cell_type": "markdown",
   "id": "1cf52de9",
   "metadata": {},
   "source": [
    "#  12. Write a function `create_ones_matrix` that takes integers `rows` and `cols` as inputs and generates a 2D  NumPy array filled with ones of size `rows x cols`."
   ]
  },
  {
   "cell_type": "code",
   "execution_count": 15,
   "id": "4a60f3ea",
   "metadata": {},
   "outputs": [
    {
     "name": "stdout",
     "output_type": "stream",
     "text": [
      "enter the rows5\n",
      "enter the col5\n",
      "array =  [[1. 1. 1. 1. 1.]\n",
      " [1. 1. 1. 1. 1.]]\n"
     ]
    }
   ],
   "source": [
    "def create_ones_matrix(rows,cols):\n",
    "    ones_array=np.array([np.ones(shape=rows),np.ones(shape=cols)])\n",
    "    return ones_array\n",
    "rows=int(input(\"enter the rows\"))\n",
    "cols=int(input(\"enter the col\"))\n",
    "print(\"array = \",create_ones_matrix(rows,cols))"
   ]
  },
  {
   "cell_type": "markdown",
   "id": "2931031d",
   "metadata": {},
   "source": [
    "# 13. Write a function `generate_range_array` that takes three integers start, stop, and step as arguments and  creates a NumPy array with a range starting from `start`, ending at stop (exclusive), and with the specified `step`"
   ]
  },
  {
   "cell_type": "code",
   "execution_count": 19,
   "id": "aebd0aaa",
   "metadata": {},
   "outputs": [
    {
     "name": "stdout",
     "output_type": "stream",
     "text": [
      "[1 3 5 7 9]\n"
     ]
    }
   ],
   "source": [
    "def generate_range_array(start, stop, step):\n",
    "    return np.arange(start, stop, step)\n",
    "\n",
    "arr = generate_range_array(1, 10, 2)\n",
    "print(arr)"
   ]
  },
  {
   "cell_type": "markdown",
   "id": "1cd4b308",
   "metadata": {},
   "source": [
    "# 14. Design a function `generate_linear_space` that takes two floats `start`, `stop`, and an integer `num` as  arguments and generates a NumPy array with num equally spaced values between `start` and `stop`  (inclusive)."
   ]
  },
  {
   "cell_type": "code",
   "execution_count": 21,
   "id": "1c95ddb8",
   "metadata": {},
   "outputs": [
    {
     "name": "stdout",
     "output_type": "stream",
     "text": [
      "[ 1.    3.25  5.5   7.75 10.  ]\n"
     ]
    }
   ],
   "source": [
    "def generate_linear_space(start,stop,num): # two floats start, stop, and an integer num\n",
    "    return np.linspace(start,stop,num)\n",
    "\n",
    "arr=generate_linear_space(1.0,10.0,5)\n",
    "print(arr)\n",
    "    "
   ]
  },
  {
   "cell_type": "markdown",
   "id": "a958ac66",
   "metadata": {},
   "source": [
    "# 15. Create a function `create_identity_matrix` that takes an integer `n` as input and generates a square  identity matrix of size `n x n` using `numpy.eye`."
   ]
  },
  {
   "cell_type": "code",
   "execution_count": 22,
   "id": "1ce50bcd",
   "metadata": {},
   "outputs": [
    {
     "data": {
      "text/plain": [
       "array([[1., 0., 0., 0.],\n",
       "       [0., 1., 0., 0.],\n",
       "       [0., 0., 1., 0.],\n",
       "       [0., 0., 0., 1.]])"
      ]
     },
     "execution_count": 22,
     "metadata": {},
     "output_type": "execute_result"
    }
   ],
   "source": [
    "def create_identity_matrix(n):\n",
    "    return np.eye(n)\n",
    "arr=create_identity_matrix(4)\n",
    "arr"
   ]
  },
  {
   "cell_type": "markdown",
   "id": "fbc78f09",
   "metadata": {},
   "source": [
    "# 16. Write a function that takes a Python list and converts it into a NumPy array"
   ]
  },
  {
   "cell_type": "code",
   "execution_count": 23,
   "id": "94696584",
   "metadata": {},
   "outputs": [
    {
     "data": {
      "text/plain": [
       "array([1, 2, 2, 4])"
      ]
     },
     "execution_count": 23,
     "metadata": {},
     "output_type": "execute_result"
    }
   ],
   "source": [
    "def create_array(l1):\n",
    "    return np.array(l1)\n",
    "l1=[1,2,2,4]\n",
    "arr=create_array(l1)\n",
    "arr\n"
   ]
  },
  {
   "cell_type": "markdown",
   "id": "6d916a54",
   "metadata": {},
   "source": [
    "# 17. Create a NumPy array and demonstrate the use of `numpy.view` to create a new array object with the same data.\n"
   ]
  },
  {
   "cell_type": "code",
   "execution_count": 24,
   "id": "1547a1bd",
   "metadata": {},
   "outputs": [
    {
     "name": "stdout",
     "output_type": "stream",
     "text": [
      "[1 2 6]\n",
      "[1 2 6]\n"
     ]
    }
   ],
   "source": [
    "arr=np.array([1,2,6])\n",
    "print(arr)\n",
    "arr_view=arr.view()\n",
    "print(arr_view)"
   ]
  },
  {
   "cell_type": "markdown",
   "id": "2f4c4396",
   "metadata": {},
   "source": [
    "# 18. Write a function that takes two NumPy arrays and concatenates them along a specified axis."
   ]
  },
  {
   "cell_type": "code",
   "execution_count": 26,
   "id": "942856af",
   "metadata": {},
   "outputs": [
    {
     "data": {
      "text/plain": [
       "array([[1, 2, 3],\n",
       "       [4, 5, 6],\n",
       "       [4, 5, 6],\n",
       "       [7, 8, 9]])"
      ]
     },
     "execution_count": 26,
     "metadata": {},
     "output_type": "execute_result"
    }
   ],
   "source": [
    "def concatenates_array(arrr1,arr2):\n",
    "    conc_array=np.concatenate((arr1,arr2),axis=0)\n",
    "    return conc_array \n",
    "arr1=np.array([[1,2,3],[4,5,6]])\n",
    "arr2=np.array([[4,5,6],[7,8,9]])\n",
    "concatenates_array(arr1,arr2)\n"
   ]
  },
  {
   "cell_type": "markdown",
   "id": "09d35c5f",
   "metadata": {},
   "source": [
    "#  19.  Create two NumPy arrays with different shapes and concatenate them horizontally using `numpy. concatenate`."
   ]
  },
  {
   "cell_type": "code",
   "execution_count": 30,
   "id": "afc5eedd",
   "metadata": {},
   "outputs": [
    {
     "data": {
      "text/plain": [
       "array([[1, 2, 3, 4, 5, 6],\n",
       "       [4, 5, 6, 7, 8, 9]])"
      ]
     },
     "execution_count": 30,
     "metadata": {},
     "output_type": "execute_result"
    }
   ],
   "source": [
    "def concatenates_array(arrr1,arr2):\n",
    "    conc_array=np.concatenate((arr1,arr2),axis=1)\n",
    "    return conc_array \n",
    "arr1=np.array([[1,2,3],[4,5,6]])\n",
    "arr2=np.array([[4,5,6],[7,8,9]])\n",
    "concatenates_array(arr1,arr2)\n"
   ]
  },
  {
   "cell_type": "markdown",
   "id": "bca852f3",
   "metadata": {},
   "source": [
    "#  20. Write a function that vertically stacks multiple NumPy arrays given as a list."
   ]
  },
  {
   "cell_type": "code",
   "execution_count": 31,
   "id": "af70a2fa",
   "metadata": {},
   "outputs": [
    {
     "name": "stdout",
     "output_type": "stream",
     "text": [
      "Vertically Stacked Array:\n",
      " [[ 1  2]\n",
      " [ 3  4]\n",
      " [ 5  6]\n",
      " [ 7  8]\n",
      " [ 9 10]\n",
      " [11 12]]\n"
     ]
    }
   ],
   "source": [
    "def vertical_stack_arrays(arr_list):\n",
    "    return np.vstack(arr_list)\n",
    "\n",
    "arr1 = np.array([[1, 2], [3, 4]])\n",
    "arr2 = np.array([[5, 6], [7, 8]])\n",
    "arr3 = np.array([[9, 10], [11, 12]])\n",
    "\n",
    "result = vertical_stack_arrays([arr1, arr2, arr3])\n",
    "print(\"Vertically Stacked Array:\\n\", result)"
   ]
  },
  {
   "cell_type": "markdown",
   "id": "cfd39a13",
   "metadata": {},
   "source": [
    "# 21. Write a Python function using NumPy to create an array of integers within a specified range (inclusive)  with a given step size."
   ]
  },
  {
   "cell_type": "code",
   "execution_count": 1,
   "id": "32107844",
   "metadata": {},
   "outputs": [
    {
     "name": "stdout",
     "output_type": "stream",
     "text": [
      "[1 3 5 7 9]\n"
     ]
    }
   ],
   "source": [
    "import numpy as np\n",
    "\n",
    "def create_range_array(start, stop, step):\n",
    "    return np.arange(start, stop + 1, step)  # Adding 1 to stop to make it inclusive\n",
    "\n",
    "arr = create_range_array(1, 10, 2)\n",
    "print(arr)  # Output: [ 1  3  5  7  9]\n"
   ]
  },
  {
   "cell_type": "markdown",
   "id": "008472ba",
   "metadata": {},
   "source": [
    "#  22. Write a Python function using NumPy to generate an array of 10 equally spaced values between 0 and 1 (inclusive)."
   ]
  },
  {
   "cell_type": "code",
   "execution_count": 2,
   "id": "8d308796",
   "metadata": {},
   "outputs": [
    {
     "data": {
      "text/plain": [
       "array([0. , 0.5, 1. , 1.5, 2. ])"
      ]
     },
     "execution_count": 2,
     "metadata": {},
     "output_type": "execute_result"
    }
   ],
   "source": [
    "def create_range_array(start,stop,step):\n",
    "    return np.linspace(start,stop+1,step)\n",
    "arr=create_range_array(0,1,5)\n",
    "arr"
   ]
  },
  {
   "cell_type": "markdown",
   "id": "ebb0f647",
   "metadata": {},
   "source": [
    "# 23. Write a Python function using NumPy to create an array of 5 logarithmically spaced values between 1 and  1000 (inclusive)."
   ]
  },
  {
   "cell_type": "code",
   "execution_count": 4,
   "id": "ebe6234b",
   "metadata": {},
   "outputs": [
    {
     "data": {
      "text/plain": [
       "array([1.00000000e+000, 1.77827941e+025, 3.16227766e+050, 5.62341325e+075,\n",
       "       1.00000000e+101])"
      ]
     },
     "execution_count": 4,
     "metadata": {},
     "output_type": "execute_result"
    }
   ],
   "source": [
    "def create_range_array(start,stop,step):\n",
    "    return np.logspace(start,stop+1,step)\n",
    "arr=create_range_array(0,100,5)\n",
    "arr"
   ]
  },
  {
   "cell_type": "markdown",
   "id": "f3793dc7",
   "metadata": {},
   "source": [
    "# 24. Create a Pandas DataFrame using a NumPy array that contains 5 rows and 3 columns, where the values  are random integers between 1 and 100."
   ]
  },
  {
   "cell_type": "code",
   "execution_count": 39,
   "id": "023530d5",
   "metadata": {},
   "outputs": [
    {
     "data": {
      "text/html": [
       "<div>\n",
       "<style scoped>\n",
       "    .dataframe tbody tr th:only-of-type {\n",
       "        vertical-align: middle;\n",
       "    }\n",
       "\n",
       "    .dataframe tbody tr th {\n",
       "        vertical-align: top;\n",
       "    }\n",
       "\n",
       "    .dataframe thead th {\n",
       "        text-align: right;\n",
       "    }\n",
       "</style>\n",
       "<table border=\"1\" class=\"dataframe\">\n",
       "  <thead>\n",
       "    <tr style=\"text-align: right;\">\n",
       "      <th></th>\n",
       "      <th>A</th>\n",
       "      <th>B</th>\n",
       "      <th>C</th>\n",
       "    </tr>\n",
       "  </thead>\n",
       "  <tbody>\n",
       "    <tr>\n",
       "      <th>0</th>\n",
       "      <td>90</td>\n",
       "      <td>75</td>\n",
       "      <td>22</td>\n",
       "    </tr>\n",
       "    <tr>\n",
       "      <th>1</th>\n",
       "      <td>81</td>\n",
       "      <td>33</td>\n",
       "      <td>53</td>\n",
       "    </tr>\n",
       "    <tr>\n",
       "      <th>2</th>\n",
       "      <td>41</td>\n",
       "      <td>51</td>\n",
       "      <td>22</td>\n",
       "    </tr>\n",
       "    <tr>\n",
       "      <th>3</th>\n",
       "      <td>1</td>\n",
       "      <td>11</td>\n",
       "      <td>93</td>\n",
       "    </tr>\n",
       "    <tr>\n",
       "      <th>4</th>\n",
       "      <td>59</td>\n",
       "      <td>36</td>\n",
       "      <td>73</td>\n",
       "    </tr>\n",
       "  </tbody>\n",
       "</table>\n",
       "</div>"
      ],
      "text/plain": [
       "    A   B   C\n",
       "0  90  75  22\n",
       "1  81  33  53\n",
       "2  41  51  22\n",
       "3   1  11  93\n",
       "4  59  36  73"
      ]
     },
     "execution_count": 39,
     "metadata": {},
     "output_type": "execute_result"
    }
   ],
   "source": [
    "import pandas as pd\n",
    "arr1=np.random.randint(1,100,size=(5,3),dtype='int')\n",
    "df=pd.DataFrame(arr1,columns=[\"A\",'B','C'])\n",
    "df"
   ]
  },
  {
   "cell_type": "markdown",
   "id": "a1d552fa",
   "metadata": {},
   "source": [
    "# 25. Write a function that takes a Pandas DataFrame and replaces all negative values in a specific column  with zeros. Use NumPy operations within the Pandas DataFrame."
   ]
  },
  {
   "cell_type": "code",
   "execution_count": 11,
   "id": "66b95312",
   "metadata": {},
   "outputs": [
    {
     "name": "stdout",
     "output_type": "stream",
     "text": [
      "oroginal data: \n",
      "     A   B\n",
      "0   1   4\n",
      "1   2 -40\n",
      "2  70   5\n",
      "3  -5 -45\n",
      "4   5   0\n",
      "5  -8  -8\n",
      "modified data:\n",
      "     A   B\n",
      "0   1   4\n",
      "1   2 -40\n",
      "2  70   5\n",
      "3   0 -45\n",
      "4   5   0\n",
      "5   0  -8\n"
     ]
    }
   ],
   "source": [
    "import pandas as pd\n",
    "import numpy as np\n",
    "\n",
    "def replaces_all_negative(df,col_name):\n",
    "    df[col_name]=np.where(df[col_name]<0,0,df[col_name])\n",
    "    return df\n",
    "data={'A':[1,2,70,-5,5,-8],'B':[4,-40,5,-45,0,-8]}\n",
    "df=pd.DataFrame(data)\n",
    "print(\"oroginal data: \\n\",df)\n",
    "print(\"modified data:\\n\",replaces_all_negative(df,'A'))"
   ]
  },
  {
   "cell_type": "markdown",
   "id": "a37aa281",
   "metadata": {},
   "source": [
    "# 26. Access the 3rd element from the given NumPy array."
   ]
  },
  {
   "cell_type": "code",
   "execution_count": 12,
   "id": "6d902345",
   "metadata": {},
   "outputs": [
    {
     "data": {
      "text/plain": [
       "30"
      ]
     },
     "execution_count": 12,
     "metadata": {},
     "output_type": "execute_result"
    }
   ],
   "source": [
    "arr = np.array([10, 20, 30, 40, 50])\n",
    "arr[2]"
   ]
  },
  {
   "cell_type": "markdown",
   "id": "99e17af2",
   "metadata": {},
   "source": [
    "#  27. Retrieve the element at index (1, 2) from the 2D NumPy array."
   ]
  },
  {
   "cell_type": "code",
   "execution_count": 15,
   "id": "24e43464",
   "metadata": {},
   "outputs": [
    {
     "data": {
      "text/plain": [
       "6"
      ]
     },
     "execution_count": 15,
     "metadata": {},
     "output_type": "execute_result"
    }
   ],
   "source": [
    "arr_2d = np.array([[1, 2, 3],\n",
    " [4, 5, 6],\n",
    " [7, 8, 9]])\n",
    "\n",
    "arr_2d[1][2]"
   ]
  },
  {
   "cell_type": "markdown",
   "id": "3a125a8c",
   "metadata": {},
   "source": [
    "#  28. Using boolean indexing, extract elements greater than 5 from the given NumPy array."
   ]
  },
  {
   "cell_type": "code",
   "execution_count": 16,
   "id": "9b136458",
   "metadata": {},
   "outputs": [
    {
     "name": "stdout",
     "output_type": "stream",
     "text": [
      "[ 8 10  7]\n"
     ]
    }
   ],
   "source": [
    " arr = np.array([3, 8, 2, 10, 5, 7])\n",
    "\n",
    "filtered_arr = arr[arr > 5]\n",
    "\n",
    "print(filtered_arr)  \n"
   ]
  },
  {
   "cell_type": "markdown",
   "id": "8e4eea29",
   "metadata": {},
   "source": [
    "# 29. Perform basic slicing to extract elements from index 2 to 5 (inclusive) from the given NumPy array."
   ]
  },
  {
   "cell_type": "code",
   "execution_count": 17,
   "id": "0a2ba931",
   "metadata": {},
   "outputs": [
    {
     "data": {
      "text/plain": [
       "array([3, 4, 5, 6])"
      ]
     },
     "execution_count": 17,
     "metadata": {},
     "output_type": "execute_result"
    }
   ],
   "source": [
    " arr = np.array([1, 2, 3, 4, 5, 6, 7, 8, 9])\n",
    "arr[2:6]"
   ]
  },
  {
   "cell_type": "markdown",
   "id": "99f3228d",
   "metadata": {},
   "source": [
    " # 30. Slice the 2D NumPy array to extract the sub-array `[[2, 3], [5, 6]]` from the given array."
   ]
  },
  {
   "cell_type": "code",
   "execution_count": 24,
   "id": "9df7c4c5",
   "metadata": {},
   "outputs": [
    {
     "data": {
      "text/plain": [
       "array([[2, 3],\n",
       "       [5, 6]])"
      ]
     },
     "execution_count": 24,
     "metadata": {},
     "output_type": "execute_result"
    }
   ],
   "source": [
    "arr_2d = np.array([[1, 2, 3],\n",
    " [4, 5, 6],\n",
    " [7, 8, 9]])\n",
    "arr_2d[0:2,1:3]"
   ]
  },
  {
   "cell_type": "markdown",
   "id": "754c3cb3-47be-45c1-b679-8ef5ae517b82",
   "metadata": {},
   "source": [
    "# 31. Write a NumPy function to extract elements in specific order from a given 2D array based on indices provided in another array"
   ]
  },
  {
   "cell_type": "code",
   "execution_count": 1,
   "id": "c279f628-1423-412c-90ea-364cbd4e1b8d",
   "metadata": {},
   "outputs": [
    {
     "name": "stdout",
     "output_type": "stream",
     "text": [
      "[20 90 40]\n"
     ]
    }
   ],
   "source": [
    "import numpy as np\n",
    "\n",
    "def extract_elements(arr, indices):\n",
    "    return arr[indices[:, 0], indices[:, 1]]\n",
    "\n",
    "arr = np.array([[10, 20, 30], \n",
    "                [40, 50, 60], \n",
    "                [70, 80, 90]])\n",
    "\n",
    "indices = np.array([[0, 1], [2, 2], [1, 0]]) \n",
    "\n",
    "result = extract_elements(arr, indices)\n",
    "print(result)  \n"
   ]
  },
  {
   "cell_type": "markdown",
   "id": "a4c0b158-1ddb-4456-bc7d-5e4876056be0",
   "metadata": {},
   "source": [
    "# 32.Create a NumPy function that filters elements greater than a threshold from a given 1D array using boolean indexing."
   ]
  },
  {
   "cell_type": "code",
   "execution_count": 2,
   "id": "4a870bca-5711-48e1-8f42-39b4df0ab6f3",
   "metadata": {},
   "outputs": [
    {
     "name": "stdout",
     "output_type": "stream",
     "text": [
      "[25 40 30]\n"
     ]
    }
   ],
   "source": [
    "def filters_elements(arr,threshold):\n",
    "    return arr[arr>threshold]\n",
    "arr = np.array([10, 25, 5, 40, 30, 15])\n",
    "threshold = 20\n",
    "\n",
    "result = filters_elements(arr, threshold)\n",
    "print(result)  "
   ]
  },
  {
   "cell_type": "markdown",
   "id": "a08367e8-c5d1-4a9b-87d8-59d681fff13f",
   "metadata": {},
   "source": [
    "# 33. Develop a NumPy function that extracts specific elements from a 3D array using indices provided in three separate arrays for each dimension."
   ]
  },
  {
   "cell_type": "code",
   "execution_count": 3,
   "id": "d5c5907f-18c8-4eb3-b8fb-167448dbf7a6",
   "metadata": {},
   "outputs": [
    {
     "name": "stdout",
     "output_type": "stream",
     "text": [
      "[ 6  8 10]\n"
     ]
    }
   ],
   "source": [
    "def extract_elements_3d(arr, x, y, z):\n",
    "    return arr[x, y, z]  \n",
    "\n",
    "arr = np.array([[[  1,  2,  3], \n",
    "                  [  4,  5,  6]], \n",
    "\n",
    "                 [[  7,  8,  9], \n",
    "                  [ 10, 11, 12]]])\n",
    "\n",
    "x_idx = np.array([0, 1, 1])  \n",
    "y_idx = np.array([1, 0, 1])\n",
    "z_idx = np.array([2, 1, 0])\n",
    "\n",
    "result = extract_elements_3d(arr, x_idx, y_idx, z_idx)\n",
    "print(result) "
   ]
  },
  {
   "cell_type": "markdown",
   "id": "a41c99cb-8506-4d51-a236-ebce75a793be",
   "metadata": {},
   "source": [
    "# 34.Write a NumPy function that returns elements from an array where both two conditions are satisfied using boolean indexing."
   ]
  },
  {
   "cell_type": "code",
   "execution_count": 6,
   "id": "73523b7b-b75f-4bf0-852d-b2c97e112174",
   "metadata": {},
   "outputs": [
    {
     "name": "stdout",
     "output_type": "stream",
     "text": [
      "[25 40 30]\n"
     ]
    }
   ],
   "source": [
    "def filters_elements(arr,threshold1,threshold2):\n",
    "    return arr[(arr>threshold1)& (arr>threshold2)]\n",
    "arr = np.array([10, 25, 5, 40, 30, 15])\n",
    "threshold1 = 10\n",
    "threshold2=20\n",
    "\n",
    "result = filters_elements(arr, threshold1,threshold2)\n",
    "print(result)  "
   ]
  },
  {
   "cell_type": "markdown",
   "id": "670f2f9f-78b2-4f48-a593-1d617f04b6a3",
   "metadata": {},
   "source": [
    "# 35.Create a NumPy function that extracts elements from a 2D array using row and column indices provided in separate arrays."
   ]
  },
  {
   "cell_type": "code",
   "execution_count": 7,
   "id": "a8faa429-47e9-446f-b0d6-744aa0bd6a70",
   "metadata": {},
   "outputs": [
    {
     "name": "stdout",
     "output_type": "stream",
     "text": [
      "[20 90 40]\n"
     ]
    }
   ],
   "source": [
    "def extract_elements_2d(arr, row_indices, col_indices):\n",
    "    return arr[row_indices, col_indices]  \n",
    "\n",
    "arr = np.array([[10, 20, 30], \n",
    "                [40, 50, 60], \n",
    "                [70, 80, 90]])\n",
    "\n",
    "row_indices = np.array([0, 2, 1])\n",
    "col_indices = np.array([1, 2, 0])\n",
    "\n",
    "result = extract_elements_2d(arr, row_indices, col_indices)\n",
    "print(result)  "
   ]
  },
  {
   "cell_type": "markdown",
   "id": "8494e686-153f-4e13-ae3c-5d30b8841106",
   "metadata": {},
   "source": [
    "# 36. Given an array arr of shape (3, 3), add a scalar value of 5 to each element using NumPy broadcasting."
   ]
  },
  {
   "cell_type": "code",
   "execution_count": 8,
   "id": "3af8419d-91f4-4b36-a610-6c4876224c60",
   "metadata": {},
   "outputs": [
    {
     "name": "stdout",
     "output_type": "stream",
     "text": [
      "[[ 6  7  8]\n",
      " [ 9 10 11]\n",
      " [12 13 14]]\n"
     ]
    }
   ],
   "source": [
    "arr = np.array([[1, 2, 3], \n",
    "                [4, 5, 6], \n",
    "                [7, 8, 9]])\n",
    "\n",
    "# Add scalar value 5 using broadcasting\n",
    "result = arr + 5\n",
    "\n",
    "print(result)"
   ]
  },
  {
   "cell_type": "markdown",
   "id": "12b11b90-954a-40af-88a7-ddd529c90415",
   "metadata": {},
   "source": [
    "# 37. Consider two arrays arr1 of shape (1, 3) and arr2 of shape (3, 4). Multiply each row of arr2 by the corresponding element in arr1 using NumPy broadcasting."
   ]
  },
  {
   "cell_type": "code",
   "execution_count": 11,
   "id": "80a1ccfb-a829-4d11-a8c0-fb69a5d995e6",
   "metadata": {},
   "outputs": [
    {
     "name": "stdout",
     "output_type": "stream",
     "text": [
      "[[ 10  20  30  40]\n",
      " [ 80 100 120 100]\n",
      " [210 240 270 180]]\n"
     ]
    }
   ],
   "source": [
    "arr1=np.array([[10,20,30]])\n",
    "arr2 = np.array([[1, 2, 3,4], \n",
    "                [4, 5, 6,5], \n",
    "                [7, 8, 9,6]])\n",
    "re_arr=arr1.T\n",
    "result=arr2*re_arr\n",
    "print(result)"
   ]
  },
  {
   "cell_type": "markdown",
   "id": "87f96850-6b9b-473c-9ff0-43c7f79872ba",
   "metadata": {},
   "source": [
    "# 38.  Given a 1D array arr1 of shape (1, 4) and a 2D array arr2 of shape (4, 3), add arr1 to each row of arr2 using NumPy broadcasting."
   ]
  },
  {
   "cell_type": "code",
   "execution_count": 15,
   "id": "629e6b9d-99f7-478d-a4a3-eeb94e353e17",
   "metadata": {},
   "outputs": [
    {
     "name": "stdout",
     "output_type": "stream",
     "text": [
      "[[11 12 13]\n",
      " [24 25 26]\n",
      " [37 38 39]\n",
      " [50 51 52]]\n"
     ]
    }
   ],
   "source": [
    "arr1=np.array([10,20,30,40])\n",
    "arr2 = np.array([[1, 2, 3], \n",
    "                [4, 5, 6], \n",
    "                [7, 8, 9],\n",
    "                [10,11,12]])\n",
    "t_arr1=arr1.reshape(4,1)\n",
    "sum=t_arr1+arr2\n",
    "print(sum)"
   ]
  },
  {
   "cell_type": "markdown",
   "id": "a3ff00dd-cae2-4d40-9eb1-f3fdccbd727c",
   "metadata": {},
   "source": [
    "# 39. Consider two arrays arr1 of shape (3, 1) and arr2 of shape (1, 3). Add these arrays using NumPy broadcasting."
   ]
  },
  {
   "cell_type": "code",
   "execution_count": 21,
   "id": "1c177f48-00ad-447f-8038-f5a5d8bb60d8",
   "metadata": {},
   "outputs": [
    {
     "name": "stdout",
     "output_type": "stream",
     "text": [
      "[[4 5 6]\n",
      " [5 6 7]\n",
      " [6 7 8]]\n"
     ]
    }
   ],
   "source": [
    "arr1=np.array([[3],\n",
    "               [4],\n",
    "               [5]])\n",
    "arr2=np.array([[1,2,3]])\n",
    "add=arr1+arr2\n",
    "print(add)"
   ]
  },
  {
   "cell_type": "markdown",
   "id": "f670b42f-7a9e-4f2c-991f-ffa3e2f50103",
   "metadata": {},
   "source": [
    "# 40.  Given arrays arr1 of shape (2, 3) and arr2 of shape (2, 2), perform multiplication using NumPy broadcasting. Handle the shape incompatibility."
   ]
  },
  {
   "cell_type": "code",
   "execution_count": 25,
   "id": "99050a5e-52c9-4390-a151-25179312b69a",
   "metadata": {},
   "outputs": [
    {
     "name": "stdout",
     "output_type": "stream",
     "text": [
      "[[4]\n",
      " [6]]\n",
      "[[ 4  8 12]\n",
      " [24 30 36]]\n"
     ]
    }
   ],
   "source": [
    "arr1 = np.array([[1, 2, 3], \n",
    "                 [4, 5, 6]])  \n",
    "\n",
    "arr2 = np.array([[4, 5], \n",
    "                 [6, 7]])  \n",
    "\n",
    "\n",
    "arr2_reshaped = arr2[:, 0:1]  \n",
    "\n",
    "\n",
    "result = arr1 * arr2_reshaped \n",
    "\n",
    "print(arr2_reshaped)\n",
    "print(result)\n"
   ]
  },
  {
   "cell_type": "markdown",
   "id": "8359d1ab-6f1a-4ee0-b97a-860851ea0f11",
   "metadata": {},
   "source": [
    "# 41.Calculate column wise mean for the given array:"
   ]
  },
  {
   "cell_type": "code",
   "execution_count": 26,
   "id": "5e3d8fc4-ed99-4b55-83bd-f92cdab469c2",
   "metadata": {},
   "outputs": [
    {
     "name": "stdout",
     "output_type": "stream",
     "text": [
      "Column-wise mean: [2.5 3.5 4.5]\n"
     ]
    }
   ],
   "source": [
    "arr = np.array([[1, 2, 3], [4, 5, 6]])\n",
    "\n",
    "column_mean = np.mean(arr, axis=0)\n",
    "\n",
    "print(\"Column-wise mean:\", column_mean)"
   ]
  },
  {
   "cell_type": "markdown",
   "id": "7c71459f-98c3-4ed2-9291-e16c3fd4b3ec",
   "metadata": {},
   "source": [
    "# 42.Find maximum value in each row of the given array:"
   ]
  },
  {
   "cell_type": "code",
   "execution_count": 27,
   "id": "cd609a53-bf6c-45c0-a3aa-27f6d7dd76a9",
   "metadata": {},
   "outputs": [
    {
     "name": "stdout",
     "output_type": "stream",
     "text": [
      "row-wise max: [3 6]\n"
     ]
    }
   ],
   "source": [
    "arr = np.array([[1, 2, 3], [4, 5, 6]])\n",
    "row_max=np.max(arr,axis=1)\n",
    "print(\"row-wise max:\", row_max)"
   ]
  },
  {
   "cell_type": "markdown",
   "id": "deb014f0-c03d-4829-9444-a4333a1e3436",
   "metadata": {},
   "source": [
    "# 43. For the given array, find indices of maximum value in each column."
   ]
  },
  {
   "cell_type": "code",
   "execution_count": 28,
   "id": "d0e39391-afca-4910-94bf-b5650886eea7",
   "metadata": {},
   "outputs": [
    {
     "name": "stdout",
     "output_type": "stream",
     "text": [
      "Indices of maximum values in each column: [1 1 1]\n"
     ]
    }
   ],
   "source": [
    "arr = np.array([[1, 2, 3], [4, 5, 6]])\n",
    "max_indices = np.argmax(arr, axis=0)\n",
    "print(\"Indices of maximum values in each column:\", max_indices)"
   ]
  },
  {
   "cell_type": "markdown",
   "id": "c484f7e5-8de5-45fa-97d1-84d666ed6096",
   "metadata": {},
   "source": [
    "# 44.For the given array, apply custom function to calculate moving sum along rows."
   ]
  },
  {
   "cell_type": "code",
   "execution_count": 29,
   "id": "da910583-b7a9-49e5-ae87-f3335f0b5318",
   "metadata": {},
   "outputs": [
    {
     "name": "stdout",
     "output_type": "stream",
     "text": [
      "[ 6 15]\n"
     ]
    }
   ],
   "source": [
    "arr = np.array([[1, 2, 3], [4, 5, 6]])\n",
    "sum=np.sum(arr,axis=1)\n",
    "print(sum)"
   ]
  },
  {
   "cell_type": "markdown",
   "id": "ce1a5749-a966-4833-b1ad-a6858b960c67",
   "metadata": {},
   "source": [
    "# 45. In the given array, check if all elements in each column are even."
   ]
  },
  {
   "cell_type": "code",
   "execution_count": 32,
   "id": "50ee779f-e703-4cb3-816f-17958d71797a",
   "metadata": {},
   "outputs": [
    {
     "name": "stdout",
     "output_type": "stream",
     "text": [
      "Are all elements even in each column? [False False False]\n"
     ]
    }
   ],
   "source": [
    "arr = np.array([[2, 4, 6], [3, 5, 7]])\n",
    "\n",
    "all_even_columns = np.all(arr % 2 == 0, axis=0)\n",
    "\n",
    "print(\"Are all elements even in each column?\", all_even_columns)"
   ]
  },
  {
   "cell_type": "markdown",
   "id": "c844d884-efb4-46dc-98d3-212b44db4b7d",
   "metadata": {},
   "source": [
    "# 46.Given a NumPy array arr, reshape it into a matrix of dimensions `m` rows and `n` columns. Return the reshaped matrix."
   ]
  },
  {
   "cell_type": "code",
   "execution_count": 36,
   "id": "9343c73f-07ca-41e0-8b72-cb87b15a79ef",
   "metadata": {},
   "outputs": [
    {
     "name": "stdout",
     "output_type": "stream",
     "text": [
      "[[1 2 3]\n",
      " [4 5 6]]\n"
     ]
    }
   ],
   "source": [
    "original_array = np.array([1, 2, 3, 4, 5, 6])\n",
    "reshape_array=original_array.reshape(2,3)\n",
    "print(reshape_array)"
   ]
  },
  {
   "cell_type": "markdown",
   "id": "6698cbda-d6b0-4f02-a30e-1c23a3c43e69",
   "metadata": {},
   "source": [
    "# 47. Create a function that takes a matrix as input and returns the flattened array."
   ]
  },
  {
   "cell_type": "code",
   "execution_count": 38,
   "id": "4fcf7578-e865-483c-91b3-2b76e0acab59",
   "metadata": {},
   "outputs": [
    {
     "name": "stdout",
     "output_type": "stream",
     "text": [
      "[1 2 3 4 5 6]\n"
     ]
    }
   ],
   "source": [
    "input_matrix = np.array([[1, 2, 3], [4, 5, 6]])\n",
    "\n",
    "def flattend_array(matrix):\n",
    "    return matrix.ravel() \n",
    "print(flattend_array(input_matrix))"
   ]
  },
  {
   "cell_type": "markdown",
   "id": "535bb9a0-7393-431a-bc78-6901c5e30a21",
   "metadata": {},
   "source": [
    "# 48. Write a function that concatenates two given arrays along a specified axis."
   ]
  },
  {
   "cell_type": "code",
   "execution_count": 40,
   "id": "82d79b48-897a-4638-b65e-8a35fb452e53",
   "metadata": {},
   "outputs": [
    {
     "name": "stdout",
     "output_type": "stream",
     "text": [
      "[[1 2]\n",
      " [3 4]\n",
      " [5 6]\n",
      " [7 8]]\n"
     ]
    }
   ],
   "source": [
    "array1 = np.array([[1, 2], [3, 4]])\n",
    "array2 = np.array([[5, 6], [7, 8]])\n",
    "\n",
    "def concat_array(arr1,arr2):\n",
    "    return np.concatenate((arr1,arr2),axis=0)\n",
    "\n",
    "print(concat_array(array1,array2))\n"
   ]
  },
  {
   "cell_type": "markdown",
   "id": "774e152a-8bcc-4d2a-98fc-7ed669e94786",
   "metadata": {},
   "source": [
    "# 49. Create a function that splits an array into multiple sub-arrays along a specified axis"
   ]
  },
  {
   "cell_type": "code",
   "execution_count": 45,
   "id": "6f51e338-b2a5-4369-be94-11e31de6927a",
   "metadata": {},
   "outputs": [
    {
     "name": "stdout",
     "output_type": "stream",
     "text": [
      "Sub-array 1:\n",
      " [[1 2]\n",
      " [4 5]\n",
      " [7 8]]\n",
      "Sub-array 2:\n",
      " [[3]\n",
      " [6]\n",
      " [9]]\n"
     ]
    }
   ],
   "source": [
    "original_array = np.array([[1, 2, 3], [4, 5, 6], [7, 8, 9]])\n",
    "\n",
    "def splits_array(arr,num_splits, axis=0):\n",
    "    return np.array_split(arr,num_splits, axis=axis)\n",
    "    \n",
    "split_arrays = splits_array(original_array, 2, axis=1)\n",
    "\n",
    "for i, subarray in enumerate(split_arrays):\n",
    "    print(f\"Sub-array {i+1}:\\n\", subarray)"
   ]
  },
  {
   "cell_type": "markdown",
   "id": "19cab20e-44f7-45ad-ac75-4f544237c3ac",
   "metadata": {},
   "source": [
    "# 50.  Write a function that inserts and then deletes elements from a given array at specified indices."
   ]
  },
  {
   "cell_type": "code",
   "execution_count": 46,
   "id": "dceec366-c3f2-42b3-b0b7-b1ee82beada1",
   "metadata": {},
   "outputs": [
    {
     "name": "stdout",
     "output_type": "stream",
     "text": [
      "Modified Array: [ 1 10  4 11  5]\n"
     ]
    }
   ],
   "source": [
    "original_array = np.array([1, 2, 3, 4, 5])\n",
    "indices_to_insert = [2, 4]\n",
    "values_to_insert = [10, 11]\n",
    "indices_to_delete = [1, 3]\n",
    "\n",
    "\n",
    "def modify_array(arr, insert_indices, insert_values, delete_indices):\n",
    "    modified_array = np.insert(arr, insert_indices, insert_values)\n",
    "    modified_array = np.delete(modified_array, delete_indices)\n",
    "\n",
    "    return modified_array\n",
    "\n",
    "\n",
    "result_array = modify_array(original_array, indices_to_insert, values_to_insert, indices_to_delete)\n",
    "\n",
    "print(\"Modified Array:\", result_array)\n"
   ]
  },
  {
   "cell_type": "markdown",
   "id": "20a32a9f-2121-4a0c-a2e3-a842e18e726d",
   "metadata": {},
   "source": [
    "# 51. Create a NumPy array `arr1` with random integers and another array `arr2` with integers from 1 to 10. Perform element-wise addition between `arr1` and `arr2`."
   ]
  },
  {
   "cell_type": "code",
   "execution_count": 48,
   "id": "795e9d16-fb41-4ab1-a2da-f3f19bee7cdb",
   "metadata": {},
   "outputs": [
    {
     "name": "stdout",
     "output_type": "stream",
     "text": [
      "[ 4  8  6 12 14 10 15 17 17 17]\n"
     ]
    }
   ],
   "source": [
    "arr1=np.random.randint(1,11,size=10)\n",
    "arr2=np.arange(1,11)\n",
    "\n",
    "sum=arr1+arr2\n",
    "print(sum)"
   ]
  },
  {
   "cell_type": "markdown",
   "id": "15341aea-f24e-4156-bab8-6679712ead82",
   "metadata": {},
   "source": [
    "# 52. Generate a NumPy array `arr1` with sequential integers from 10 to 1 and another array `arr2` with integers from 1 to 10. Subtract `arr2` from `arr1` element-wise. "
   ]
  },
  {
   "cell_type": "code",
   "execution_count": 54,
   "id": "e1ac29e7-0a02-4a85-b45d-81be7fd8d992",
   "metadata": {},
   "outputs": [
    {
     "name": "stdout",
     "output_type": "stream",
     "text": [
      "[ 9  7  5  3  1 -1 -3 -5 -7]\n"
     ]
    }
   ],
   "source": [
    "arr1=np.arange(10,1,-1)\n",
    "arr2=np.arange(1,10)\n",
    "sub=arr1-arr2\n",
    "print(sub)"
   ]
  },
  {
   "cell_type": "markdown",
   "id": "a07fd5f1-1bd4-4b0e-a642-c6e6deeaf126",
   "metadata": {},
   "source": [
    "# 53. Create a NumPy array `arr1` with random integers and another array `arr2` with integers from 1 to 5. Perform element-wise multiplication between `arr1` and `arr2`."
   ]
  },
  {
   "cell_type": "code",
   "execution_count": 55,
   "id": "bbfbaeda-0c22-432f-a553-c5ed47c62d4f",
   "metadata": {},
   "outputs": [
    {
     "name": "stdout",
     "output_type": "stream",
     "text": [
      "[ 7 16 30  4 25]\n"
     ]
    }
   ],
   "source": [
    "arr1=np.random.randint(1,11,size=5)\n",
    "arr2=np.arange(1,6)\n",
    "\n",
    "mul=arr1*arr2\n",
    "print(mul)"
   ]
  },
  {
   "cell_type": "markdown",
   "id": "a1d14abc-021d-4fd6-a647-7fc6fcd2835a",
   "metadata": {},
   "source": [
    "# 54. Generate a NumPy array `arr1` with even integers from 2 to 10 and another array `arr2` with integers from 1 to 5. Perform element-wise division of `arr1` by `arr2`."
   ]
  },
  {
   "cell_type": "code",
   "execution_count": 58,
   "id": "b4f6ac65-0d07-4968-abca-e71fa34a0324",
   "metadata": {},
   "outputs": [
    {
     "name": "stdout",
     "output_type": "stream",
     "text": [
      "[2. 2. 2. 2. 2.]\n"
     ]
    }
   ],
   "source": [
    "arr1=np.arange(2,11,2)\n",
    "arr2=np.arange(1,6)\n",
    "\n",
    "div=arr1/arr2\n",
    "print(div)"
   ]
  },
  {
   "cell_type": "markdown",
   "id": "3ae58289-9d4b-4a8c-a413-26b4bb0a6fb8",
   "metadata": {},
   "source": [
    "# 55.  Create a NumPy array `arr1` with integers from 1 to 5 and another array `arr2` with the same numbers reversed. Calculate the exponentiation of `arr1` raised to the power of `arr2` element-wise."
   ]
  },
  {
   "cell_type": "code",
   "execution_count": 59,
   "id": "f4f40067-fd6d-4a09-996d-d53e779bcdf2",
   "metadata": {},
   "outputs": [
    {
     "name": "stdout",
     "output_type": "stream",
     "text": [
      "[ 6 25 64 81 32]\n"
     ]
    }
   ],
   "source": [
    "arr1=np.arange(1,6)\n",
    "arr_rev=np.arange(6,1,-1)\n",
    "\n",
    "pow=arr_rev**arr1\n",
    "print(pow)"
   ]
  },
  {
   "cell_type": "markdown",
   "id": "27edebec-8c38-47bc-b69c-b2031445f4ed",
   "metadata": {},
   "source": [
    "# 56. Write a function that counts the occurrences of a specific substring within a NumPy array of strings."
   ]
  },
  {
   "cell_type": "code",
   "execution_count": 60,
   "id": "ed6342d5-7952-4302-a8e9-f345cca3dc6c",
   "metadata": {},
   "outputs": [
    {
     "name": "stdout",
     "output_type": "stream",
     "text": [
      "Array of Strings: ['hello' 'world' 'hello' 'numpy' 'hello']\n",
      "Occurrences of 'hello': [1 0 1 0 1]\n"
     ]
    }
   ],
   "source": [
    "arr = np.array(['hello', 'world', 'hello', 'numpy', 'hello'])\n",
    "import numpy as np\n",
    "\n",
    "def count_substring(arr, substring):\n",
    "    return np.char.count(arr, substring)\n",
    "\n",
    "substring = \"hello\"\n",
    "counts = count_substring(arr, substring)\n",
    "\n",
    "print(\"Array of Strings:\", arr)\n",
    "print(f\"Occurrences of '{substring}':\", counts)\n"
   ]
  },
  {
   "cell_type": "markdown",
   "id": "6ce6328a-bbef-41e8-bd5b-5e0fc528509a",
   "metadata": {},
   "source": [
    "# 57. Write a function that extracts uppercase characters from a NumPy array of strings.\n"
   ]
  },
  {
   "cell_type": "code",
   "execution_count": 63,
   "id": "b52a68a5-3298-433e-b61d-63c4e02d144d",
   "metadata": {},
   "outputs": [
    {
     "name": "stdout",
     "output_type": "stream",
     "text": [
      "Original Array: ['Hello' 'World' 'OpenAI' 'GPT']\n",
      "Uppercase Characters: ['H' 'W' 'OAI' 'GPT']\n"
     ]
    }
   ],
   "source": [
    "import numpy as np\n",
    "\n",
    "arr = np.array(['Hello', 'World', 'OpenAI', 'GPT'])\n",
    "\n",
    "upper_char = np.array([''.join([char for char in word if char.isupper()]) for word in arr])\n",
    "\n",
    "print(\"Original Array:\", arr)\n",
    "print(\"Uppercase Characters:\", upper_char)"
   ]
  },
  {
   "cell_type": "markdown",
   "id": "475531c5-4c36-41e7-823f-9ed770f05d8c",
   "metadata": {},
   "source": [
    "# 58. Write a function that replaces occurrences of a substring in a NumPy array of strings with a new string."
   ]
  },
  {
   "cell_type": "code",
   "execution_count": 2,
   "id": "7231ece2-de1d-4506-bac9-c85bf240fd45",
   "metadata": {},
   "outputs": [
    {
     "name": "stdout",
     "output_type": "stream",
     "text": [
      "Original Array: ['apple' 'banana' 'grape' 'pineapple']\n",
      "Updated Array: ['mango' 'banana' 'grape' 'pinemango']\n"
     ]
    }
   ],
   "source": [
    "import numpy as np\n",
    "\n",
    "def replace_substring(arr, old_substring, new_substring):\n",
    "    return np.char.replace(arr, old_substring, new_substring)\n",
    "\n",
    "arr = np.array(['apple', 'banana', 'grape', 'pineapple'])\n",
    "updated_arr = replace_substring(arr, \"apple\", \"mango\")\n",
    "\n",
    "print(\"Original Array:\", arr)\n",
    "print(\"Updated Array:\", updated_arr)\n",
    "\n"
   ]
  },
  {
   "cell_type": "markdown",
   "id": "634af40b-7fa9-4c73-ba4f-faa4c3a821c4",
   "metadata": {},
   "source": [
    "# 59. Write a function that concatenates strings in a NumPy array element-wise."
   ]
  },
  {
   "cell_type": "code",
   "execution_count": 3,
   "id": "53c842ed-37dc-4ab7-931e-df1d9c712a91",
   "metadata": {},
   "outputs": [
    {
     "name": "stdout",
     "output_type": "stream",
     "text": [
      "Concatenated Array: ['HelloOpen' 'WorldAI']\n"
     ]
    }
   ],
   "source": [
    "def concatenate_arrays(arr1, arr2):\n",
    "    return np.char.add(arr1, arr2)\n",
    "\n",
    "arr1 = np.array(['Hello', 'World'])\n",
    "arr2 = np.array(['Open', 'AI'])\n",
    "\n",
    "result = concatenate_arrays(arr1, arr2)\n",
    "\n",
    "print(\"Concatenated Array:\", result)"
   ]
  },
  {
   "cell_type": "markdown",
   "id": "ac756c7c-35c6-454f-9c0b-b56769916305",
   "metadata": {},
   "source": [
    "# 60. Write a function that finds the length of the longest string in a NumPy array."
   ]
  },
  {
   "cell_type": "code",
   "execution_count": 4,
   "id": "51d48762-ad0a-4192-896c-7a71ba11e9d7",
   "metadata": {},
   "outputs": [
    {
     "name": "stdout",
     "output_type": "stream",
     "text": [
      "Length of the longest string: 9\n"
     ]
    }
   ],
   "source": [
    "import numpy as np\n",
    "\n",
    "def longest_string_length(arr):\n",
    "    return max(np.char.str_len(arr))\n",
    "\n",
    "arr = np.array(['apple', 'banana', 'grape', 'pineapple'])\n",
    "max_length = longest_string_length(arr)\n",
    "\n",
    "print(\"Length of the longest string:\", max_length)\n"
   ]
  },
  {
   "cell_type": "markdown",
   "id": "86b77b81-f308-424d-82dc-13081e2be153",
   "metadata": {},
   "source": [
    "# 61. Create a dataset of 100 random integers between 1 and 1000. Compute the mean, median, variance, and standard deviation of the dataset using NumPy's functions."
   ]
  },
  {
   "cell_type": "code",
   "execution_count": 5,
   "id": "0dbda8be-f390-4965-bbb5-647159874b2f",
   "metadata": {},
   "outputs": [
    {
     "name": "stdout",
     "output_type": "stream",
     "text": [
      "Dataset: [145 951 842 589  42 399 801 917 672 228 272 816 822 787 347 670 123 311\n",
      " 532 853 246 861 566 552 597 484 519 299 590 276  99 625 838 661 317 968\n",
      " 136 798 741 160 694 180 260 852 625 528 599 725 250 887 601 974 750 199\n",
      " 164 892 420 129 951 803 880 491 312 275 918  11 163 736 928 844 760  88\n",
      " 925 590 502 318  81 725 877   6 211 508 987 994 963 840 242 844  63 546\n",
      " 184 144 915 178 670  77 185 834 172 938]\n",
      "Mean: 538.6\n",
      "Median: 589.5\n",
      "Variance: 92460.52000000002\n",
      "Standard Deviation: 304.0732148677355\n"
     ]
    }
   ],
   "source": [
    "dataset = np.random.randint(1, 1001, size=100)\n",
    "\n",
    "mean_value = np.mean(dataset)\n",
    "median_value = np.median(dataset)\n",
    "variance_value = np.var(dataset)\n",
    "std_deviation_value = np.std(dataset)\n",
    "\n",
    "print(\"Dataset:\", dataset)\n",
    "print(\"Mean:\", mean_value)\n",
    "print(\"Median:\", median_value)\n",
    "print(\"Variance:\", variance_value)\n",
    "print(\"Standard Deviation:\", std_deviation_value)"
   ]
  },
  {
   "cell_type": "markdown",
   "id": "ffae7441-6a41-46d1-8ad8-95970f53f80f",
   "metadata": {},
   "source": [
    "# 62. Generate an array of 50 random numbers between 1 and 100. Find the 25th and 75th percentiles of the dataset."
   ]
  },
  {
   "cell_type": "code",
   "execution_count": 6,
   "id": "cff54504-1d8c-4030-a2a2-09b959efdcf4",
   "metadata": {},
   "outputs": [
    {
     "name": "stdout",
     "output_type": "stream",
     "text": [
      "Dataset: [ 60  75  70  22  47  86  20  56  72  50  66   3  47  70  48  64  24  96\n",
      "  30  44  39  43   2  39  68  38  91  58  85   5  59  26  16  54  29  19\n",
      "   6  27  25   8  44  57  10  18  12  58  50  32  32 100]\n",
      "25th Percentile: 24.25\n",
      "75th Percentile: 59.75\n"
     ]
    }
   ],
   "source": [
    "dataset = np.random.randint(1, 101, size=50)\n",
    "\n",
    "percentile_25 = np.percentile(dataset, 25)\n",
    "percentile_75 = np.percentile(dataset, 75)\n",
    "\n",
    "print(\"Dataset:\", dataset)\n",
    "print(\"25th Percentile:\", percentile_25)\n",
    "print(\"75th Percentile:\", percentile_75)"
   ]
  },
  {
   "cell_type": "markdown",
   "id": "b65e347c-fc92-447d-84d8-0f09c27342a6",
   "metadata": {},
   "source": [
    "# 63. Create two arrays representing two sets of variables. Compute the correlation coefficient between these arrays using NumPy's `corrcoef` function."
   ]
  },
  {
   "cell_type": "code",
   "execution_count": 8,
   "id": "59da3f14-8c6a-4971-b949-f053341392bb",
   "metadata": {},
   "outputs": [
    {
     "name": "stdout",
     "output_type": "stream",
     "text": [
      "Array 1: [ 5 25 89 13 23 83 14 63 66 13]\n",
      "Array 2: [17 15  9 72 50 88 50 33 56 88]\n",
      "Correlation Coefficient Matrix:\n",
      " [[ 1.         -0.06671189]\n",
      " [-0.06671189  1.        ]]\n"
     ]
    }
   ],
   "source": [
    "arr1 = np.random.randint(1, 100, size=10)\n",
    "arr2 = np.random.randint(1, 100, size=10)\n",
    "\n",
    "correlation_matrix = np.corrcoef(arr1, arr2)\n",
    "\n",
    "\n",
    "print(\"Array 1:\", arr1)\n",
    "print(\"Array 2:\", arr2)\n",
    "print(\"Correlation Coefficient Matrix:\\n\", correlation_matrix)"
   ]
  },
  {
   "cell_type": "markdown",
   "id": "b04f0c7a-1317-4402-9c4e-3db7c81a9f5b",
   "metadata": {},
   "source": [
    "# 64. Create two matrices and perform matrix multiplication using NumPy's `dot` function."
   ]
  },
  {
   "cell_type": "code",
   "execution_count": 9,
   "id": "7fdac01f-085a-4a5a-aef2-1bb90e73b619",
   "metadata": {},
   "outputs": [
    {
     "name": "stdout",
     "output_type": "stream",
     "text": [
      "Matrix 1:\n",
      " [[6 5]\n",
      " [8 6]\n",
      " [5 8]]\n",
      "Matrix 2:\n",
      " [[2 3 4]\n",
      " [5 1 4]]\n",
      "Result of Matrix Multiplication:\n",
      " [[37 23 44]\n",
      " [46 30 56]\n",
      " [50 23 52]]\n"
     ]
    }
   ],
   "source": [
    "import numpy as np\n",
    "\n",
    "matrix1 = np.random.randint(1, 10, size=(3, 2))\n",
    "matrix2 = np.random.randint(1, 10, size=(2, 3))\n",
    "\n",
    "result = np.dot(matrix1, matrix2)\n",
    "\n",
    "# Print results\n",
    "print(\"Matrix 1:\\n\", matrix1)\n",
    "print(\"Matrix 2:\\n\", matrix2)\n",
    "print(\"Result of Matrix Multiplication:\\n\", result)\n"
   ]
  },
  {
   "cell_type": "markdown",
   "id": "12900f77-680e-4b7a-a804-6271efa97851",
   "metadata": {},
   "source": [
    "# 65. Create an array of 50 integers between 10 and 1000. Calculate the 10th, 50th (median), and 90th percentiles along with the first and third quartiles."
   ]
  },
  {
   "cell_type": "code",
   "execution_count": 11,
   "id": "7e79c2e7-8454-4f05-aa55-29cefaee96fe",
   "metadata": {},
   "outputs": [
    {
     "name": "stdout",
     "output_type": "stream",
     "text": [
      "Array: [709 828 412 960 136 454 673  23 108 111 154 384 289 998 603 544 525 268\n",
      " 443 726 184 668 128 357 884 335 152 676 435 580 292 929  80 991 671 551\n",
      " 617 513 311 181 401 813 634 277 296 355 955 159 105 221]\n",
      "10th Percentile: 126.30000000000001\n",
      "50th Percentile (Median): 423.5\n",
      "90th Percentile: 888.5000000000001\n",
      "First Quartile (Q1): 232.75\n",
      "Third Quartile (Q3): 670.25\n"
     ]
    }
   ],
   "source": [
    "arr = np.random.randint(10, 1001, size=50)\n",
    "\n",
    "percentile_10 = np.percentile(arr, 10)\n",
    "percentile_50 = np.percentile(arr, 50)  \n",
    "percentile_90 = np.percentile(arr, 90)\n",
    "first_quartile = np.percentile(arr, 25)\n",
    "third_quartile = np.percentile(arr, 75)\n",
    "\n",
    "print(\"Array:\", arr)\n",
    "print(\"10th Percentile:\", percentile_10)\n",
    "print(\"50th Percentile (Median):\", percentile_50)\n",
    "print(\"90th Percentile:\", percentile_90)\n",
    "print(\"First Quartile (Q1):\", first_quartile)\n",
    "print(\"Third Quartile (Q3):\", third_quartile)"
   ]
  },
  {
   "cell_type": "markdown",
   "id": "c7a31655-1eed-4943-8872-ffc3de08ddfb",
   "metadata": {},
   "source": [
    "# 66. Create a NumPy array of integers and find the index of a specific element."
   ]
  },
  {
   "cell_type": "code",
   "execution_count": 13,
   "id": "bc00fde7-e3ea-4d00-9e95-062b6f28d997",
   "metadata": {},
   "outputs": [
    {
     "name": "stdout",
     "output_type": "stream",
     "text": [
      "Index of element 30: 2\n"
     ]
    }
   ],
   "source": [
    "arr = np.array([10, 20, 30, 40, 50, 60])\n",
    "\n",
    "element = 30\n",
    "for i in range(len(arr)):\n",
    "    if arr[i]==element:\n",
    "        print(f\"Index of element {element}:\", i)\n",
    "    \n"
   ]
  },
  {
   "cell_type": "markdown",
   "id": "8740d161-1142-4c64-8877-4be5b59fe0f5",
   "metadata": {},
   "source": [
    "# 67. Generate a random NumPy array and sort it in ascending order."
   ]
  },
  {
   "cell_type": "code",
   "execution_count": 14,
   "id": "e311db7e-ba80-43ca-b31b-40a9632903d1",
   "metadata": {},
   "outputs": [
    {
     "name": "stdout",
     "output_type": "stream",
     "text": [
      "sorted array is :  [20, 40, 50, 60, 70, 100]\n"
     ]
    }
   ],
   "source": [
    "arr = np.array([50, 20, 60, 40, 100, 70])\n",
    "print(\"sorted array is : \",sorted(arr))\n"
   ]
  },
  {
   "cell_type": "markdown",
   "id": "571cdde5-12cb-47dd-92f5-47b287e0c492",
   "metadata": {},
   "source": [
    "# 68. Filter elements >20  in the given NumPy array."
   ]
  },
  {
   "cell_type": "code",
   "execution_count": 15,
   "id": "21cfdc3c-e2de-4022-9abb-9c56d442ed2a",
   "metadata": {},
   "outputs": [
    {
     "name": "stdout",
     "output_type": "stream",
     "text": [
      "25\n",
      "42\n",
      "30\n"
     ]
    }
   ],
   "source": [
    "arr = np.array([12, 25, 6, 42, 8, 30])\n",
    "for i in arr:\n",
    "    if i>20:\n",
    "        print(i)"
   ]
  },
  {
   "cell_type": "markdown",
   "id": "dcb01e7d-1c75-40bc-b7ac-e057065e109c",
   "metadata": {},
   "source": [
    "# 69. Filter elements which are divisible by 3 from a given NumPy array."
   ]
  },
  {
   "cell_type": "code",
   "execution_count": 16,
   "id": "f24459e7-1f48-419f-8528-64764c4f185d",
   "metadata": {},
   "outputs": [
    {
     "name": "stdout",
     "output_type": "stream",
     "text": [
      "12\n",
      "15\n"
     ]
    }
   ],
   "source": [
    "arr = np.array([1, 5, 8, 12, 15])\n",
    "for i in arr:\n",
    "    if i%3==0:\n",
    "        print(i)"
   ]
  },
  {
   "cell_type": "markdown",
   "id": "3f681895-8bfe-4cad-8e99-d5edab6cb06b",
   "metadata": {},
   "source": [
    "# 70. Filter elements which are ≥ 20 and ≤ 40 from a given NumPy array."
   ]
  },
  {
   "cell_type": "code",
   "execution_count": 17,
   "id": "a8b2917b-d9cc-417b-9a08-996139e82ab2",
   "metadata": {},
   "outputs": [
    {
     "name": "stdout",
     "output_type": "stream",
     "text": [
      "20\n",
      "30\n",
      "40\n"
     ]
    }
   ],
   "source": [
    "arr = np.array([10, 20, 30, 40, 50])\n",
    "for i in arr:\n",
    "    if 20<=i<=40:\n",
    "        print(i)"
   ]
  },
  {
   "cell_type": "markdown",
   "id": "972cf1e2-a35b-4977-a5ae-f2bef8c5ce47",
   "metadata": {},
   "source": [
    "# 71. For the given NumPy array, check its byte order using the `dtype` attribute byteorder."
   ]
  },
  {
   "cell_type": "code",
   "execution_count": 19,
   "id": "8876d4bc-10eb-41d8-a93e-2cf924987d23",
   "metadata": {},
   "outputs": [
    {
     "name": "stdout",
     "output_type": "stream",
     "text": [
      "Array: [1 2 3]\n",
      "Byte Order: =\n"
     ]
    }
   ],
   "source": [
    "arr = np.array([1, 2, 3])\n",
    "byte_order = arr.dtype.byteorder\n",
    "\n",
    "print(\"Array:\", arr)\n",
    "print(\"Byte Order:\", byte_order)"
   ]
  },
  {
   "cell_type": "markdown",
   "id": "09241448-232a-4936-8687-6f87cdf2f014",
   "metadata": {},
   "source": [
    "# 72. For the given NumPy array, perform byte swapping in place using `byteswap()`."
   ]
  },
  {
   "cell_type": "code",
   "execution_count": 21,
   "id": "50871ba1-eb09-4d7e-87a4-131850c6a5b2",
   "metadata": {},
   "outputs": [
    {
     "name": "stdout",
     "output_type": "stream",
     "text": [
      "Byte-swapped Array: [16777216 33554432 50331648]\n"
     ]
    }
   ],
   "source": [
    "arr = np.array([1, 2, 3], dtype=np.int32)\n",
    "arr.byteswap(True)\n",
    "\n",
    "print(\"Byte-swapped Array:\", arr)"
   ]
  },
  {
   "cell_type": "markdown",
   "id": "174cd21a-a02a-40c6-80a3-c68d5c0effa2",
   "metadata": {},
   "source": [
    "# 73. For the given NumPy array, swap its byte order without modifying the original array using`newbyteorder()`."
   ]
  },
  {
   "cell_type": "code",
   "execution_count": 23,
   "id": "8f619373-b4c0-471c-b00f-2936d0bdcbea",
   "metadata": {},
   "outputs": [
    {
     "name": "stdout",
     "output_type": "stream",
     "text": [
      "Original Array: [1 2 3]\n",
      "Byte-swapped Array: [16777216 33554432 50331648]\n"
     ]
    }
   ],
   "source": [
    "arr = np.array([1, 2, 3], dtype=np.int32)\n",
    "swapped_arr = arr.newbyteorder()\n",
    "\n",
    "print(\"Original Array:\", arr)\n",
    "print(\"Byte-swapped Array:\", swapped_arr)"
   ]
  },
  {
   "cell_type": "markdown",
   "id": "f04861d5-bbe2-438f-9123-b0e3ab6e1809",
   "metadata": {},
   "source": [
    "# 74. For the given NumPy array and swap its byte order conditionally based on system endianness using`newbyteorder()`."
   ]
  },
  {
   "cell_type": "code",
   "execution_count": 24,
   "id": "d7414e47-6e07-4b45-ad3b-14fd16969220",
   "metadata": {},
   "outputs": [
    {
     "name": "stdout",
     "output_type": "stream",
     "text": [
      "Original Array: [1 2 3]\n",
      "Byte-swapped Array: [16777216 33554432 50331648]\n"
     ]
    }
   ],
   "source": [
    "arr = np.array([1, 2, 3], dtype=np.int32)\n",
    "if arr.dtype.byteorder == '=':  \n",
    "    swapped_arr = arr.newbyteorder()\n",
    "else:\n",
    "    swapped_arr = arr  \n",
    "\n",
    "print(\"Original Array:\", arr)\n",
    "print(\"Byte-swapped Array:\", swapped_arr)"
   ]
  },
  {
   "cell_type": "markdown",
   "id": "e1ee2fc1-a9af-4950-aba4-04328e77ffdb",
   "metadata": {},
   "source": [
    "# 75. For the given NumPy array, check if byte swapping is necessary for the current system using `dtype`attribute `byteorder`."
   ]
  },
  {
   "cell_type": "code",
   "execution_count": 25,
   "id": "bc8cf1c9-1819-4233-96cb-784b3fb36e17",
   "metadata": {},
   "outputs": [
    {
     "name": "stdout",
     "output_type": "stream",
     "text": [
      "Array: [1 2 3]\n",
      "Byte Order: =\n",
      "Needs Byte Swapping: False\n"
     ]
    }
   ],
   "source": [
    "arr = np.array([1, 2, 3], dtype=np.int32)\n",
    "if arr.dtype.byteorder == '=':  \n",
    "    needs_swapping = False\n",
    "else:\n",
    "    needs_swapping = True\n",
    "\n",
    "print(\"Array:\", arr)\n",
    "print(\"Byte Order:\", arr.dtype.byteorder)\n",
    "print(\"Needs Byte Swapping:\", needs_swapping)"
   ]
  },
  {
   "cell_type": "markdown",
   "id": "5d0f0c0f-0be3-4736-ab68-443fe4a6091c",
   "metadata": {},
   "source": [
    "# 76. Create a NumPy array `arr1` with values from 1 to 10. Create a copy of `arr1` named `copy_arr` and modify an element in `copy_arr`. Check if modifying `copy_arr` affects `arr1`."
   ]
  },
  {
   "cell_type": "code",
   "execution_count": 26,
   "id": "fc1b6614-3eaa-46de-b4c7-fa36e4581c04",
   "metadata": {},
   "outputs": [
    {
     "name": "stdout",
     "output_type": "stream",
     "text": [
      "Original Array (arr1): [ 1  2  3  4  5  6  7  8  9 10]\n",
      "Modified Copy (copy_arr): [100   2   3   4   5   6   7   8   9  10]\n",
      "Modification did NOT affect the original array.\n"
     ]
    }
   ],
   "source": [
    "arr1 = np.arange(1, 11)\n",
    "\n",
    "copy_arr = arr1.copy()\n",
    "\n",
    "copy_arr[0] = 100\n",
    "\n",
    "print(\"Original Array (arr1):\", arr1)\n",
    "print(\"Modified Copy (copy_arr):\", copy_arr)\n",
    "\n",
    "if np.array_equal(arr1, copy_arr):\n",
    "    print(\"Modification affected the original array.\")\n",
    "else:\n",
    "    print(\"Modification did NOT affect the original array.\")"
   ]
  },
  {
   "cell_type": "markdown",
   "id": "48cd5f0d-06ce-4c1e-8e0f-7be98d683021",
   "metadata": {},
   "source": [
    "# 77. Create a 2D NumPy array `matrix` of shape (3, 3) with random integers. Extract a slice `view_slice` from the matrix. Modify an element in `view_slice` and observe if it changes the original `matrix`."
   ]
  },
  {
   "cell_type": "code",
   "execution_count": 27,
   "id": "24d025e9-7384-4577-819a-a2254d8c86a0",
   "metadata": {},
   "outputs": [
    {
     "name": "stdout",
     "output_type": "stream",
     "text": [
      "Original Matrix after modifying view_slice:\n",
      " [[999  42  78]\n",
      " [ 34  46  17]\n",
      " [ 69  50   4]]\n",
      "View Slice:\n",
      " [[999  42]\n",
      " [ 34  46]]\n"
     ]
    }
   ],
   "source": [
    "matrix = np.random.randint(1, 100, size=(3, 3))\n",
    "\n",
    "view_slice = matrix[:2, :2]  \n",
    "\n",
    "view_slice[0, 0] = 999\n",
    "\n",
    "print(\"Original Matrix after modifying view_slice:\\n\", matrix)\n",
    "print(\"View Slice:\\n\", view_slice)"
   ]
  },
  {
   "cell_type": "markdown",
   "id": "00a9a2e5-7718-407b-b1ad-897bc2b6b0f5",
   "metadata": {},
   "source": [
    "# 78. Create a NumPy array `array_a` of shape (4, 3) with sequential integers from 1 to 12. Extract a slice `view_b` from `array_a` and broadcast the addition of 5 to view_b. Check if it alters the original `array_a`.\n"
   ]
  },
  {
   "cell_type": "code",
   "execution_count": 28,
   "id": "a3d074fe-ac0b-4069-8306-2353843bafed",
   "metadata": {},
   "outputs": [
    {
     "name": "stdout",
     "output_type": "stream",
     "text": [
      "Original Array after modifying view_b:\n",
      " [[ 6  7  8]\n",
      " [ 9 10 11]\n",
      " [ 7  8  9]\n",
      " [10 11 12]]\n"
     ]
    }
   ],
   "source": [
    "array_a = np.arange(1, 13).reshape(4, 3)\n",
    "\n",
    "view_b = array_a[:2, :]\n",
    "view_b += 5\n",
    "\n",
    "print(\"Original Array after modifying view_b:\\n\", array_a)"
   ]
  },
  {
   "cell_type": "markdown",
   "id": "2112ba6f-d47f-4880-aaba-73216277ddc6",
   "metadata": {},
   "source": [
    "# 79. Create a NumPy array `orig_array` of shape (2, 4) with values from 1 to 8. Create a reshaped view`reshaped_view` of shape (4, 2) from orig_array. Modify an element in `reshaped_view` and check if itreflects changes in the original `orig_array`.\n"
   ]
  },
  {
   "cell_type": "code",
   "execution_count": 29,
   "id": "bd40a96e-1d63-4a5a-b40b-3c4f853c68a3",
   "metadata": {},
   "outputs": [
    {
     "name": "stdout",
     "output_type": "stream",
     "text": [
      "Original Array after modifying reshaped_view:\n",
      " [[  1   2 999   4]\n",
      " [  5   6   7   8]]\n"
     ]
    }
   ],
   "source": [
    "orig_array = np.arange(1, 9).reshape(2, 4)\n",
    "\n",
    "reshaped_view = orig_array.reshape(4, 2)\n",
    "reshaped_view[1, 0] = 999\n",
    "\n",
    "print(\"Original Array after modifying reshaped_view:\\n\", orig_array)"
   ]
  },
  {
   "cell_type": "markdown",
   "id": "f65ea5b5-f7f8-4306-85b7-21166557b86b",
   "metadata": {},
   "source": [
    "# 80. Create a NumPy array `data` of shape (3, 4) with random integers. Extract a copy `data_copy` of elements greater than 5. Modify an element in `data_copy` and verify if it affects the original `data`."
   ]
  },
  {
   "cell_type": "code",
   "execution_count": 30,
   "id": "89b8b486-6dbb-4840-a282-c2d81953219c",
   "metadata": {},
   "outputs": [
    {
     "name": "stdout",
     "output_type": "stream",
     "text": [
      "Original Array:\n",
      " [[10  9 17  3]\n",
      " [11  2 17  6]\n",
      " [10  4 12 16]]\n",
      "Modified Copy:\n",
      " [999   9  17  11  17   6  10  12  16]\n"
     ]
    }
   ],
   "source": [
    "data = np.random.randint(1, 20, (3, 4))\n",
    "\n",
    "data_copy = data[data > 5].copy()\n",
    "data_copy[0] = 999\n",
    "\n",
    "\n",
    "print(\"Original Array:\\n\", data)\n",
    "print(\"Modified Copy:\\n\", data_copy)\n"
   ]
  },
  {
   "cell_type": "markdown",
   "id": "55b8bb37-8a97-41f2-b667-088c3571e496",
   "metadata": {},
   "source": [
    "# 81. Create two matrices A and B of identical shape containing integers and perform addition and subtraction operations between them."
   ]
  },
  {
   "cell_type": "code",
   "execution_count": 31,
   "id": "02b9cf66-409e-49b7-a66c-659319137d90",
   "metadata": {},
   "outputs": [
    {
     "name": "stdout",
     "output_type": "stream",
     "text": [
      "Addition:\n",
      " [[10 10 10]\n",
      " [10 10 10]\n",
      " [10 10 10]]\n",
      "Subtraction:\n",
      " [[-8 -6 -4]\n",
      " [-2  0  2]\n",
      " [ 4  6  8]]\n"
     ]
    }
   ],
   "source": [
    "A = np.array([[1, 2, 3], [4, 5, 6], [7, 8, 9]])\n",
    "B = np.array([[9, 8, 7], [6, 5, 4], [3, 2, 1]])\n",
    "\n",
    "add_result = A + B\n",
    "sub_result = A - B\n",
    "\n",
    "print(\"Addition:\\n\", add_result)\n",
    "print(\"Subtraction:\\n\", sub_result)"
   ]
  },
  {
   "cell_type": "markdown",
   "id": "8ac59272-1692-4d7b-bf88-9008de7a1c79",
   "metadata": {},
   "source": [
    "# 82. Generate two matrices `C` (3x2) and `D` (2x4) and perform matrix multiplication."
   ]
  },
  {
   "cell_type": "code",
   "execution_count": 32,
   "id": "52b01a75-701c-476b-812a-c8827c56fbdf",
   "metadata": {},
   "outputs": [
    {
     "name": "stdout",
     "output_type": "stream",
     "text": [
      "Matrix Multiplication Result:\n",
      " [[ 29  32  35  38]\n",
      " [ 65  72  79  86]\n",
      " [101 112 123 134]]\n"
     ]
    }
   ],
   "source": [
    "C = np.array([[1, 2], [3, 4], [5, 6]])\n",
    "D = np.array([[7, 8, 9, 10], [11, 12, 13, 14]])\n",
    "\n",
    "result = np.dot(C, D)\n",
    "\n",
    "print(\"Matrix Multiplication Result:\\n\", result)"
   ]
  },
  {
   "cell_type": "markdown",
   "id": "cbe6cbea-55e7-4b22-a654-770bc3d9206a",
   "metadata": {},
   "source": [
    "# 83. Create a matrix `E` and find its transpose."
   ]
  },
  {
   "cell_type": "code",
   "execution_count": 33,
   "id": "7db04e6c-a2ca-4809-a0c6-e403d1f78ca6",
   "metadata": {},
   "outputs": [
    {
     "name": "stdout",
     "output_type": "stream",
     "text": [
      "Original Matrix:\n",
      " [[1 2 3]\n",
      " [4 5 6]]\n",
      "Transposed Matrix:\n",
      " [[1 4]\n",
      " [2 5]\n",
      " [3 6]]\n"
     ]
    }
   ],
   "source": [
    "E = np.array([[1, 2, 3], [4, 5, 6]])\n",
    "\n",
    "E_transpose = E.T\n",
    "\n",
    "print(\"Original Matrix:\\n\", E)\n",
    "print(\"Transposed Matrix:\\n\", E_transpose)\n"
   ]
  },
  {
   "cell_type": "markdown",
   "id": "6c7a57c3-fc30-424f-b564-15fec26a299d",
   "metadata": {},
   "source": [
    "# 84. Generate a square matrix `F` and compute its determinant.\n"
   ]
  },
  {
   "cell_type": "code",
   "execution_count": 34,
   "id": "97ae395e-3d8e-4fd4-9985-17b017fb724c",
   "metadata": {},
   "outputs": [
    {
     "name": "stdout",
     "output_type": "stream",
     "text": [
      "Determinant of F: -306.0\n"
     ]
    }
   ],
   "source": [
    "F = np.array([[6, 1, 1], [4, -2, 5], [2, 8, 7]])\n",
    "det_F = np.linalg.det(F)\n",
    "\n",
    "print(\"Determinant of F:\", det_F)\n"
   ]
  },
  {
   "cell_type": "markdown",
   "id": "c8e3e30a-d652-4b28-b18c-36eeba225efc",
   "metadata": {},
   "source": [
    "# 85. Create a square matrix `G` and find its inverse"
   ]
  },
  {
   "cell_type": "code",
   "execution_count": 35,
   "id": "9fe08796-7483-49bf-9a1c-60bb3062132b",
   "metadata": {},
   "outputs": [
    {
     "name": "stdout",
     "output_type": "stream",
     "text": [
      "Inverse of G:\n",
      " [[ 0.2  0.2  0. ]\n",
      " [-0.2  0.3  1. ]\n",
      " [ 0.2 -0.3 -0. ]]\n"
     ]
    }
   ],
   "source": [
    "G = np.array([[3, 0, 2], [2, 0, -2], [0, 1, 1]])\n",
    "\n",
    "G_inverse = np.linalg.inv(G)\n",
    "\n",
    "print(\"Inverse of G:\\n\", G_inverse)"
   ]
  },
  {
   "cell_type": "code",
   "execution_count": null,
   "id": "1364ea51-3e6a-4dae-a6fb-f3dd340e53a6",
   "metadata": {},
   "outputs": [],
   "source": []
  }
 ],
 "metadata": {
  "kernelspec": {
   "display_name": "Python 3 (ipykernel)",
   "language": "python",
   "name": "python3"
  },
  "language_info": {
   "codemirror_mode": {
    "name": "ipython",
    "version": 3
   },
   "file_extension": ".py",
   "mimetype": "text/x-python",
   "name": "python",
   "nbconvert_exporter": "python",
   "pygments_lexer": "ipython3",
   "version": "3.12.0"
  },
  "widgets": {
   "application/vnd.jupyter.widget-state+json": {
    "state": {},
    "version_major": 2,
    "version_minor": 0
   }
  }
 },
 "nbformat": 4,
 "nbformat_minor": 5
}
