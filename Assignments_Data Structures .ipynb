{
 "cells": [
  {
   "cell_type": "markdown",
   "id": "f3a8bc8a",
   "metadata": {},
   "source": [
    "#  1. Write a code to reverse a string"
   ]
  },
  {
   "cell_type": "code",
   "execution_count": 1,
   "id": "221e2a88",
   "metadata": {},
   "outputs": [
    {
     "name": "stdout",
     "output_type": "stream",
     "text": [
      "enter the nameajit\n",
      "tija\n"
     ]
    }
   ],
   "source": [
    "def reversestring(str):\n",
    "    return str[::-1]\n",
    "\n",
    "Name=input(\"enter the name\")\n",
    "print(reversestring(Name))"
   ]
  },
  {
   "cell_type": "markdown",
   "id": "d41ed610",
   "metadata": {},
   "source": [
    "# 2.Write a code to count the number of vowels ina string "
   ]
  },
  {
   "cell_type": "code",
   "execution_count": 2,
   "id": "9d9a8c5c",
   "metadata": {},
   "outputs": [
    {
     "name": "stdout",
     "output_type": "stream",
     "text": [
      "Enter a string: pwskills\n",
      "Number of vowels in the string: 1\n"
     ]
    }
   ],
   "source": [
    "\n",
    "def count_vowels(s):\n",
    "    vowels = \"aeiouAEIOU\"  # List of vowels (both lowercase and uppercase)\n",
    "    count = 0\n",
    "    for char in s:\n",
    "        if char in vowels:\n",
    "            count += 1\n",
    "    return count\n",
    "\n",
    "# Example usage\n",
    "input_string = input(\"Enter a string: \")\n",
    "vowel_count = count_vowels(input_string)  \n",
    "print(\"Number of vowels in the string:\", vowel_count)"
   ]
  },
  {
   "cell_type": "markdown",
   "id": "2faa75dd",
   "metadata": {},
   "source": [
    "# 3. Write a code to check if a given string is a palindrome or not"
   ]
  },
  {
   "cell_type": "code",
   "execution_count": 3,
   "id": "baf5b42c",
   "metadata": {},
   "outputs": [
    {
     "name": "stdout",
     "output_type": "stream",
     "text": [
      "enter the namemadam\n",
      "this string is a palindrome\n"
     ]
    }
   ],
   "source": [
    "def check_palindrome(str):\n",
    "    r_str=str[::-1]\n",
    "    if str== r_str:\n",
    "        return(\"this string is a palindrome\")\n",
    "    else:\n",
    "        return('not')\n",
    "\n",
    "Name=input(\"enter the name\")\n",
    "print(check_palindrome(Name))"
   ]
  },
  {
   "cell_type": "markdown",
   "id": "142cf416",
   "metadata": {},
   "source": [
    "# 4.Write a code to check if two given strings are anagrams of each other"
   ]
  },
  {
   "cell_type": "code",
   "execution_count": 4,
   "id": "06db7d81",
   "metadata": {},
   "outputs": [
    {
     "name": "stdout",
     "output_type": "stream",
     "text": [
      "enter the first stringaman\n",
      "enter the second stringnama\n",
      "given strings are anagrams of each other\n"
     ]
    }
   ],
   "source": [
    "#an anagram is a word, phrase, or string formed by rearranging the letters of another, using all the original letters exactly once.\n",
    "#Examples of Anagrams:\n",
    "#Words:\"listen\" and \"silent\" → Both use the exact same letters in a different order.\n",
    "#\"evil\" and \"vile\"\n",
    "def checkanagrams(str1,str2):\n",
    "    if sorted(str1)==sorted(str2):\n",
    "        return(\"given strings are anagrams of each other\")\n",
    "    else:\n",
    "        return(\"given strings are not anagrams of each other\")\n",
    "\n",
    "s1=input(\"enter the first string\")\n",
    "s2=input(\"enter the second string\")\n",
    "\n",
    "print(checkanagrams(s1,s2))"
   ]
  },
  {
   "cell_type": "markdown",
   "id": "876b5ffe",
   "metadata": {},
   "source": [
    "# 5. Write a code to find all occurrences of a given substring within another string"
   ]
  },
  {
   "cell_type": "code",
   "execution_count": 5,
   "id": "600518a2",
   "metadata": {},
   "outputs": [
    {
     "name": "stdout",
     "output_type": "stream",
     "text": [
      "enter the main stringall occurrences of a given substring within another\n",
      "enter the sub stringof\n",
      "all occurrences of a given substring within another [16]\n"
     ]
    }
   ],
   "source": [
    "def find_all_ocurrences(main_str,sub_str):\n",
    "    occurrence=[]\n",
    "    start=0\n",
    "    \n",
    "    while start<len(main_str):\n",
    "        start=main_str.find(sub_str,start)\n",
    "        if start==-1:\n",
    "            break;\n",
    "        occurrence.append(start)\n",
    "        start+=1\n",
    "    return occurrence\n",
    "\n",
    "main_str=str(input(\"enter the main string\"))\n",
    "sub_str=str(input(\"enter the sub string\"))\n",
    "result=find_all_ocurrences(main_str,sub_str)\n",
    "print(\"all occurrences of a given substring within another\",result)"
   ]
  },
  {
   "cell_type": "markdown",
   "id": "95f3d910",
   "metadata": {},
   "source": [
    "# 6.Write a code to perform basic string compression using the counts of repeated characters"
   ]
  },
  {
   "cell_type": "code",
   "execution_count": 6,
   "id": "4d9c65d8",
   "metadata": {},
   "outputs": [
    {
     "name": "stdout",
     "output_type": "stream",
     "text": [
      "Compressed String: a3b2c4d1\n"
     ]
    }
   ],
   "source": [
    "def compress_string(s):\n",
    "    compressed = []\n",
    "    count = 1\n",
    "\n",
    "    for i in range(1, len(s)):\n",
    "        if s[i] == s[i - 1]:\n",
    "            count += 1\n",
    "        else:\n",
    "            compressed.append(s[i - 1] + str(count))\n",
    "            count = 1\n",
    "\n",
    "    # Add the last character and its count\n",
    "    if s:\n",
    "        compressed.append(s[-1] + str(count))\n",
    "\n",
    "    # Convert the list into a string\n",
    "    compressed_string = ''.join(compressed)\n",
    "\n",
    "    # Return the original string if compressed version isn't shorter\n",
    "    return compressed_string if len(compressed_string) < len(s) else s\n",
    "\n",
    "# Example usage\n",
    "input_string = \"aaabbccccd\"\n",
    "compressed_result = compress_string(input_string)\n",
    "print(\"Compressed String:\", compressed_result)\n"
   ]
  },
  {
   "cell_type": "markdown",
   "id": "339018ee",
   "metadata": {},
   "source": [
    "# 7. Write a code to determine if a string has all unique characters"
   ]
  },
  {
   "cell_type": "code",
   "execution_count": 7,
   "id": "39ba6daf",
   "metadata": {},
   "outputs": [
    {
     "name": "stdout",
     "output_type": "stream",
     "text": [
      "enter the stringajit\n",
      "a string has all unique characters\n"
     ]
    }
   ],
   "source": [
    "def find_all_unique_char(str):\n",
    "    s=(str) # convert the str into set\n",
    "    if len(s)==len(str):\n",
    "        return \"a string has all unique characters\"\n",
    "    else:\n",
    "        return \"a string has not all unique characters\"\n",
    "str1=str(input(\"enter the string\"))\n",
    "result=find_all_unique_char(str1)\n",
    "print(result)"
   ]
  },
  {
   "cell_type": "markdown",
   "id": "84a77f48",
   "metadata": {},
   "source": [
    "# 8.Write a code to convert a given string to uppercase or lowercase"
   ]
  },
  {
   "cell_type": "code",
   "execution_count": 8,
   "id": "e5a3925d",
   "metadata": {},
   "outputs": [
    {
     "name": "stdout",
     "output_type": "stream",
     "text": [
      "enter the stringAjit\n",
      "uppercase and lowercase if string ('AJIT', 'ajit')\n"
     ]
    }
   ],
   "source": [
    "def uppercase_or_lowercase(str):\n",
    "    result1 =str.upper()\n",
    "    result2=str.lower()\n",
    "    return result1,result2\n",
    "str1=str(input(\"enter the string\"))\n",
    "print(\"uppercase and lowercase if string\",uppercase_or_lowercase(str1))\n"
   ]
  },
  {
   "cell_type": "markdown",
   "id": "992b6b76",
   "metadata": {},
   "source": [
    "# 9.Write a code to count the number of words in a string"
   ]
  },
  {
   "cell_type": "code",
   "execution_count": 28,
   "id": "0045a764",
   "metadata": {},
   "outputs": [
    {
     "name": "stdout",
     "output_type": "stream",
     "text": [
      "enter the stringthe total  number of words in a string\n",
      " the total  number of words in a string 9\n"
     ]
    }
   ],
   "source": [
    "def count_the_number_of_words_in_a_string(str):\n",
    "    count=1\n",
    "    for i in str:\n",
    "        if i ==\" \":\n",
    "            count+=1\n",
    "    return count\n",
    "\n",
    "str1=str(input(\"enter the string\"))\n",
    "print(\" the total  number of words in a string\",count_the_number_of_words_in_a_string(str1))\n"
   ]
  },
  {
   "cell_type": "code",
   "execution_count": 10,
   "id": "9b6328e5",
   "metadata": {},
   "outputs": [
    {
     "name": "stdout",
     "output_type": "stream",
     "text": [
      "Enter the string: The total number of words in the string\n",
      "The total number of words in the string: 8\n"
     ]
    }
   ],
   "source": [
    "# another method\n",
    "def count_the_number_of_words_in_a_string(s):\n",
    "    \"\"\"Counts the number of words in a string.\"\"\"\n",
    "    # Split the string by spaces and count the resulting words\n",
    "    words = s.split()\n",
    "    return len(words)\n",
    "\n",
    "# Taking input from the user\n",
    "str1 = input(\"Enter the string: \")\n",
    "\n",
    "# Calling the function and printing the result\n",
    "print(\"The total number of words in the string:\", count_the_number_of_words_in_a_string(str1))\n"
   ]
  },
  {
   "cell_type": "markdown",
   "id": "d68625b7",
   "metadata": {},
   "source": [
    "# 10.Write a code to concatenate two strings without using the + operator\u0012"
   ]
  },
  {
   "cell_type": "code",
   "execution_count": 11,
   "id": "cc31bf35",
   "metadata": {},
   "outputs": [
    {
     "name": "stdout",
     "output_type": "stream",
     "text": [
      "Enter the frist string: ajit\n",
      "Enter the second string: kumar\n",
      "concatenate two strings without using the + operator ajitkumar\n"
     ]
    }
   ],
   "source": [
    "def concatenate_strings(str1,str2):\n",
    "    #result=''.join([str1,str2])\n",
    "    result=\"{}{}\".format(str1,str2)\n",
    "    return result\n",
    "str1 = input(\"Enter the frist string: \")\n",
    "str2 = input(\"Enter the second string: \")\n",
    "\n",
    "print(\"concatenate two strings without using the + operator\",concatenate_strings(str1,str2))\n",
    "    "
   ]
  },
  {
   "cell_type": "markdown",
   "id": "73854be0",
   "metadata": {},
   "source": [
    "# 11.Write a code to remove all occurrences of a specific element from a list"
   ]
  },
  {
   "cell_type": "code",
   "execution_count": 12,
   "id": "d6c0f7da",
   "metadata": {},
   "outputs": [
    {
     "name": "stdout",
     "output_type": "stream",
     "text": [
      "Enter the element to remove: 2\n",
      "List after removing all occurrences of 2 : [1, 3, 4, 5, 6, 7]\n"
     ]
    }
   ],
   "source": [
    "def remove_all_occurrences(lst, element):\n",
    "    return [x for x in lst if x != element]\n",
    "\n",
    "# Example usage\n",
    "input_list = [1,2,3,4,2,5,6,7,2]\n",
    "element_to_remove = int(input(\"Enter the element to remove: \"))\n",
    "result = remove_all_occurrences(input_list, element_to_remove)\n",
    "print(\"List after removing all occurrences of\", element_to_remove, \":\", result)\n"
   ]
  },
  {
   "cell_type": "markdown",
   "id": "3eef7c84",
   "metadata": {},
   "source": [
    "# 12.Implement a code to find the second largest number in a given list of integers"
   ]
  },
  {
   "cell_type": "code",
   "execution_count": 13,
   "id": "38efcb7e",
   "metadata": {},
   "outputs": [
    {
     "name": "stdout",
     "output_type": "stream",
     "text": [
      "the second largest number in a given list 20\n"
     ]
    }
   ],
   "source": [
    "l1=[1,2,4,10,8,12,190,20]\n",
    "print(\"the second largest number in a given list\",sorted(l1)[-2])"
   ]
  },
  {
   "cell_type": "markdown",
   "id": "30172a5f",
   "metadata": {},
   "source": [
    "# 13.Create a code to count the occurrences of each element in a list and return a dictionary with elements as keys and their counts as values"
   ]
  },
  {
   "cell_type": "code",
   "execution_count": 14,
   "id": "c7067559",
   "metadata": {},
   "outputs": [
    {
     "name": "stdout",
     "output_type": "stream",
     "text": [
      "{1: 1, 2: 3, 3: 1, 4: 1, 5: 1, 6: 1, 7: 1}\n"
     ]
    }
   ],
   "source": [
    "def count_the_occurrences(l1):\n",
    "    count={}\n",
    "    for i in l1:\n",
    "        if i in count:\n",
    "            count[i]+=1\n",
    "        else:\n",
    "            count[i]=1\n",
    "    return count\n",
    "input_list = [1,2,3,4,2,5,6,7,2]\n",
    "print(count_the_occurrences(input_list))\n"
   ]
  },
  {
   "cell_type": "markdown",
   "id": "95b22ea5",
   "metadata": {},
   "source": [
    "# 14.Write a code to reverse a list in-place without using any built-in reverse functions"
   ]
  },
  {
   "cell_type": "code",
   "execution_count": 15,
   "id": "3440d243",
   "metadata": {},
   "outputs": [
    {
     "name": "stdout",
     "output_type": "stream",
     "text": [
      "reverse a list in-place without using any built-in reverse [20, 190, 12, 8, 10, 4, 2, 1]\n"
     ]
    }
   ],
   "source": [
    "l1=[1,2,4,10,8,12,190,20]\n",
    "print(\"reverse a list in-place without using any built-in reverse\",l1[::-1])"
   ]
  },
  {
   "cell_type": "markdown",
   "id": "680382d0",
   "metadata": {},
   "source": [
    "# 15. Implement a code to find and remove duplicates from a list while preserving the original order of elements"
   ]
  },
  {
   "cell_type": "code",
   "execution_count": 16,
   "id": "6cc3d262",
   "metadata": {},
   "outputs": [
    {
     "name": "stdout",
     "output_type": "stream",
     "text": [
      "List after removing duplicates: [1, 2, 4, 10, 8, 12, 190, 20]\n"
     ]
    }
   ],
   "source": [
    "def remove_duplicates(lst):\n",
    "    unique_elements = []\n",
    "    for element in lst:\n",
    "        if element not in unique_elements:\n",
    "            unique_elements.append(element)\n",
    "    return unique_elements\n",
    "\n",
    "l1 = [1, 2, 4, 10, 8, 12, 190, 20, 2, 10, 8]\n",
    "result = remove_duplicates(l1)\n",
    "print(\"List after removing duplicates:\", result)\n"
   ]
  },
  {
   "cell_type": "markdown",
   "id": "76b7d2ca",
   "metadata": {},
   "source": [
    "# 16. Create a code to check if a given list is sorted (either in ascending or descending order) or not"
   ]
  },
  {
   "cell_type": "code",
   "execution_count": 17,
   "id": "17158d13",
   "metadata": {},
   "outputs": [
    {
     "name": "stdout",
     "output_type": "stream",
     "text": [
      "list are not  in sort form\n"
     ]
    }
   ],
   "source": [
    "def check_list_sorted(l1):\n",
    "    if l1==sorted(l1):\n",
    "        return\"list are in sort form\"\n",
    "    else:\n",
    "        return \"list are not  in sort form\" \n",
    "l1 = [1, 2, 4, 10, 8, 12, 190, 20, 2, 10, 8]\n",
    "print(check_list_sorted(l1))"
   ]
  },
  {
   "cell_type": "markdown",
   "id": "6aa08958",
   "metadata": {},
   "source": [
    "# 17. Write a code to merge two sorted lists into a single sorted list"
   ]
  },
  {
   "cell_type": "code",
   "execution_count": 18,
   "id": "873af2ec",
   "metadata": {},
   "outputs": [
    {
     "name": "stdout",
     "output_type": "stream",
     "text": [
      "Merged Sorted List: [1, 2, 3, 4, 5, 6, 7, 8]\n"
     ]
    }
   ],
   "source": [
    "def merge_sorted_lists(list1, list2):\n",
    "    merged_list = []\n",
    "    i, j = 0, 0\n",
    "\n",
    "    # Compare elements from both lists and append the smaller one\n",
    "    while i < len(list1) and j < len(list2):\n",
    "        if list1[i] < list2[j]:\n",
    "            merged_list.append(list1[i])\n",
    "            i += 1\n",
    "        else:\n",
    "            merged_list.append(list2[j])\n",
    "            j += 1\n",
    "\n",
    "    # Append remaining elements from list1 or list2\n",
    "    merged_list.extend(list1[i:])\n",
    "    merged_list.extend(list2[j:])\n",
    "\n",
    "    return merged_list\n",
    "\n",
    "list1 = [1, 3, 5, 7]\n",
    "list2 = [2, 4, 6, 8]\n",
    "result = merge_sorted_lists(list1, list2)\n",
    "print(\"Merged Sorted List:\", result)\n"
   ]
  },
  {
   "cell_type": "markdown",
   "id": "44cab51f",
   "metadata": {},
   "source": [
    "# 18.Implement a code to find the intersection of two given lists"
   ]
  },
  {
   "cell_type": "code",
   "execution_count": 19,
   "id": "2e36f7b1",
   "metadata": {},
   "outputs": [
    {
     "name": "stdout",
     "output_type": "stream",
     "text": [
      "the intersection of two given lists [3]\n"
     ]
    }
   ],
   "source": [
    "list1 = [1, 3, 5, 7]\n",
    "list2 = [2, 3, 6, 8]\n",
    "result=list(set(list1) & set(list2))\n",
    "print(\"the intersection of two given lists\",result)"
   ]
  },
  {
   "cell_type": "markdown",
   "id": "36407d44",
   "metadata": {},
   "source": [
    "# 19. Create a code to find the union of two lists without duplicates"
   ]
  },
  {
   "cell_type": "code",
   "execution_count": 20,
   "id": "d861b34d",
   "metadata": {},
   "outputs": [
    {
     "name": "stdout",
     "output_type": "stream",
     "text": [
      "the intersection of two given lists {1, 2, 3, 5, 6, 7, 8}\n"
     ]
    }
   ],
   "source": [
    "list1 = [1, 3, 5, 7]\n",
    "list2 = [2, 3, 6, 8]\n",
    "result=(set(list1) | set(list2))\n",
    "print(\"the intersection of two given lists\",result)"
   ]
  },
  {
   "cell_type": "markdown",
   "id": "5114e197",
   "metadata": {},
   "source": [
    "# 20. Write a code to shuffle a given list randomly without using any built-in shuffle functions"
   ]
  },
  {
   "cell_type": "code",
   "execution_count": 21,
   "id": "d32650f9",
   "metadata": {},
   "outputs": [
    {
     "name": "stdout",
     "output_type": "stream",
     "text": [
      "Shuffled List: [4, 1, 5, 3, 2]\n"
     ]
    }
   ],
   "source": [
    "import random\n",
    "\n",
    "def shuffle_list(lst):\n",
    "    for i in range(len(lst)):\n",
    "        j = random.randint(0, len(lst) - 1)\n",
    "        lst[i], lst[j] = lst[j], lst[i]\n",
    "    return lst\n",
    "\n",
    "\n",
    "my_list = [1, 2, 3, 4, 5]\n",
    "shuffled_list = shuffle_list(my_list)\n",
    "print(\"Shuffled List:\", shuffled_list)\n"
   ]
  },
  {
   "cell_type": "markdown",
   "id": "ffbd501e",
   "metadata": {},
   "source": [
    "# 21. Write a code that takes two tuples as input and returns a new tuple containing elements that are common to both input tuples"
   ]
  },
  {
   "cell_type": "code",
   "execution_count": 22,
   "id": "27f5f09c",
   "metadata": {},
   "outputs": [
    {
     "name": "stdout",
     "output_type": "stream",
     "text": [
      "Enter the elements of the first tuple, separated by commas: 1,2,4,5,6\n",
      "Enter the elements of the second tuple, separated by commas: 1,7,8,9,10\n",
      "First Tuple: (1, 2, 4, 5, 6)\n",
      "Second Tuple: (1, 7, 8, 9, 10)\n",
      "common to both input tuples (1,)\n"
     ]
    }
   ],
   "source": [
    "def input_tuple(prompt):\n",
    "    user_input = input(prompt) \n",
    "    return tuple(map(int, user_input.split(',')))\n",
    "\n",
    "# Example usage\n",
    "t1 = input_tuple(\"Enter the elements of the first tuple, separated by commas: \")\n",
    "t2 = input_tuple(\"Enter the elements of the second tuple, separated by commas: \")\n",
    "\n",
    "print(\"First Tuple:\", t1)\n",
    "print(\"Second Tuple:\", t2)\n",
    "\n",
    "result=tuple(set(t1)&set(t2))\n",
    "print(\"common to both input tuples\",result)"
   ]
  },
  {
   "cell_type": "markdown",
   "id": "6651b11d",
   "metadata": {},
   "source": [
    "# 22.Create a code that prompts the user to enter two sets of integers separated by commas. Then, print the intersection of these two sets"
   ]
  },
  {
   "cell_type": "code",
   "execution_count": 23,
   "id": "454bedd4",
   "metadata": {},
   "outputs": [
    {
     "name": "stdout",
     "output_type": "stream",
     "text": [
      "Enter the elements of the first set, separated by commas: 1,2,3,4\n",
      "Enter the elements of the second set, separated by commas: 4,5,6,7\n",
      "First set: {1, 2, 3, 4}\n",
      "Second set: {4, 5, 6, 7}\n",
      "common to both input tuples {4}\n"
     ]
    }
   ],
   "source": [
    "def input_set(prompt):\n",
    "    user_input = input(prompt) \n",
    "    return set(map(int, user_input.split(',')))\n",
    "\n",
    "# Example usage\n",
    "s1 = input_set(\"Enter the elements of the first set, separated by commas: \")\n",
    "s2 = input_set(\"Enter the elements of the second set, separated by commas: \")\n",
    "\n",
    "print(\"First set:\", s1)\n",
    "print(\"Second set:\", s2)\n",
    "\n",
    "result=s1&s2\n",
    "print(\"common to both input tuples\",result)"
   ]
  },
  {
   "cell_type": "markdown",
   "id": "470cfdf0",
   "metadata": {},
   "source": [
    "# 23.Write a code to concatenate two tuples. The function should take two tuples as input and return a new tuple containing elements from both input tuples."
   ]
  },
  {
   "cell_type": "code",
   "execution_count": 24,
   "id": "b79215db",
   "metadata": {},
   "outputs": [
    {
     "name": "stdout",
     "output_type": "stream",
     "text": [
      "Enter the elements of the first tuple, separated by commas: 1,5,6,7\n",
      "Enter the elements of the second tuple, separated by commas: 8,9,10,11\n",
      "First Tuple: (1, 5, 6, 7)\n",
      "Second Tuple: (8, 9, 10, 11)\n",
      "common to both input tuples (1, 5, 6, 7, 8, 9, 10, 11)\n"
     ]
    }
   ],
   "source": [
    "def input_tuple(prompt):\n",
    "    user_input = input(prompt) \n",
    "    return tuple(map(int, user_input.split(',')))\n",
    "\n",
    "# Example usage\n",
    "t1 = input_tuple(\"Enter the elements of the first tuple, separated by commas: \")\n",
    "t2 = input_tuple(\"Enter the elements of the second tuple, separated by commas: \")\n",
    "\n",
    "print(\"First Tuple:\", t1)\n",
    "print(\"Second Tuple:\", t2)\n",
    "\n",
    "result=tuple(set(t1)|set(t2))\n",
    "print(\"common to both input tuples\",result)"
   ]
  },
  {
   "cell_type": "markdown",
   "id": "3d141029",
   "metadata": {},
   "source": [
    "# 24.Develop a code that prompts the user to input two sets of strings. Then, print the elements that are present in the first set but not in the second set&"
   ]
  },
  {
   "cell_type": "code",
   "execution_count": 25,
   "id": "dfff6f42",
   "metadata": {},
   "outputs": [
    {
     "name": "stdout",
     "output_type": "stream",
     "text": [
      "Enter the elements of the first set, separated by commas: a,j,i,t\n",
      "Enter the elements of the second set, separated by commas: j,i,l,k\n",
      "First set: {'a', 'i', 't', 'j'}\n",
      "Second set: {'l', 'i', 'k', 'j'}\n",
      "common to both input set {'a', 't'}\n"
     ]
    }
   ],
   "source": [
    "def input_set(prompt):\n",
    "    user_input = input(prompt) \n",
    "    return set(map(str, user_input.split(',')))\n",
    "\n",
    "# Example usage\n",
    "s1 = input_set(\"Enter the elements of the first set, separated by commas: \")\n",
    "s2 = input_set(\"Enter the elements of the second set, separated by commas: \")\n",
    "\n",
    "print(\"First set:\", s1)\n",
    "print(\"Second set:\", s2)\n",
    "\n",
    "result=s1-s2\n",
    "print(\"common to both input set\",result)"
   ]
  },
  {
   "cell_type": "markdown",
   "id": "79f0b1fa",
   "metadata": {},
   "source": [
    "# 25. Create a code that takes a tuple and two integers as input. The function should return a new tuple containing elements from the original tuple within the specified range of indices"
   ]
  },
  {
   "cell_type": "code",
   "execution_count": null,
   "id": "f0268a03",
   "metadata": {},
   "outputs": [],
   "source": []
  },
  {
   "cell_type": "markdown",
   "id": "82a35006",
   "metadata": {},
   "source": [
    "# 26.  Write a code that prompts the user to input two sets of characters. Then, print the union of these two sets"
   ]
  },
  {
   "cell_type": "code",
   "execution_count": 26,
   "id": "06074ad8",
   "metadata": {},
   "outputs": [
    {
     "name": "stdout",
     "output_type": "stream",
     "text": [
      "Enter the elements of the first set, separated by commas: a,j,k,l\n",
      "Enter the elements of the second set, separated by commas: h,k,l,r\n",
      "First set: {'a', 'l', 'k', 'j'}\n",
      "Second set: {'l', 'r', 'h', 'k'}\n",
      "union of both input set {'r', 'h', 'k', 'a', 'l', 'j'}\n"
     ]
    }
   ],
   "source": [
    "def input_set(prompt):\n",
    "    user_input = input(prompt) \n",
    "    return set(map(str, user_input.split(',')))\n",
    "\n",
    "s1 = input_set(\"Enter the elements of the first set, separated by commas: \")\n",
    "s2 = input_set(\"Enter the elements of the second set, separated by commas: \")\n",
    "\n",
    "print(\"First set:\", s1)\n",
    "print(\"Second set:\", s2)\n",
    "\n",
    "result=s1|s2\n",
    "print(\"union of both input set\",result)"
   ]
  },
  {
   "cell_type": "markdown",
   "id": "fc6c17d4",
   "metadata": {},
   "source": [
    "# 27.Develop a code that takes a tuple of integers as input. The function should return the maximum and minimum values from the tuple using tuple unpacking&"
   ]
  },
  {
   "cell_type": "code",
   "execution_count": 30,
   "id": "69f1c640",
   "metadata": {},
   "outputs": [
    {
     "name": "stdout",
     "output_type": "stream",
     "text": [
      "enter the ele of the  tuple1,8,4,5,7,6\n",
      "(1, 8, 4, 5, 7, 6)\n",
      "maximum and minimum values (1, 8)\n"
     ]
    }
   ],
   "source": [
    "def input_tuple(prompt):\n",
    "    user_input=input(prompt)\n",
    "    return tuple(map(int,user_input.split(',')))\n",
    "\n",
    "t1=input_tuple(\"enter the ele of the  tuple\")\n",
    "print(t1)\n",
    "\n",
    "def maximum_and_minimum_values(t1):\n",
    "    max_values=sorted(t1)[-1]\n",
    "    min_values=sorted(t1)[0]\n",
    "    return min_values,max_values\n",
    "\n",
    "\n",
    "print(\"maximum and minimum values\",maximum_and_minimum_values(t1))"
   ]
  },
  {
   "cell_type": "markdown",
   "id": "c7096256",
   "metadata": {},
   "source": [
    "# 28.Create a code that defines two sets of integers. Then, print the union, intersection, and difference of these two sets&"
   ]
  },
  {
   "cell_type": "code",
   "execution_count": 31,
   "id": "04a325db",
   "metadata": {},
   "outputs": [
    {
     "name": "stdout",
     "output_type": "stream",
     "text": [
      "union of given sets {1, 2, 3, 4, 5, 6, 7}\n",
      "intersection of given sets {4}\n",
      "difference of given sets {1, 2, 3}\n"
     ]
    }
   ],
   "source": [
    "s1={1,2,3,4}\n",
    "s2={4,5,6,7}\n",
    "\n",
    "print(\"union of given sets\",s1|s2)\n",
    "print(\"intersection of given sets\",s1&s2)\n",
    "print(\"difference of given sets\",s1-s2)"
   ]
  },
  {
   "cell_type": "markdown",
   "id": "8ee94450",
   "metadata": {},
   "source": [
    "# 29. Write a code that takes a tuple and an element as input. The function should return the count of occurrences of the given element in the tuple"
   ]
  },
  {
   "cell_type": "code",
   "execution_count": 32,
   "id": "09f238f5",
   "metadata": {},
   "outputs": [
    {
     "name": "stdout",
     "output_type": "stream",
     "text": [
      "Enter the elements of the tuple separated by commas: 1,2,3,2,3,24,5\n",
      "Enter the element to count: 2\n",
      "The element 2 occurs 2 time(s) in the tuple (1, 2, 3, 2, 3, 24, 5).\n"
     ]
    }
   ],
   "source": [
    "def count_element_in_tuple(tpl, element):\n",
    "    return tpl.count(element)\n",
    "\n",
    "\n",
    "def input_tuple(prompt):\n",
    "    user_input = input(prompt)\n",
    "    return tuple(map(int, user_input.split(',')))\n",
    "\n",
    "\n",
    "t1 = input_tuple(\"Enter the elements of the tuple separated by commas: \")\n",
    "element = int(input(\"Enter the element to count: \"))\n",
    "count = count_element_in_tuple(t1, element)\n",
    "\n",
    "print(f\"The element {element} occurs {count} time(s) in the tuple {t1}.\")\n"
   ]
  },
  {
   "cell_type": "markdown",
   "id": "b0b9494e",
   "metadata": {},
   "source": [
    "# 30.  Develop a code that prompts the user to input two sets of strings. Then, print the symmetric difference of these two sets"
   ]
  },
  {
   "cell_type": "code",
   "execution_count": 33,
   "id": "af35847b",
   "metadata": {},
   "outputs": [
    {
     "name": "stdout",
     "output_type": "stream",
     "text": [
      "Enter the elements of the first set, separated by commas: a,j,i,t\n",
      "Enter the elements of the second set, separated by commas: a,j,k,l\n",
      "First set: {'a', 'i', 't', 'j'}\n",
      "Second set: {'a', 'l', 'k', 'j'}\n",
      "symmetric difference  of both input set {'k', 'l', 't', 'i'}\n"
     ]
    }
   ],
   "source": [
    "def input_set(prompt):\n",
    "    user_input = input(prompt) \n",
    "    return set(map(str, user_input.split(',')))\n",
    "\n",
    "s1 = input_set(\"Enter the elements of the first set, separated by commas: \")\n",
    "s2 = input_set(\"Enter the elements of the second set, separated by commas: \")\n",
    "\n",
    "print(\"First set:\", s1)\n",
    "print(\"Second set:\", s2)\n",
    "\n",
    "result=s1.symmetric_difference(s2)\n",
    "print(\"symmetric difference  of both input set\",result)"
   ]
  },
  {
   "cell_type": "markdown",
   "id": "33525d07",
   "metadata": {},
   "source": [
    "# 31.  Write a code that takes a list of words as input and returns a dictionary where the keys are unique words and the values are the frequencies of those words in the input list."
   ]
  },
  {
   "cell_type": "code",
   "execution_count": 35,
   "id": "d1cdc716",
   "metadata": {},
   "outputs": [
    {
     "name": "stdout",
     "output_type": "stream",
     "text": [
      "Enter words separated by spaces: ajit kumar\n",
      "Word Frequencies: {'ajit': 1, 'kumar': 1}\n"
     ]
    }
   ],
   "source": [
    "def word_frequencies(word_list):\n",
    "    frequencies = {}\n",
    "    for word in word_list:\n",
    "        if word in frequencies:\n",
    "            frequencies[word] += 1\n",
    "        else:\n",
    "            frequencies[word] = 1\n",
    "    return frequencies\n",
    "\n",
    "word_list = input(\"Enter words separated by spaces: \").split()\n",
    "\n",
    "\n",
    "result = word_frequencies(word_list)\n",
    "\n",
    "\n",
    "print(\"Word Frequencies:\", result)\n"
   ]
  },
  {
   "cell_type": "markdown",
   "id": "8befc0a0",
   "metadata": {},
   "source": [
    "# 32. Write a code that takes two dictionaries as input and merges them into a single dictionary. If there are common keys, the values should be added together&"
   ]
  },
  {
   "cell_type": "code",
   "execution_count": 1,
   "id": "dccf157f",
   "metadata": {},
   "outputs": [
    {
     "name": "stdout",
     "output_type": "stream",
     "text": [
      "Merged dictionary: {'a': 10, 'b': 50, 'c': 40}\n"
     ]
    }
   ],
   "source": [
    "def merge_dicts(dict1, dict2):\n",
    "    merged_dict = dict1.copy()  # Start with a copy of the first dictionary\n",
    "    for key, value in dict2.items():\n",
    "        if key in merged_dict:\n",
    "            merged_dict[key] += value  # Add values of common keys\n",
    "        else:\n",
    "            merged_dict[key] = value\n",
    "    return merged_dict\n",
    "\n",
    "# Example usage\n",
    "dict1 = {'a': 10, 'b': 20}\n",
    "dict2 = {'b': 30, 'c': 40}\n",
    "merged = merge_dicts(dict1, dict2)\n",
    "print(\"Merged dictionary:\", merged)\n"
   ]
  },
  {
   "cell_type": "markdown",
   "id": "c549f5ba",
   "metadata": {},
   "source": [
    "# 33.Write a code to access a value in a nested dictionary. The function should take the dictionary and a list of keys as input, and return the corresponding value. If any of the keys do not exist in the dictionary, the function should return None"
   ]
  },
  {
   "cell_type": "code",
   "execution_count": 2,
   "id": "7f67b2ca",
   "metadata": {},
   "outputs": [
    {
     "name": "stdout",
     "output_type": "stream",
     "text": [
      "Accessed value: 100\n"
     ]
    }
   ],
   "source": [
    "def get_nested_value(d, keys):\n",
    "    for key in keys:\n",
    "        if isinstance(d, dict) and key in d:\n",
    "            d = d[key]\n",
    "        else:\n",
    "            return None\n",
    "    return d\n",
    "\n",
    "# Example usage\n",
    "nested_dict = {'a': {'b': {'c': 100}}}\n",
    "keys = ['a', 'b', 'c']\n",
    "value = get_nested_value(nested_dict, keys)\n",
    "print(\"Accessed value:\", value)\n"
   ]
  },
  {
   "cell_type": "markdown",
   "id": "a4e1a75e",
   "metadata": {},
   "source": [
    "# 34. Write a code that takes a dictionary as input and returns a sorted version of it based on the values. You can choose whether to sort in ascending or descending order"
   ]
  },
  {
   "cell_type": "code",
   "execution_count": 3,
   "id": "77cff386",
   "metadata": {},
   "outputs": [
    {
     "name": "stdout",
     "output_type": "stream",
     "text": [
      "Sorted dictionary (ascending): {'cherry': 5, 'apple': 10, 'banana': 20}\n",
      "Sorted dictionary (descending): {'banana': 20, 'apple': 10, 'cherry': 5}\n"
     ]
    }
   ],
   "source": [
    "def sort_dict_by_values(d, reverse=False):\n",
    "    sorted_dict = dict(sorted(d.items(), key=lambda item: item[1], reverse=reverse))\n",
    "    return sorted_dict\n",
    "\n",
    "# Example usage\n",
    "my_dict = {'apple': 10, 'banana': 20, 'cherry': 5}\n",
    "sorted_dict_asc = sort_dict_by_values(my_dict)\n",
    "sorted_dict_desc = sort_dict_by_values(my_dict, reverse=True)\n",
    "print(\"Sorted dictionary (ascending):\", sorted_dict_asc)\n",
    "print(\"Sorted dictionary (descending):\", sorted_dict_desc)\n"
   ]
  },
  {
   "cell_type": "markdown",
   "id": "f2d7baf8",
   "metadata": {},
   "source": [
    "# 35.Write a code that inverts a dictionary, swapping keys and values. Ensure that the inverted dictionary correctly handles cases where multiple keys have the same value by storing the keys as a list in the inverted dictionary."
   ]
  },
  {
   "cell_type": "code",
   "execution_count": 4,
   "id": "87ccd9d4",
   "metadata": {},
   "outputs": [
    {
     "name": "stdout",
     "output_type": "stream",
     "text": [
      "Inverted dictionary: {10: ['a', 'c'], 20: ['b']}\n"
     ]
    }
   ],
   "source": [
    "def invert_dict(d):\n",
    "    inverted_dict = {}\n",
    "    for key, value in d.items():\n",
    "        if value not in inverted_dict:\n",
    "            inverted_dict[value] = [key]  # Store keys as a list for duplicate values\n",
    "        else:\n",
    "            inverted_dict[value].append(key)\n",
    "    return inverted_dict\n",
    "\n",
    "# Example usage\n",
    "original_dict = {'a': 10, 'b': 20, 'c': 10}\n",
    "inverted = invert_dict(original_dict)\n",
    "print(\"Inverted dictionary:\", inverted)"
   ]
  },
  {
   "cell_type": "code",
   "execution_count": null,
   "id": "5636d134",
   "metadata": {},
   "outputs": [],
   "source": []
  }
 ],
 "metadata": {
  "kernelspec": {
   "display_name": "Python 3 (ipykernel)",
   "language": "python",
   "name": "python3"
  },
  "language_info": {
   "codemirror_mode": {
    "name": "ipython",
    "version": 3
   },
   "file_extension": ".py",
   "mimetype": "text/x-python",
   "name": "python",
   "nbconvert_exporter": "python",
   "pygments_lexer": "ipython3",
   "version": "3.11.4"
  }
 },
 "nbformat": 4,
 "nbformat_minor": 5
}
