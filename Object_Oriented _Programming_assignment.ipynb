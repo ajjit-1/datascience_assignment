{
 "cells": [
  {
   "cell_type": "markdown",
   "id": "ac620b99",
   "metadata": {},
   "source": [
    "# 1.Explain the importance of Functions"
   ]
  },
  {
   "cell_type": "code",
   "execution_count": null,
   "id": "d8cd6c1c",
   "metadata": {},
   "outputs": [],
   "source": [
    "# Functions are essential in programming because they:\n",
    "\n",
    "# Promote Reusability: Write once, use multiple times.\n",
    "# Improve Readability: Make code easier to understand and maintain.\n",
    "# Ensure Modularity: Divide programs into manageable parts.\n",
    "# Avoid Redundancy: Eliminate repetitive code.\n",
    "# Enhance Debugging: Isolate and test specific functionalities.\n",
    "# Simplify Code: Keep the main program concise and organized.\n",
    "# Encapsulate Logic: Hide implementation details, exposing only necessary parts.\n",
    "# Enable Collaboration: Multiple developers can work on different functions simultaneously.\n",
    "# Support Scalability: Handle large, complex programs efficiently.\n",
    "# Facilitate Testing: Functions are easy to test independently.\n",
    "# In short, functions make your code efficient, readable, and scalable, forming the foundation of good programming practices."
   ]
  },
  {
   "cell_type": "markdown",
   "id": "d02346ca",
   "metadata": {},
   "source": [
    "# 2. Write a basic function to greet students"
   ]
  },
  {
   "cell_type": "code",
   "execution_count": 1,
   "id": "55c6d997",
   "metadata": {},
   "outputs": [
    {
     "name": "stdout",
     "output_type": "stream",
     "text": [
      "hellow student good morning\n"
     ]
    }
   ],
   "source": [
    "def greet_students(greet):\n",
    "    return greet\n",
    "\n",
    "greet=\"good morning\"\n",
    "print(\"hellow student\",greet_students(greet))"
   ]
  },
  {
   "cell_type": "markdown",
   "id": "d15b4b05",
   "metadata": {},
   "source": [
    " # 3. What is the difference between print and return statements"
   ]
  },
  {
   "cell_type": "code",
   "execution_count": null,
   "id": "fbe22402",
   "metadata": {},
   "outputs": [],
   "source": [
    "# print is used to display information to the console. It is mainly for the user to see the output or for debugging purposes. However, the value printed by print cannot be reused later in the program, as it doesn't store or pass the value anywhere. It always returns None.\n",
    "\n",
    "# return, on the other hand, is used to send a value back to the calling code. It allows the result of a function to be stored in a variable or used in further computations. Once a return statement is executed in a function, the function stops executing and exits."
   ]
  },
  {
   "cell_type": "markdown",
   "id": "35293c76",
   "metadata": {},
   "source": [
    "# 4.  What are *args and **kwargs"
   ]
  },
  {
   "cell_type": "code",
   "execution_count": 13,
   "id": "b9375a06",
   "metadata": {},
   "outputs": [
    {
     "name": "stdout",
     "output_type": "stream",
     "text": [
      "6\n",
      "22\n"
     ]
    }
   ],
   "source": [
    "#  *args:\n",
    "# Stands for arbitrary positional arguments.\n",
    "# Allows you to pass a variable number of arguments to a function.\n",
    "# Inside the function, *args is treated as a tuple of all the additional positional arguments passed.\n",
    "\n",
    "def sum_numbers(*args):\n",
    "    return sum(args)\n",
    "\n",
    "print(sum_numbers(1, 2, 3))  \n",
    "print(sum_numbers(4, 5, 6, 7))  "
   ]
  },
  {
   "cell_type": "code",
   "execution_count": 14,
   "id": "f368b799",
   "metadata": {},
   "outputs": [
    {
     "name": "stdout",
     "output_type": "stream",
     "text": [
      "name: Ajit\n",
      "age: 21\n",
      "country: India\n"
     ]
    }
   ],
   "source": [
    "# **kwargs:\n",
    "# Stands for arbitrary keyword arguments.\n",
    "# Allows you to pass a variable number of key-value pairs to a function.\n",
    "# Inside the function, **kwargs is treated as a dictionary.\n",
    "def greet(**kwargs):\n",
    "    for key, value in kwargs.items():\n",
    "        print(f\"{key}: {value}\")\n",
    "\n",
    "greet(name=\"Ajit\", age=21, country=\"India\")\n"
   ]
  },
  {
   "cell_type": "markdown",
   "id": "f3d025a6",
   "metadata": {},
   "source": [
    "#   5. Explain the iterator function"
   ]
  },
  {
   "cell_type": "code",
   "execution_count": 15,
   "id": "a10597d4",
   "metadata": {},
   "outputs": [
    {
     "name": "stdout",
     "output_type": "stream",
     "text": [
      "1\n",
      "2\n",
      "3\n",
      "4\n"
     ]
    }
   ],
   "source": [
    "# An iterator is an object in Python that allows you to traverse through all the elements of a collection (e.g., list, tuple, or dictionary) one at a time without using indexing. An iterator function is any function or mechanism that generates or works with an iterator.\n",
    "\n",
    "my_list = [1, 2, 3, 4]\n",
    "iterator = iter(my_list)  \n",
    "\n",
    "print(next(iterator)) \n",
    "print(next(iterator))  \n",
    "print(next(iterator))  \n",
    "print(next(iterator))"
   ]
  },
  {
   "cell_type": "markdown",
   "id": "69206d5f",
   "metadata": {},
   "source": [
    "# 6.  Write a code that generates the squares of numbers from 1 to n using a generator"
   ]
  },
  {
   "cell_type": "code",
   "execution_count": 17,
   "id": "0bd2f151",
   "metadata": {},
   "outputs": [
    {
     "name": "stdout",
     "output_type": "stream",
     "text": [
      "Enter the value of n: 4\n",
      "Squares of numbers from 1 to 4:\n",
      "1\n",
      "4\n",
      "9\n",
      "16\n"
     ]
    }
   ],
   "source": [
    "def generate_squares(n):\n",
    "    for i in range(1, n + 1):\n",
    "        yield i ** 2  # Generate the square of the current number\n",
    "\n",
    "n = int(input(\"Enter the value of n: \"))\n",
    "squares = generate_squares(n)\n",
    "\n",
    "print(f\"Squares of numbers from 1 to {n}:\")\n",
    "for square in squares:\n",
    "    print(square)\n"
   ]
  },
  {
   "cell_type": "markdown",
   "id": "a783f33a",
   "metadata": {},
   "source": [
    "# 7.  Write a code that generates palindromic numbers up to n using a generator"
   ]
  },
  {
   "cell_type": "code",
   "execution_count": 23,
   "id": "4f5ec1bf",
   "metadata": {},
   "outputs": [
    {
     "name": "stdout",
     "output_type": "stream",
     "text": [
      "Enter the value of n: 16\n",
      "Palindromic numbers up to 16:\n",
      "1\n",
      "2\n",
      "3\n",
      "4\n",
      "5\n",
      "6\n",
      "7\n",
      "8\n",
      "9\n",
      "11\n"
     ]
    }
   ],
   "source": [
    "def generate_palindromes(n):\n",
    "    for i in range(1, n + 1):\n",
    "        if str(i) == str(i)[::-1]:  # Check if the number is a palindrome\n",
    "            yield i  # Yield the palindromic number\n",
    "\n",
    "# Usage\n",
    "n = int(input(\"Enter the value of n: \"))\n",
    "palindromes = generate_palindromes(n)\n",
    "\n",
    "print(f\"Palindromic numbers up to {n}:\")\n",
    "for palindrome in palindromes:\n",
    "    print(palindrome)\n"
   ]
  },
  {
   "cell_type": "markdown",
   "id": "20ed8a26",
   "metadata": {},
   "source": [
    "# 8. Write a code that generates even numbers from 2 to n using a generator"
   ]
  },
  {
   "cell_type": "code",
   "execution_count": 26,
   "id": "35b0ca33",
   "metadata": {},
   "outputs": [
    {
     "name": "stdout",
     "output_type": "stream",
     "text": [
      "enter the values of n: 5\n",
      "even number up to 5:\n",
      "2\n",
      "4\n"
     ]
    }
   ],
   "source": [
    "def generate_even(n):\n",
    "    for i in range(1,n+1):\n",
    "        if i%2 ==0:\n",
    "            yield i\n",
    "n=int(input(\"enter the values of n: \"))\n",
    "evens=generate_even(n)\n",
    "\n",
    "print(f\"even number up to {n}:\")\n",
    "for even in evens:\n",
    "    print(even)"
   ]
  },
  {
   "cell_type": "markdown",
   "id": "f8d32e76",
   "metadata": {},
   "source": [
    "# 9. Write a code that generates powers of two up to n using a generator"
   ]
  },
  {
   "cell_type": "code",
   "execution_count": 32,
   "id": "e107f7fc",
   "metadata": {},
   "outputs": [
    {
     "name": "stdout",
     "output_type": "stream",
     "text": [
      "enter the value of n: 5\n",
      "power of two up to 5\n",
      "2\n",
      "4\n",
      "8\n",
      "16\n",
      "32\n"
     ]
    }
   ],
   "source": [
    "def generate_power(n):\n",
    "    \n",
    "    for i in range(1, n+1):\n",
    "        yield 2 **i\n",
    "        \n",
    "n=int(input(\"enter the value of n: \"))\n",
    "pow=generate_power(n)\n",
    "print(f\"power of two up to {n}\")\n",
    "for power in pow:\n",
    "    print(power)"
   ]
  },
  {
   "cell_type": "markdown",
   "id": "c01c69be",
   "metadata": {},
   "source": [
    "# 10.  Write a code that generates prime numbers up to n using a generator"
   ]
  },
  {
   "cell_type": "code",
   "execution_count": 34,
   "id": "e15beea3",
   "metadata": {},
   "outputs": [
    {
     "name": "stdout",
     "output_type": "stream",
     "text": [
      "Enter the value of n: 20\n",
      "Prime numbers up to 20:\n",
      "2\n",
      "3\n",
      "5\n",
      "7\n",
      "11\n",
      "13\n",
      "17\n",
      "19\n"
     ]
    }
   ],
   "source": [
    "def is_prime(num):\n",
    "    if num <1:\n",
    "        return False\n",
    "    else:\n",
    "        for i in range(2,num):\n",
    "            if num% i==0:\n",
    "                return False\n",
    "        return True\n",
    "    \n",
    "def generate_prime(n):\n",
    "    for i in range(2,n+1):\n",
    "        if is_prime(num):\n",
    "            yield num\n",
    "        \n",
    "n = int(input(\"Enter the value of n: \"))\n",
    "primes = generate_primes(n)\n",
    " \n",
    "print(f\"Prime numbers up to {n}:\")\n",
    "for prime in primes:\n",
    "    print(prime)\n"
   ]
  },
  {
   "cell_type": "code",
   "execution_count": null,
   "id": "bc44275a",
   "metadata": {},
   "outputs": [],
   "source": [
    "# 11."
   ]
  }
 ],
 "metadata": {
  "kernelspec": {
   "display_name": "Python 3 (ipykernel)",
   "language": "python",
   "name": "python3"
  },
  "language_info": {
   "codemirror_mode": {
    "name": "ipython",
    "version": 3
   },
   "file_extension": ".py",
   "mimetype": "text/x-python",
   "name": "python",
   "nbconvert_exporter": "python",
   "pygments_lexer": "ipython3",
   "version": "3.11.4"
  }
 },
 "nbformat": 4,
 "nbformat_minor": 5
}
