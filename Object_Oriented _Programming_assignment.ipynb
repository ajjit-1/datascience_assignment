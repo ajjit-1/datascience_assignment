{
 "cells": [
  {
   "cell_type": "markdown",
   "id": "ac620b99",
   "metadata": {},
   "source": [
    "# 1.Explain the importance of Functions"
   ]
  },
  {
   "cell_type": "code",
   "execution_count": null,
   "id": "d8cd6c1c",
   "metadata": {},
   "outputs": [],
   "source": [
    "# Functions are essential in programming because they:\n",
    "\n",
    "# Promote Reusability: Write once, use multiple times.\n",
    "# Improve Readability: Make code easier to understand and maintain.\n",
    "# Ensure Modularity: Divide programs into manageable parts.\n",
    "# Avoid Redundancy: Eliminate repetitive code.\n",
    "# Enhance Debugging: Isolate and test specific functionalities.\n",
    "# Simplify Code: Keep the main program concise and organized.\n",
    "# Encapsulate Logic: Hide implementation details, exposing only necessary parts.\n",
    "# Enable Collaboration: Multiple developers can work on different functions simultaneously.\n",
    "# Support Scalability: Handle large, complex programs efficiently.\n",
    "# Facilitate Testing: Functions are easy to test independently.\n",
    "# In short, functions make your code efficient, readable, and scalable, forming the foundation of good programming practices."
   ]
  },
  {
   "cell_type": "markdown",
   "id": "d02346ca",
   "metadata": {},
   "source": [
    "# 2. Write a basic function to greet students"
   ]
  },
  {
   "cell_type": "code",
   "execution_count": 1,
   "id": "55c6d997",
   "metadata": {},
   "outputs": [
    {
     "name": "stdout",
     "output_type": "stream",
     "text": [
      "hellow student good morning\n"
     ]
    }
   ],
   "source": [
    "def greet_students(greet):\n",
    "    return greet\n",
    "\n",
    "greet=\"good morning\"\n",
    "print(\"hellow student\",greet_students(greet))"
   ]
  },
  {
   "cell_type": "markdown",
   "id": "d15b4b05",
   "metadata": {},
   "source": [
    " # 3. What is the difference between print and return statements"
   ]
  },
  {
   "cell_type": "code",
   "execution_count": null,
   "id": "fbe22402",
   "metadata": {},
   "outputs": [],
   "source": [
    "# print is used to display information to the console. It is mainly for the user to see the output or for debugging purposes. However, the value printed by print cannot be reused later in the program, as it doesn't store or pass the value anywhere. It always returns None.\n",
    "\n",
    "# return, on the other hand, is used to send a value back to the calling code. It allows the result of a function to be stored in a variable or used in further computations. Once a return statement is executed in a function, the function stops executing and exits."
   ]
  },
  {
   "cell_type": "markdown",
   "id": "35293c76",
   "metadata": {},
   "source": [
    "# 4.  What are *args and **kwargs"
   ]
  },
  {
   "cell_type": "code",
   "execution_count": 13,
   "id": "b9375a06",
   "metadata": {},
   "outputs": [
    {
     "name": "stdout",
     "output_type": "stream",
     "text": [
      "6\n",
      "22\n"
     ]
    }
   ],
   "source": [
    "#  *args:\n",
    "# Stands for arbitrary positional arguments.\n",
    "# Allows you to pass a variable number of arguments to a function.\n",
    "# Inside the function, *args is treated as a tuple of all the additional positional arguments passed.\n",
    "\n",
    "def sum_numbers(*args):\n",
    "    return sum(args)\n",
    "\n",
    "print(sum_numbers(1, 2, 3))  \n",
    "print(sum_numbers(4, 5, 6, 7))  "
   ]
  },
  {
   "cell_type": "code",
   "execution_count": 14,
   "id": "f368b799",
   "metadata": {},
   "outputs": [
    {
     "name": "stdout",
     "output_type": "stream",
     "text": [
      "name: Ajit\n",
      "age: 21\n",
      "country: India\n"
     ]
    }
   ],
   "source": [
    "# **kwargs:\n",
    "# Stands for arbitrary keyword arguments.\n",
    "# Allows you to pass a variable number of key-value pairs to a function.\n",
    "# Inside the function, **kwargs is treated as a dictionary.\n",
    "def greet(**kwargs):\n",
    "    for key, value in kwargs.items():\n",
    "        print(f\"{key}: {value}\")\n",
    "\n",
    "greet(name=\"Ajit\", age=21, country=\"India\")\n"
   ]
  },
  {
   "cell_type": "markdown",
   "id": "f3d025a6",
   "metadata": {},
   "source": [
    "#   5. Explain the iterator function"
   ]
  },
  {
   "cell_type": "code",
   "execution_count": 15,
   "id": "a10597d4",
   "metadata": {},
   "outputs": [
    {
     "name": "stdout",
     "output_type": "stream",
     "text": [
      "1\n",
      "2\n",
      "3\n",
      "4\n"
     ]
    }
   ],
   "source": [
    "# An iterator is an object in Python that allows you to traverse through all the elements of a collection (e.g., list, tuple, or dictionary) one at a time without using indexing. An iterator function is any function or mechanism that generates or works with an iterator.\n",
    "\n",
    "my_list = [1, 2, 3, 4]\n",
    "iterator = iter(my_list)  \n",
    "\n",
    "print(next(iterator)) \n",
    "print(next(iterator))  \n",
    "print(next(iterator))  \n",
    "print(next(iterator))"
   ]
  },
  {
   "cell_type": "markdown",
   "id": "69206d5f",
   "metadata": {},
   "source": [
    "# 6.  Write a code that generates the squares of numbers from 1 to n using a generator"
   ]
  },
  {
   "cell_type": "code",
   "execution_count": 17,
   "id": "0bd2f151",
   "metadata": {},
   "outputs": [
    {
     "name": "stdout",
     "output_type": "stream",
     "text": [
      "Enter the value of n: 4\n",
      "Squares of numbers from 1 to 4:\n",
      "1\n",
      "4\n",
      "9\n",
      "16\n"
     ]
    }
   ],
   "source": [
    "def generate_squares(n):\n",
    "    for i in range(1, n + 1):\n",
    "        yield i ** 2  # Generate the square of the current number\n",
    "\n",
    "n = int(input(\"Enter the value of n: \"))\n",
    "squares = generate_squares(n)\n",
    "\n",
    "print(f\"Squares of numbers from 1 to {n}:\")\n",
    "for square in squares:\n",
    "    print(square)\n"
   ]
  },
  {
   "cell_type": "markdown",
   "id": "a783f33a",
   "metadata": {},
   "source": [
    "# 7.  Write a code that generates palindromic numbers up to n using a generator"
   ]
  },
  {
   "cell_type": "code",
   "execution_count": 23,
   "id": "4f5ec1bf",
   "metadata": {},
   "outputs": [
    {
     "name": "stdout",
     "output_type": "stream",
     "text": [
      "Enter the value of n: 16\n",
      "Palindromic numbers up to 16:\n",
      "1\n",
      "2\n",
      "3\n",
      "4\n",
      "5\n",
      "6\n",
      "7\n",
      "8\n",
      "9\n",
      "11\n"
     ]
    }
   ],
   "source": [
    "def generate_palindromes(n):\n",
    "    for i in range(1, n + 1):\n",
    "        if str(i) == str(i)[::-1]:  # Check if the number is a palindrome\n",
    "            yield i  # Yield the palindromic number\n",
    "\n",
    "# Usage\n",
    "n = int(input(\"Enter the value of n: \"))\n",
    "palindromes = generate_palindromes(n)\n",
    "\n",
    "print(f\"Palindromic numbers up to {n}:\")\n",
    "for palindrome in palindromes:\n",
    "    print(palindrome)\n"
   ]
  },
  {
   "cell_type": "markdown",
   "id": "20ed8a26",
   "metadata": {},
   "source": [
    "# 8. Write a code that generates even numbers from 2 to n using a generator"
   ]
  },
  {
   "cell_type": "code",
   "execution_count": 26,
   "id": "35b0ca33",
   "metadata": {},
   "outputs": [
    {
     "name": "stdout",
     "output_type": "stream",
     "text": [
      "enter the values of n: 5\n",
      "even number up to 5:\n",
      "2\n",
      "4\n"
     ]
    }
   ],
   "source": [
    "def generate_even(n):\n",
    "    for i in range(1,n+1):\n",
    "        if i%2 ==0:\n",
    "            yield i\n",
    "n=int(input(\"enter the values of n: \"))\n",
    "evens=generate_even(n)\n",
    "\n",
    "print(f\"even number up to {n}:\")\n",
    "for even in evens:\n",
    "    print(even)"
   ]
  },
  {
   "cell_type": "markdown",
   "id": "f8d32e76",
   "metadata": {},
   "source": [
    "# 9. Write a code that generates powers of two up to n using a generator"
   ]
  },
  {
   "cell_type": "code",
   "execution_count": 32,
   "id": "e107f7fc",
   "metadata": {},
   "outputs": [
    {
     "name": "stdout",
     "output_type": "stream",
     "text": [
      "enter the value of n: 5\n",
      "power of two up to 5\n",
      "2\n",
      "4\n",
      "8\n",
      "16\n",
      "32\n"
     ]
    }
   ],
   "source": [
    "def generate_power(n):\n",
    "    \n",
    "    for i in range(1, n+1):\n",
    "        yield 2 **i\n",
    "        \n",
    "n=int(input(\"enter the value of n: \"))\n",
    "pow=generate_power(n)\n",
    "print(f\"power of two up to {n}\")\n",
    "for power in pow:\n",
    "    print(power)"
   ]
  },
  {
   "cell_type": "markdown",
   "id": "c01c69be",
   "metadata": {},
   "source": [
    "# 10.  Write a code that generates prime numbers up to n using a generator"
   ]
  },
  {
   "cell_type": "code",
   "execution_count": 34,
   "id": "e15beea3",
   "metadata": {},
   "outputs": [
    {
     "name": "stdout",
     "output_type": "stream",
     "text": [
      "Enter the value of n: 20\n",
      "Prime numbers up to 20:\n",
      "2\n",
      "3\n",
      "5\n",
      "7\n",
      "11\n",
      "13\n",
      "17\n",
      "19\n"
     ]
    }
   ],
   "source": [
    "def is_prime(num):\n",
    "    if num <1:\n",
    "        return False\n",
    "    else:\n",
    "        for i in range(2,num):\n",
    "            if num% i==0:\n",
    "                return False\n",
    "        return True\n",
    "    \n",
    "def generate_prime(n):\n",
    "    for i in range(2,n+1):\n",
    "        if is_prime(num):\n",
    "            yield num\n",
    "        \n",
    "n = int(input(\"Enter the value of n: \"))\n",
    "primes = generate_primes(n)\n",
    " \n",
    "print(f\"Prime numbers up to {n}:\")\n",
    "for prime in primes:\n",
    "    print(prime)\n"
   ]
  },
  {
   "cell_type": "markdown",
   "id": "f47e895d-dea1-45e8-a0e2-e0c1551d838d",
   "metadata": {},
   "source": [
    "# 11.  Write a code that uses a lambda function to calculate the sum of two numbers0"
   ]
  },
  {
   "cell_type": "code",
   "execution_count": 1,
   "id": "1618e0f7-b15a-46c9-885f-bfb9846c99ba",
   "metadata": {},
   "outputs": [
    {
     "name": "stdout",
     "output_type": "stream",
     "text": [
      "Sum: 12\n"
     ]
    }
   ],
   "source": [
    "sum_lambda = lambda a, b: a + b\n",
    "\n",
    "num1 = 5\n",
    "num2 = 7\n",
    "result = sum_lambda(num1, num2)\n",
    "\n",
    "print(\"Sum:\", result)  \n"
   ]
  },
  {
   "cell_type": "markdown",
   "id": "3861d695-8e1a-4126-bbbc-6fdbc5d984bc",
   "metadata": {},
   "source": [
    "# 12. Write a code that uses a lambda function to calculate the square of a given number"
   ]
  },
  {
   "cell_type": "code",
   "execution_count": 2,
   "id": "76b0e091-5581-4731-9a1a-f1e06f211781",
   "metadata": {},
   "outputs": [
    {
     "name": "stdout",
     "output_type": "stream",
     "text": [
      "Square of num : 25\n"
     ]
    }
   ],
   "source": [
    "square_lambda = lambda a, b: a ** b\n",
    "\n",
    "num1 = 5\n",
    "num2 = 2\n",
    "result = square_lambda(num1, num2)\n",
    "\n",
    "print(\"Square of num :\", result)  \n"
   ]
  },
  {
   "cell_type": "markdown",
   "id": "bbe9b4cd-3f62-4fd8-ac84-d62eeb3f2cc2",
   "metadata": {},
   "source": [
    "# 13. Write a code that uses a lambda function to check whether a given number is even or odd"
   ]
  },
  {
   "cell_type": "code",
   "execution_count": 3,
   "id": "a34a7757-259e-43c4-b0be-19cc6bed3e9e",
   "metadata": {},
   "outputs": [
    {
     "name": "stdin",
     "output_type": "stream",
     "text": [
      "enter the num 5\n"
     ]
    },
    {
     "name": "stdout",
     "output_type": "stream",
     "text": [
      "5  : is odd \n"
     ]
    }
   ],
   "source": [
    "check_lambda= lambda n :n%2\n",
    "num=eval(input(\"enter the num\"))\n",
    "if check_lambda(num)==0:\n",
    "    print(num,\" : is even\")\n",
    "else:\n",
    "    print(num,\" : is odd \")"
   ]
  },
  {
   "cell_type": "code",
   "execution_count": 4,
   "id": "68f46c39-a18b-4cc3-8bcf-3209abce48ba",
   "metadata": {},
   "outputs": [
    {
     "name": "stdin",
     "output_type": "stream",
     "text": [
      "Enter a number:  5\n"
     ]
    },
    {
     "name": "stdout",
     "output_type": "stream",
     "text": [
      "The number 5 is Odd.\n"
     ]
    }
   ],
   "source": [
    "# allternate method\n",
    "is_even = lambda num: \"Even\" if num % 2 == 0 else \"Odd\"\n",
    "\n",
    "num = int(input(\"Enter a number: \"))\n",
    "print(f\"The number {num} is {is_even(num)}.\")\n"
   ]
  },
  {
   "cell_type": "markdown",
   "id": "199ef395-3814-4656-b4ca-acd0f940db60",
   "metadata": {},
   "source": [
    "# 15. Write a code that uses a lambda function to concatenate two strings0"
   ]
  },
  {
   "cell_type": "code",
   "execution_count": 6,
   "id": "ffebed46-9478-4f22-a3fb-5b8f1751da94",
   "metadata": {},
   "outputs": [
    {
     "name": "stdout",
     "output_type": "stream",
     "text": [
      "concatenate two strings : hello python\n"
     ]
    }
   ],
   "source": [
    "concatenate_str= lambda str1,str2: str1+str2\n",
    "\n",
    "str1=\"hello\"\n",
    "str2=\" python\"\n",
    "result=concatenate_str(str1,str2)\n",
    "print(\"concatenate two strings :\",result)"
   ]
  },
  {
   "cell_type": "markdown",
   "id": "188f4084-dbe3-4a11-b375-8c9739bef46e",
   "metadata": {},
   "source": [
    "# 16.  Write a code that uses a lambda function to find the maximum of three given numbers"
   ]
  },
  {
   "cell_type": "code",
   "execution_count": 8,
   "id": "f2c009fe-75f3-4bbe-b3ad-41dc933d2daf",
   "metadata": {},
   "outputs": [
    {
     "name": "stdout",
     "output_type": "stream",
     "text": [
      "max num is  11\n"
     ]
    }
   ],
   "source": [
    "find_max= lambda a, b, c: a if (a > b and a > c) else (b if b > c else c)\n",
    "\n",
    "a=10\n",
    "b=11\n",
    "c=5\n",
    "\n",
    "print(\"max num is \",find_max(a,b,c))"
   ]
  },
  {
   "cell_type": "markdown",
   "id": "6da2875c-ce83-46a0-a208-b523e974a2b3",
   "metadata": {},
   "source": [
    "# 17. Write a code that generates the squares of even numbers from a given list"
   ]
  },
  {
   "cell_type": "code",
   "execution_count": 9,
   "id": "bf1280b0-d46c-43cf-8ff8-89d7836f5246",
   "metadata": {},
   "outputs": [
    {
     "name": "stdout",
     "output_type": "stream",
     "text": [
      "[4, 16, 36, 64, 100]\n"
     ]
    }
   ],
   "source": [
    "numbers = [1, 2, 3, 4, 5, 6, 7, 8, 9, 10]\n",
    "\n",
    "even_numbers = filter(lambda x: x % 2 == 0, numbers)\n",
    "\n",
    "squared_evens = map(lambda x: x ** 2, even_numbers)\n",
    "\n",
    "print(list(squared_evens))\n"
   ]
  },
  {
   "cell_type": "markdown",
   "id": "f2b2b1a8-34bb-4ea2-b738-f41a940f83c3",
   "metadata": {},
   "source": [
    "# 18.Write a code that calculates the product of positive numbers from a given list"
   ]
  },
  {
   "cell_type": "code",
   "execution_count": 10,
   "id": "d914a443-05c6-4d8d-b62a-e03e33dd021d",
   "metadata": {},
   "outputs": [
    {
     "name": "stdout",
     "output_type": "stream",
     "text": [
      "Product of positive numbers: 360\n"
     ]
    }
   ],
   "source": [
    "from functools import reduce\n",
    "\n",
    "numbers = [3, -2, 5, -7, 4, 0, 6]\n",
    "\n",
    "positive_numbers = filter(lambda x: x > 0, numbers)\n",
    "\n",
    "# Calculate the product using reduce()\n",
    "product = reduce(lambda x, y: x * y, positive_numbers, 1)  \n",
    "\n",
    "print(f\"Product of positive numbers: {product}\")\n"
   ]
  },
  {
   "cell_type": "markdown",
   "id": "7e9a983b-b683-4aea-910e-ef1a399a6992",
   "metadata": {},
   "source": [
    "# 19.  Write a code that doubles the values of odd numbers from a given list"
   ]
  },
  {
   "cell_type": "code",
   "execution_count": 11,
   "id": "2961c65c-bde7-4ecc-b314-e3b66e0bd2f6",
   "metadata": {},
   "outputs": [
    {
     "name": "stdout",
     "output_type": "stream",
     "text": [
      "[2, 6, 10, 14, 18]\n"
     ]
    }
   ],
   "source": [
    "numbers = [1, 2, 3, 4, 5, 6, 7, 8, 9, 10]\n",
    "\n",
    "odd_numbers = filter(lambda x: x % 2 != 0, numbers)\n",
    "\n",
    "doubles_odd = map(lambda x: x *2, odd_numbers)\n",
    "\n",
    "print(list(doubles_odd))"
   ]
  },
  {
   "cell_type": "markdown",
   "id": "ca2cbd9a-c1ca-4fcb-8cd5-6d2f0c41ddd7",
   "metadata": {},
   "source": [
    "# 20. Write a code that calculates the sum of cubes of numbers from a given list0"
   ]
  },
  {
   "cell_type": "code",
   "execution_count": 13,
   "id": "0fb35f2a-2c4d-4214-8c02-869b595234f4",
   "metadata": {},
   "outputs": [
    {
     "name": "stdout",
     "output_type": "stream",
     "text": [
      "sum of cubes of numbers from a given list : 216\n"
     ]
    }
   ],
   "source": [
    "numbers = [1, 2, 3]\n",
    "\n",
    "cube_num = map(lambda x: x **3, numbers)\n",
    "\n",
    "sum = reduce(lambda x, y: x * y, cube_num, 1)\n",
    "\n",
    "print(f\"sum of cubes of numbers from a given list : {sum}\")"
   ]
  },
  {
   "cell_type": "markdown",
   "id": "f1a8e0fb-b827-4c11-b9d1-5074770f2ea8",
   "metadata": {},
   "source": [
    "# 21. Write a code that filters out prime numbers from a given list"
   ]
  },
  {
   "cell_type": "code",
   "execution_count": 15,
   "id": "2343c2e0-7e05-4fdb-8f92-dda6634410f7",
   "metadata": {},
   "outputs": [
    {
     "name": "stdout",
     "output_type": "stream",
     "text": [
      "List after filtering out prime numbers: [17, 19, 23, 29]\n"
     ]
    }
   ],
   "source": [
    "def is_prime(n):\n",
    "    if n < 2:\n",
    "        return False\n",
    "    return all(n % i != 0 for i in range(2, int(n ** 0.5) + 1))\n",
    "\n",
    "numbers = [10, 15, 17, 19, 21, 23, 24, 29, 30]\n",
    "\n",
    "non_primes = list(filter(lambda x: is_prime(x), numbers))\n",
    "\n",
    "print(f\"List after filtering out prime numbers: {non_primes}\")\n"
   ]
  },
  {
   "cell_type": "markdown",
   "id": "0594a4a9-cc6e-4ca5-be53-ce35a96d85a0",
   "metadata": {},
   "source": [
    "# 22 to 26 repeated question"
   ]
  },
  {
   "cell_type": "markdown",
   "id": "dfbf6120-38d6-4b8d-9198-e87c37001ff4",
   "metadata": {},
   "source": [
    "# 27. What is encapsulation in OOP?"
   ]
  },
  {
   "cell_type": "markdown",
   "id": "c4386eff-a332-4d74-8abe-6e7028a60a68",
   "metadata": {},
   "source": [
    "### Encapsulation in OOP is the concept of hiding data within a class and restricting direct access to it. This is done using private variables and getter/setter methods to control modifications."
   ]
  },
  {
   "cell_type": "code",
   "execution_count": 18,
   "id": "2a3c82c8-4ac5-4e42-a506-4c710d79659c",
   "metadata": {},
   "outputs": [
    {
     "name": "stdout",
     "output_type": "stream",
     "text": [
      "7000\n"
     ]
    },
    {
     "ename": "AttributeError",
     "evalue": "'BankAccount' object has no attribute '__balance'",
     "output_type": "error",
     "traceback": [
      "\u001b[1;31m---------------------------------------------------------------------------\u001b[0m",
      "\u001b[1;31mAttributeError\u001b[0m                            Traceback (most recent call last)",
      "Cell \u001b[1;32mIn[18], line 17\u001b[0m\n\u001b[0;32m     14\u001b[0m account\u001b[38;5;241m.\u001b[39mdeposit(\u001b[38;5;241m2000\u001b[39m)\n\u001b[0;32m     15\u001b[0m \u001b[38;5;28mprint\u001b[39m(account\u001b[38;5;241m.\u001b[39mget_balance())  \u001b[38;5;66;03m# ✅ Output: 7000\u001b[39;00m\n\u001b[1;32m---> 17\u001b[0m \u001b[38;5;28mprint\u001b[39m(\u001b[43maccount\u001b[49m\u001b[38;5;241;43m.\u001b[39;49m\u001b[43m__balance\u001b[49m)  \u001b[38;5;66;03m# This will cause an error (private attribute)\u001b[39;00m\n",
      "\u001b[1;31mAttributeError\u001b[0m: 'BankAccount' object has no attribute '__balance'"
     ]
    }
   ],
   "source": [
    "# example\n",
    "class BankAccount:\n",
    "    def __init__(self, balance):\n",
    "        self.__balance = balance  # Private attribute\n",
    "\n",
    "    def deposit(self, amount):\n",
    "        self.__balance += amount\n",
    "\n",
    "    def get_balance(self):  # Getter method\n",
    "        return self.__balance\n",
    "\n",
    "# Usage\n",
    "account = BankAccount(5000)\n",
    "account.deposit(2000)\n",
    "print(account.get_balance())  # ✅ Output: 7000\n",
    "\n",
    "print(account.__balance)  # This will cause an error (private attribute)"
   ]
  },
  {
   "cell_type": "markdown",
   "id": "9d1cb0bf-475b-46dd-9048-b4fa83c15848",
   "metadata": {},
   "source": [
    "# 28. Explain the use of access modifiers in Python classes."
   ]
  },
  {
   "cell_type": "code",
   "execution_count": null,
   "id": "f8e6502f-51b9-4280-bcbc-dd622e9563f7",
   "metadata": {},
   "outputs": [],
   "source": [
    "# Use of Access Modifiers:\n",
    "# 1.Public (no prefix): Accessible anywhere.\n",
    "# 2.Protected (_prefix): Intended for internal use but accessible outside.\n",
    "# 3.Private (__prefix): Not accessible outside the class (name-mangling).\n",
    "# Access modifiers help in encapsulating the internal state of objects and protecting them from unintended modification. "
   ]
  },
  {
   "cell_type": "markdown",
   "id": "b2fa0ffc-9bc1-47a0-be6d-6461e1d92b9e",
   "metadata": {},
   "source": [
    "# 29.What is inheritance in OOP%."
   ]
  },
  {
   "cell_type": "code",
   "execution_count": null,
   "id": "108a6cf1-de7d-44ad-a067-79f9ff49841f",
   "metadata": {},
   "outputs": [],
   "source": [
    "# Inheritance in OOP\n",
    "# Inheritance is an important concept in Object-Oriented Programming (OOP) that allows a class (child class) to inherit attributes and methods from another class (parent class). It promotes code reuse and reduces redundancy.\n",
    "\n",
    "# Types of Inheritance in Python:\n",
    "# Single Inheritance – One child class inherits from one parent class.\n",
    "# Multiple Inheritance – A child class inherits from multiple parent classes.\n",
    "# Multilevel Inheritance – A child class inherits from another child class.\n",
    "# Hierarchical Inheritance – Multiple child classes inherit from a single parent class.\n",
    "# Hybrid Inheritance – A mix of two or more types of inheritance."
   ]
  },
  {
   "cell_type": "markdown",
   "id": "877331b2-dc99-4f94-97c4-8140eb77b1be",
   "metadata": {},
   "source": [
    "# 30.Define polymorphism in OOP"
   ]
  },
  {
   "cell_type": "code",
   "execution_count": null,
   "id": "410d3767-56e6-4d55-a785-d8ac4a649679",
   "metadata": {},
   "outputs": [],
   "source": [
    "# Polymorphism in OOP\n",
    "# Polymorphism means \"many forms\" and allows objects of different classes to be treated as objects of a common superclass. It enables the same method name to behave differently based on the object that calls it.\n",
    "\n",
    "# Types of Polymorphism:\n",
    "# Method Overriding (Runtime Polymorphism) – A child class provides a different implementation for a method that is already defined in the parent class.\n",
    "# Method Overloading (Compile-time Polymorphism, Not natively supported in Python) – Same method name with different parameters (achieved using default arguments).\n",
    "# Operator Overloading – Defining how operators (+, *, etc.) work with objects of a class."
   ]
  },
  {
   "cell_type": "markdown",
   "id": "39b6a9f1-f59c-447d-9e2f-2c75d017e6aa",
   "metadata": {},
   "source": [
    "# 31.Explain method overriding in Python"
   ]
  },
  {
   "cell_type": "code",
   "execution_count": 20,
   "id": "30d338bd-289d-48a5-9618-351869c035fd",
   "metadata": {},
   "outputs": [
    {
     "name": "stdout",
     "output_type": "stream",
     "text": [
      "Animal makes a sound\n",
      "Dog barks\n"
     ]
    }
   ],
   "source": [
    "# Method Overriding (Runtime Polymorphism) – A child class provides a different implementation for a method that is already defined in the parent class.\n",
    "class Animal:\n",
    "    def speak(self):\n",
    "        print(\"Animal makes a sound\")\n",
    "\n",
    "class Dog(Animal):\n",
    "    def speak(self):  # Overriding the parent class method\n",
    "        print(\"Dog barks\")\n",
    "\n",
    "# Usage\n",
    "a = Animal()\n",
    "a.speak()  \n",
    "\n",
    "d = Dog()\n",
    "d.speak()"
   ]
  },
  {
   "cell_type": "markdown",
   "id": "186f38c7-904a-4d8b-9534-041414315eba",
   "metadata": {},
   "source": [
    "# 32.Define a parent class Animal with a method make_sound that prints \"Generic animal sound\". Create a child class Dog inheriting from Animal with a method make_sound that prints \"Woof!\""
   ]
  },
  {
   "cell_type": "code",
   "execution_count": 21,
   "id": "1cf68132-a30a-4435-80de-1f8e650f15bc",
   "metadata": {},
   "outputs": [
    {
     "name": "stdout",
     "output_type": "stream",
     "text": [
      "woof!\n"
     ]
    }
   ],
   "source": [
    "class Animal:\n",
    "    def make_sound(self):\n",
    "        print(\"generic animal sound\")\n",
    "class Dog(Animal):\n",
    "    def make_sound(self):\n",
    "        print(\"woof!\")\n",
    "a=Dog()\n",
    "a.make_sound()\n",
    "    "
   ]
  },
  {
   "cell_type": "markdown",
   "id": "45d591e2-0bc3-4b99-b822-97219fc3cdb1",
   "metadata": {},
   "source": [
    "# 33.  Define a method move in the Animal class that prints \"Animal moves\". Override the move method in the Dog class to print \"Dog runs.8"
   ]
  },
  {
   "cell_type": "code",
   "execution_count": 22,
   "id": "853d07a0-f652-4a37-9bae-ba4b6d55f482",
   "metadata": {},
   "outputs": [
    {
     "name": "stdout",
     "output_type": "stream",
     "text": [
      "Animal moves\n",
      "Dog runs.8\n"
     ]
    }
   ],
   "source": [
    "class Animal:\n",
    "    def move(self):\n",
    "        print(\"Animal moves\")\n",
    "class Dog(Animal):\n",
    "    def move(self):\n",
    "        print(\"Dog runs.8\")\n",
    "b=Animal()\n",
    "b.move()\n",
    "a=Dog()\n",
    "a.move()\n",
    "    "
   ]
  },
  {
   "cell_type": "markdown",
   "id": "17fc940d-a1fb-40ea-a378-ab8bcf7da2fc",
   "metadata": {},
   "source": [
    "# 34. Create a class Mammal with a method reproduce that prints \"Giving birth to live young.\" Create a class DogMammal inheriting from both Dog and Mammal"
   ]
  },
  {
   "cell_type": "code",
   "execution_count": 23,
   "id": "0c865325-5346-490b-bdb4-14d05e6cc72f",
   "metadata": {},
   "outputs": [
    {
     "name": "stdout",
     "output_type": "stream",
     "text": [
      "Giving birth to live young.\n",
      "Dog gives milk\n"
     ]
    }
   ],
   "source": [
    "class Mammal:\n",
    "    def reproduce(self):\n",
    "        print(\"Giving birth to live young.\")\n",
    "class Dog(Mammal):\n",
    "    def dogproduce(self):\n",
    "        print(\"Dog gives milk\")\n",
    "a=Dog()\n",
    "a.reproduce()\n",
    "a.dogproduce()"
   ]
  },
  {
   "cell_type": "markdown",
   "id": "83abc084-7416-4911-ae27-1abb3eb20ca9",
   "metadata": {},
   "source": [
    "# 35. Create a class GermanShepherd inheriting from Dog and override the make_sound method to print \"Bark!8"
   ]
  },
  {
   "cell_type": "code",
   "execution_count": 25,
   "id": "db846684-12da-42c2-8b4f-f4d1190e7c9f",
   "metadata": {},
   "outputs": [
    {
     "name": "stdout",
     "output_type": "stream",
     "text": [
      "Bark18\n"
     ]
    }
   ],
   "source": [
    "class Dog():\n",
    "    def make_sound(self):\n",
    "        print(\"woof!\")\n",
    "\n",
    "class GermanShepherd(Dog):\n",
    "    def make_sound(self):\n",
    "        print(\"Bark18\")\n",
    "A=GermanShepherd()\n",
    "A.make_sound()"
   ]
  },
  {
   "cell_type": "markdown",
   "id": "75f5bb4e-4d1f-4c71-ac5b-e9568d341a8c",
   "metadata": {},
   "source": [
    "# 36. Define constructors in both the Animal and Dog classes with different initialization parameters"
   ]
  },
  {
   "cell_type": "code",
   "execution_count": 26,
   "id": "d6a1d85c-d90c-4e7c-81a1-76c120a09872",
   "metadata": {},
   "outputs": [
    {
     "name": "stdout",
     "output_type": "stream",
     "text": [
      "Species: Mammal\n",
      "Species: Mammal, Breed: Labrador\n"
     ]
    }
   ],
   "source": [
    "class Animal:\n",
    "    def __init__(self, species):  \n",
    "        self.species = species\n",
    "\n",
    "    def show_info(self):\n",
    "        print(f\"Species: {self.species}\")\n",
    "\n",
    "class Dog(Animal):\n",
    "    def __init__(self, species, breed):  \n",
    "        super().__init__(species)  \n",
    "        self.breed = breed\n",
    "\n",
    "    def show_info(self):\n",
    "        print(f\"Species: {self.species}, Breed: {self.breed}\")\n",
    "\n",
    "# Creating objects\n",
    "animal = Animal(\"Mammal\")\n",
    "animal.show_info()  \n",
    "\n",
    "dog = Dog(\"Mammal\", \"Labrador\")\n",
    "dog.show_info()  \n"
   ]
  },
  {
   "cell_type": "markdown",
   "id": "003a320e-39c6-4a73-bb46-44b26f2c5d34",
   "metadata": {},
   "source": [
    "# 37. What is abstraction in Python? How is it implemented"
   ]
  },
  {
   "cell_type": "code",
   "execution_count": 27,
   "id": "bed2ae8a-44b4-4c49-8280-aa5cba214523",
   "metadata": {},
   "outputs": [
    {
     "name": "stdout",
     "output_type": "stream",
     "text": [
      "Bark\n",
      "Meow\n"
     ]
    }
   ],
   "source": [
    "# Abstraction :-\n",
    "# Abstraction is the process of hiding implementation details and showing only the necessary functionalities. It helps in designing cleaner, modular, and more maintainable code.\n",
    "\n",
    "# In Python, abstraction is implemented using abstract classes and methods, which are provided by the abc (Abstract Base Class) module.\n",
    "\n",
    "\n",
    "# How to Implement Abstraction in Python?\n",
    "# Use the ABC class from the abc module to define an abstract class.\n",
    "# Define abstract methods using the @abstractmethod decorator.\n",
    "# A child class must implement all abstract methods of the parent abstract class; otherwise, it cannot be instantiated.\n",
    "\n",
    "from abc import ABC, abstractmethod\n",
    "\n",
    "# Abstract class\n",
    "class Animal(ABC):\n",
    "    @abstractmethod\n",
    "    def make_sound(self):\n",
    "        pass  \n",
    "\n",
    "class Dog(Animal):\n",
    "    def make_sound(self):\n",
    "        return \"Bark\"\n",
    "\n",
    "class Cat(Animal):\n",
    "    def make_sound(self):\n",
    "        return \"Meow\"\n",
    "\n",
    "\n",
    "dog = Dog()\n",
    "cat = Cat()\n",
    "\n",
    "print(dog.make_sound())\n",
    "print(cat.make_sound()) \n",
    "\n",
    "\n"
   ]
  },
  {
   "cell_type": "markdown",
   "id": "5c88614b-09aa-48a2-84d1-5a8dfca9f430",
   "metadata": {},
   "source": [
    "# 38. Explain the importance of abstraction in object-oriented programming."
   ]
  },
  {
   "cell_type": "code",
   "execution_count": 28,
   "id": "8560e772-183b-4f35-bf81-335b60af9aae",
   "metadata": {},
   "outputs": [],
   "source": [
    "# importance of abstraction in object-oriented programming\n",
    "# Hides Unnecessary Details – Users interact with an interface rather than worrying about internal logic.\n",
    "# Enhances Code Readability – Focuses on what an object does rather than how it does it. Improves Maintainability – Changes in implementation do not affect the rest of the code.\n",
    "# Increases Reusability – Abstract classes provide a blueprint that multiple child classes can follow.\n",
    "# Enforces Standardization – Ensures that all subclasses implement essential methods."
   ]
  },
  {
   "cell_type": "markdown",
   "id": "af6b9757-0e3d-4daf-815c-f1a15e0a9ede",
   "metadata": {},
   "source": [
    "# 39. How are abstract methods different from regular methods in Python."
   ]
  },
  {
   "cell_type": "code",
   "execution_count": 31,
   "id": "38aff0fd-8d3c-480e-ba2c-3c797602b908",
   "metadata": {},
   "outputs": [
    {
     "name": "stdout",
     "output_type": "stream",
     "text": [
      "Bark\n",
      "Animals have different sounds.\n"
     ]
    },
    {
     "ename": "TypeError",
     "evalue": "Can't instantiate abstract class Animal without an implementation for abstract method 'make_sound'",
     "output_type": "error",
     "traceback": [
      "\u001b[1;31m---------------------------------------------------------------------------\u001b[0m",
      "\u001b[1;31mTypeError\u001b[0m                                 Traceback (most recent call last)",
      "Cell \u001b[1;32mIn[31], line 34\u001b[0m\n\u001b[0;32m     32\u001b[0m dog\u001b[38;5;241m.\u001b[39mmake_sound()  \n\u001b[0;32m     33\u001b[0m dog\u001b[38;5;241m.\u001b[39minfo()        \n\u001b[1;32m---> 34\u001b[0m animal \u001b[38;5;241m=\u001b[39m \u001b[43mAnimal\u001b[49m\u001b[43m(\u001b[49m\u001b[43m)\u001b[49m  \u001b[38;5;66;03m# ERROR: Abstract class cannot be instantiated\u001b[39;00m\n",
      "\u001b[1;31mTypeError\u001b[0m: Can't instantiate abstract class Animal without an implementation for abstract method 'make_sound'"
     ]
    }
   ],
   "source": [
    "# Abstract Methods\n",
    "\n",
    "    # Declared in an abstract class using @abstractmethod.\n",
    "    # No implementation in the abstract class.\n",
    "    # Must be overridden in a subclass.\n",
    "    # A class with abstract methods cannot be instantiated.\n",
    "\n",
    "# Regular Methods\n",
    "\n",
    "    # Defined normally in any class.\n",
    "    # Has implementation in the same class.\n",
    "    # Can be used as is or overridden optionally.\n",
    "    # A class with only regular methods can be instantiated.\n",
    "\n",
    "from abc import ABC, abstractmethod\n",
    "\n",
    "# Abstract class\n",
    "class Animal(ABC):\n",
    "    @abstractmethod\n",
    "    def make_sound(self):  # Abstract Method\n",
    "        pass\n",
    "\n",
    "    def info(self):  # Regular Method\n",
    "        print(\"Animals have different sounds.\")\n",
    "\n",
    "# Concrete class\n",
    "class Dog(Animal):\n",
    "    def make_sound(self):  \n",
    "        print(\"Bark\")\n",
    "\n",
    "dog = Dog()\n",
    "dog.make_sound()  \n",
    "dog.info()        \n",
    "animal = Animal()  # ERROR: Abstract class cannot be instantiated"
   ]
  },
  {
   "cell_type": "markdown",
   "id": "17e70337-7033-4387-b297-80c0fc57a55d",
   "metadata": {},
   "source": [
    "# 40. How can you achieve abstraction using interfaces in Python."
   ]
  },
  {
   "cell_type": "code",
   "execution_count": 32,
   "id": "2ca3fee7-0d5d-4083-92bd-87de710fe0c2",
   "metadata": {},
   "outputs": [
    {
     "name": "stdout",
     "output_type": "stream",
     "text": [
      "Car engine started\n",
      "Car engine stopped\n",
      "Bike engine started\n",
      "Bike engine stopped\n"
     ]
    }
   ],
   "source": [
    "# Achieving Abstraction Using Interfaces in Python\n",
    "# Python does not have a built-in interface keyword like Java, but abstraction can be achieved using interfaces by leveraging abstract classes from the abc module.\n",
    "\n",
    "# How to Implement an Interface in Python?\n",
    "# An interface is a class that only contains abstract methods (no implementation). Any class that implements the interface must provide implementations for all its methods.\n",
    "\n",
    "from abc import ABC, abstractmethod\n",
    "\n",
    "\n",
    "class Vehicle(ABC):\n",
    "    @abstractmethod\n",
    "    def start_engine(self):\n",
    "        pass  # No implementation\n",
    "\n",
    "    @abstractmethod\n",
    "    def stop_engine(self):\n",
    "        pass  # No implementation\n",
    "\n",
    "\n",
    "class Car(Vehicle):\n",
    "    def start_engine(self):\n",
    "        return \"Car engine started\"\n",
    "\n",
    "    def stop_engine(self):\n",
    "        return \"Car engine stopped\"\n",
    "\n",
    "\n",
    "class Bike(Vehicle):\n",
    "    def start_engine(self):\n",
    "        return \"Bike engine started\"\n",
    "\n",
    "    def stop_engine(self):\n",
    "        return \"Bike engine stopped\"\n",
    "\n",
    "# Usage\n",
    "car = Car()\n",
    "print(car.start_engine())  \n",
    "print(car.stop_engine())\n",
    "\n",
    "bike = Bike()\n",
    "print(bike.start_engine())\n",
    "print(bike.stop_engine())\n"
   ]
  },
  {
   "cell_type": "code",
   "execution_count": null,
   "id": "00f6e1f6-2d91-43ca-a2cf-86b7fb0cd7ba",
   "metadata": {},
   "outputs": [],
   "source": []
  }
 ],
 "metadata": {
  "kernelspec": {
   "display_name": "Python 3 (ipykernel)",
   "language": "python",
   "name": "python3"
  },
  "language_info": {
   "codemirror_mode": {
    "name": "ipython",
    "version": 3
   },
   "file_extension": ".py",
   "mimetype": "text/x-python",
   "name": "python",
   "nbconvert_exporter": "python",
   "pygments_lexer": "ipython3",
   "version": "3.12.0"
  },
  "widgets": {
   "application/vnd.jupyter.widget-state+json": {
    "state": {},
    "version_major": 2,
    "version_minor": 0
   }
  }
 },
 "nbformat": 4,
 "nbformat_minor": 5
}
